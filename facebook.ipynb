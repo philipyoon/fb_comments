{
 "cells": [
  {
   "cell_type": "markdown",
   "metadata": {},
   "source": [
    "Some Resources:\n",
    "- paper explaining some of the variables on pg 16.3: [link](https://ijssst.info/Vol-16/No-5/paper16.pdf)\n",
    "- random assignment based on this dataset, might give us some good questions to ask: [link](http://cse.ucdenver.edu/~biswasa/ml-s18/files/assignments/assignment-01/Programming-Assignment-1.pdf)"
   ]
  },
  {
   "cell_type": "markdown",
   "metadata": {},
   "source": [
    "**data import and preprocessing**"
   ]
  },
  {
   "cell_type": "code",
   "execution_count": 1,
   "metadata": {},
   "outputs": [],
   "source": [
    "# import modules\n",
    "import pandas as pd\n",
    "from pyspark.sql import SparkSession"
   ]
  },
  {
   "cell_type": "code",
   "execution_count": 2,
   "metadata": {},
   "outputs": [],
   "source": [
    "# build spark session and spark context\n",
    "spark = SparkSession.builder \\\n",
    "        .appName(\"fb\") \\\n",
    "        .getOrCreate()\n",
    "sc = spark.sparkContext"
   ]
  },
  {
   "cell_type": "code",
   "execution_count": 39,
   "metadata": {},
   "outputs": [],
   "source": [
    "#Need to change path when running\n",
    "train_path='/home/jovyan/Project/Training/'\n",
    "\n",
    "training_file=['Features_Variant_1.csv','Features_Variant_2.csv','Features_Variant_3.csv','Features_Variant_4.csv','Features_Variant_5.csv']\n",
    "\n",
    "fb = spark.read.csv(train_path+training_file[0])\n"
   ]
  },
  {
   "cell_type": "code",
   "execution_count": 6,
   "metadata": {},
   "outputs": [
    {
     "name": "stdout",
     "output_type": "stream",
     "text": [
      "+------+---+---+---+---+-----+------------------+---+-----------------+---+-----+-----------------+----+---------------+----+----+------------------+----+----------------+----+-----+------------------+----+-----------------+-----+-----+-----------------+----+-----------------+----+----+----+----+----+----+----+----+----+----+----+----+----+----+----+----+----+----+----+----+----+----+----+----+----+\n",
      "|   _c0|_c1|_c2|_c3|_c4|  _c5|               _c6|_c7|              _c8|_c9| _c10|             _c11|_c12|           _c13|_c14|_c15|              _c16|_c17|            _c18|_c19| _c20|              _c21|_c22|             _c23| _c24| _c25|             _c26|_c27|             _c28|_c29|_c30|_c31|_c32|_c33|_c34|_c35|_c36|_c37|_c38|_c39|_c40|_c41|_c42|_c43|_c44|_c45|_c46|_c47|_c48|_c49|_c50|_c51|_c52|_c53|\n",
      "+------+---+---+---+---+-----+------------------+---+-----------------+---+-----+-----------------+----+---------------+----+----+------------------+----+----------------+----+-----+------------------+----+-----------------+-----+-----+-----------------+----+-----------------+----+----+----+----+----+----+----+----+----+----+----+----+----+----+----+----+----+----+----+----+----+----+----+----+----+\n",
      "|634995|  0|463|  1|0.0|806.0|11.291044776119403|1.0|70.49513846124168|0.0|806.0|7.574626865671642| 0.0|69.435826365571| 0.0|76.0|2.6044776119402986| 0.0|8.50550186882253| 0.0|806.0|10.649253731343284| 1.0|70.25478763764251|-69.0|806.0|4.970149253731344| 0.0|69.85058043098057|   0|   0|   0|   0|   0|  65| 166|   2|   0|  24|   0|   0|   0|   1|   0|   0|   0|   0|   0|   0|   0|   0|   0|   1|   0|\n",
      "+------+---+---+---+---+-----+------------------+---+-----------------+---+-----+-----------------+----+---------------+----+----+------------------+----+----------------+----+-----+------------------+----+-----------------+-----+-----+-----------------+----+-----------------+----+----+----+----+----+----+----+----+----+----+----+----+----+----+----+----+----+----+----+----+----+----+----+----+----+\n",
      "only showing top 1 row\n",
      "\n"
     ]
    }
   ],
   "source": [
    "fb.show(1)"
   ]
  },
  {
   "cell_type": "code",
   "execution_count": 8,
   "metadata": {},
   "outputs": [],
   "source": [
    "# rename columns \n",
    "df = (fb.withColumnRenamed('_c0', 'PageLikes')              # page likes\n",
    "             .withColumnRenamed('_c1', 'PageCheckin')       # page's \"Check-in\" count\n",
    "             .withColumnRenamed('_c2', 'PageTalking')       # page's \"Talking About\" count\n",
    "             .withColumnRenamed('_c3', 'PageCategory')      # page category\n",
    "             \n",
    "            # C1: total comment count before selected base date/time\n",
    "             .withColumnRenamed('_c4', 'C1min')             # min of C1\n",
    "             .withColumnRenamed('_c5', 'C1max')             # max of C1\n",
    "             .withColumnRenamed('_c6', 'C1avg')             # avg of C1\n",
    "             .withColumnRenamed('_c7', 'C1med')             # median of C1\n",
    "             .withColumnRenamed('_c8', 'C1std')             # standard deviation of C1\n",
    "      \n",
    "            # C2: comment count in last 24 hrs w.r.t base date/time\n",
    "             .withColumnRenamed('_c9', 'C2min')             # min of C2\n",
    "             .withColumnRenamed('_c10', 'C2max')            # max of C2\n",
    "             .withColumnRenamed('_c11', 'C2avg')            # avg of C2\n",
    "             .withColumnRenamed('_c12', 'C2med')            # median of C2\n",
    "             .withColumnRenamed('_c13', 'C2std')            # standard deviation of C2\n",
    "    \n",
    "            # C3: comment count from last 48 to last 24 hrs w.r.t base date/time\n",
    "             .withColumnRenamed('_c14', 'C3min')            # min of C3\n",
    "             .withColumnRenamed('_c15', 'C3max')            # max of C3\n",
    "             .withColumnRenamed('_c16', 'C3avg')            # avg of C3\n",
    "             .withColumnRenamed('_c17', 'C3med')            # median of C3\n",
    "             .withColumnRenamed('_c18', 'C3std')            # standard deviation of C3\n",
    "\n",
    "            # C4: comment count in first 24 hrs after publishing document but before base date/time\n",
    "             .withColumnRenamed('_c19', 'C4min')            # min of C4\n",
    "             .withColumnRenamed('_c20', 'C4max')            # max of C4\n",
    "             .withColumnRenamed('_c21', 'C4avg')            # avg of C4\n",
    "             .withColumnRenamed('_c22', 'C4med')            # median of C4\n",
    "             .withColumnRenamed('_c23', 'C4std')            # standard deviation of C4\n",
    "      \n",
    "            # C5: difference between C2 and C3\n",
    "             .withColumnRenamed('_c24', 'C5min')            # min of C5\n",
    "             .withColumnRenamed('_c25', 'C5max')            # max of C5\n",
    "             .withColumnRenamed('_c26', 'C5avg')            # avg of C5\n",
    "             .withColumnRenamed('_c27', 'C5med')            # median of C5\n",
    "             .withColumnRenamed('_c28', 'C5std')            # standard deviation of C5\n",
    "      \n",
    "            # Other features\n",
    "             .withColumnRenamed('_c29', 'CC1')              # total number of comments before selected base date/time\n",
    "             .withColumnRenamed('_c30', 'CC2')              # number of comments in last 24 hours relative to base date/time\n",
    "             .withColumnRenamed('_c31', 'CC3')              # number of comments in last 48 hours to last 24 hours relative to base date/time\n",
    "             .withColumnRenamed('_c32', 'CC4')              # number of comments in the first 24 hours after the publication of post but before base date/time\n",
    "             .withColumnRenamed('_c33', 'CC5')              # difference between CC2 and CC3\n",
    "             .withColumnRenamed('_c34', 'BaseTime')         # selected time in order to simulate scenario (this is a decimal between 0-71, not sure what the number specifically means)\n",
    "             .withColumnRenamed('_c35', 'PostLength')       # character count in post\n",
    "             .withColumnRenamed('_c36', 'PostShare')        # number of shares of the post, how many people shared this post to their timeline\n",
    "             .withColumnRenamed('_c37', 'PagePromote')      # if the original poster \"promoted\" this post\n",
    "             .withColumnRenamed('_c38', 'HLocal')           # describes the hours past for target variable\n",
    "             \n",
    "            # Binary variables that represent the day(Sun-Sat) on which the post was published\n",
    "             .withColumnRenamed('_c39', 'PostSun')         \n",
    "             .withColumnRenamed('_c40', 'PostMon')          \n",
    "             .withColumnRenamed('_c41', 'PostTue') \n",
    "             .withColumnRenamed('_c42', 'PostWed') \n",
    "             .withColumnRenamed('_c43', 'PostThu') \n",
    "             .withColumnRenamed('_c44', 'PostFri')   \n",
    "             .withColumnRenamed('_c45', 'PostSat') \n",
    "      \n",
    "            # Binary variables that represent the day(Sun-Sat) of selected base Date/Time\n",
    "             .withColumnRenamed('_c46', 'BaseSun')          \n",
    "             .withColumnRenamed('_c47', 'BaseMon') \n",
    "             .withColumnRenamed('_c48', 'BaseTue')   \n",
    "             .withColumnRenamed('_c49', 'BaseWed') \n",
    "             .withColumnRenamed('_c50', 'BaseThu')   \n",
    "             .withColumnRenamed('_c51', 'BaseFri')\n",
    "             .withColumnRenamed('_c52', 'BaseSat') \n",
    "      \n",
    "            # Target Variable: number of comments in next H hrs after comment was posted\n",
    "             .withColumnRenamed('_c53', 'Comments'))       \n"
   ]
  },
  {
   "cell_type": "code",
   "execution_count": 26,
   "metadata": {},
   "outputs": [],
   "source": [
    "# cast data types to numerical values, save as new df named \"df_casted\"\n",
    "df_casted = df.select(\n",
    "                df.PageLikes.cast('float'),\n",
    "                df.PageCheckin.cast('float'),\n",
    "                df.PageTalking.cast('float'),\n",
    "                df.PageCategory.cast('int'),  # number corresponds to categories in pdf\n",
    "                df.C1min.cast('float'),\n",
    "                df.C1max.cast('float'),\n",
    "                df.C1avg.cast('float'),\n",
    "                df.C1med.cast('float'),\n",
    "                df.C1std.cast('float'),\n",
    "                df.C2min.cast('float'),\n",
    "                df.C2max.cast('float'),\n",
    "                df.C2avg.cast('float'),\n",
    "                df.C2med.cast('float'),\n",
    "                df.C2std.cast('float'),\n",
    "                df.C3min.cast('float'),\n",
    "                df.C3max.cast('float'),\n",
    "                df.C3avg.cast('float'),\n",
    "                df.C3med.cast('float'),\n",
    "                df.C3std.cast('float'),\n",
    "                df.C4min.cast('float'),\n",
    "                df.C4max.cast('float'),\n",
    "                df.C4avg.cast('float'),\n",
    "                df.C4med.cast('float'),\n",
    "                df.C4std.cast('float'),\n",
    "                df.C5min.cast('float'),\n",
    "                df.C5max.cast('float'),\n",
    "                df.C5avg.cast('float'),\n",
    "                df.C5med.cast('float'),\n",
    "                df.C5std.cast('float'),\n",
    "                df.CC1.cast('float'),\n",
    "                df.CC2.cast('float'),\n",
    "                df.CC3.cast('float'),\n",
    "                df.CC4.cast('float'),\n",
    "                df.CC5.cast('float'),\n",
    "                df.BaseTime.cast('float'),\n",
    "                df.PostLength.cast('float'),\n",
    "                df.PostShare.cast('float'),\n",
    "                df.PagePromote.cast('int'),  # integer encoded\n",
    "                df.HLocal.cast('float'),\n",
    "                df.PostSun.cast('int'),\n",
    "                df.PostMon.cast('int'),\n",
    "                df.PostTue.cast('int'),\n",
    "                df.PostWed.cast('int'),\n",
    "                df.PostThu.cast('int'),\n",
    "                df.PostFri.cast('int'),\n",
    "                df.PostSat.cast('int'),\n",
    "                df.BaseSun.cast('int'),\n",
    "                df.BaseMon.cast('int'),\n",
    "                df.BaseTue.cast('int'),\n",
    "                df.BaseThu.cast('int'),\n",
    "                df.BaseFri.cast('int'),\n",
    "                df.BaseSat.cast('int'),\n",
    "                df.Comments.cast('float')\n",
    ")"
   ]
  },
  {
   "cell_type": "code",
   "execution_count": 27,
   "metadata": {},
   "outputs": [
    {
     "name": "stdout",
     "output_type": "stream",
     "text": [
      "root\n",
      " |-- PageLikes: float (nullable = true)\n",
      " |-- PageCheckin: float (nullable = true)\n",
      " |-- PageTalking: float (nullable = true)\n",
      " |-- PageCategory: integer (nullable = true)\n",
      " |-- C1min: float (nullable = true)\n",
      " |-- C1max: float (nullable = true)\n",
      " |-- C1avg: float (nullable = true)\n",
      " |-- C1med: float (nullable = true)\n",
      " |-- C1std: float (nullable = true)\n",
      " |-- C2min: float (nullable = true)\n",
      " |-- C2max: float (nullable = true)\n",
      " |-- C2avg: float (nullable = true)\n",
      " |-- C2med: float (nullable = true)\n",
      " |-- C2std: float (nullable = true)\n",
      " |-- C3min: float (nullable = true)\n",
      " |-- C3max: float (nullable = true)\n",
      " |-- C3avg: float (nullable = true)\n",
      " |-- C3med: float (nullable = true)\n",
      " |-- C3std: float (nullable = true)\n",
      " |-- C4min: float (nullable = true)\n",
      " |-- C4max: float (nullable = true)\n",
      " |-- C4avg: float (nullable = true)\n",
      " |-- C4med: float (nullable = true)\n",
      " |-- C4std: float (nullable = true)\n",
      " |-- C5min: float (nullable = true)\n",
      " |-- C5max: float (nullable = true)\n",
      " |-- C5avg: float (nullable = true)\n",
      " |-- C5med: float (nullable = true)\n",
      " |-- C5std: float (nullable = true)\n",
      " |-- CC1: float (nullable = true)\n",
      " |-- CC2: float (nullable = true)\n",
      " |-- CC3: float (nullable = true)\n",
      " |-- CC4: float (nullable = true)\n",
      " |-- CC5: float (nullable = true)\n",
      " |-- BaseTime: float (nullable = true)\n",
      " |-- PostLength: float (nullable = true)\n",
      " |-- PostShare: float (nullable = true)\n",
      " |-- PagePromote: integer (nullable = true)\n",
      " |-- HLocal: float (nullable = true)\n",
      " |-- PostSun: integer (nullable = true)\n",
      " |-- PostMon: integer (nullable = true)\n",
      " |-- PostTue: integer (nullable = true)\n",
      " |-- PostWed: integer (nullable = true)\n",
      " |-- PostThu: integer (nullable = true)\n",
      " |-- PostFri: integer (nullable = true)\n",
      " |-- PostSat: integer (nullable = true)\n",
      " |-- BaseSun: integer (nullable = true)\n",
      " |-- BaseMon: integer (nullable = true)\n",
      " |-- BaseTue: integer (nullable = true)\n",
      " |-- BaseThu: integer (nullable = true)\n",
      " |-- BaseFri: integer (nullable = true)\n",
      " |-- BaseSat: integer (nullable = true)\n",
      " |-- Comments: float (nullable = true)\n",
      "\n"
     ]
    }
   ],
   "source": [
    "df_casted.printSchema()"
   ]
  },
  {
   "cell_type": "code",
   "execution_count": 28,
   "metadata": {},
   "outputs": [
    {
     "name": "stdout",
     "output_type": "stream",
     "text": [
      "+---------+-----------+-----------+------------+-----+-----+---------+-----+--------+-----+-----+--------+-----+--------+-----+-----+---------+-----+--------+-----+-----+---------+-----+--------+-----+-----+--------+-----+--------+---+---+---+---+----+--------+----------+---------+-----------+------+-------+-------+-------+-------+-------+-------+-------+-------+-------+-------+-------+-------+-------+--------+\n",
      "|PageLikes|PageCheckin|PageTalking|PageCategory|C1min|C1max|    C1avg|C1med|   C1std|C2min|C2max|   C2avg|C2med|   C2std|C3min|C3max|    C3avg|C3med|   C3std|C4min|C4max|    C4avg|C4med|   C4std|C5min|C5max|   C5avg|C5med|   C5std|CC1|CC2|CC3|CC4| CC5|BaseTime|PostLength|PostShare|PagePromote|HLocal|PostSun|PostMon|PostTue|PostWed|PostThu|PostFri|PostSat|BaseSun|BaseMon|BaseTue|BaseThu|BaseFri|BaseSat|Comments|\n",
      "+---------+-----------+-----------+------------+-----+-----+---------+-----+--------+-----+-----+--------+-----+--------+-----+-----+---------+-----+--------+-----+-----+---------+-----+--------+-----+-----+--------+-----+--------+---+---+---+---+----+--------+----------+---------+-----------+------+-------+-------+-------+-------+-------+-------+-------+-------+-------+-------+-------+-------+-------+--------+\n",
      "| 634995.0|        0.0|      463.0|           1|  0.0|806.0|11.291045|  1.0|70.49514|  0.0|806.0|7.574627|  0.0|69.43583|  0.0| 76.0|2.6044776|  0.0|8.505502|  0.0|806.0|10.649254|  1.0|70.25479|-69.0|806.0|4.970149|  0.0|69.85058|0.0|0.0|0.0|0.0| 0.0|    65.0|     166.0|      2.0|          0|  24.0|      0|      0|      0|      1|      0|      0|      0|      0|      0|      0|      0|      0|      1|     0.0|\n",
      "| 634995.0|        0.0|      463.0|           1|  0.0|806.0|11.291045|  1.0|70.49514|  0.0|806.0|7.574627|  0.0|69.43583|  0.0| 76.0|2.6044776|  0.0|8.505502|  0.0|806.0|10.649254|  1.0|70.25479|-69.0|806.0|4.970149|  0.0|69.85058|0.0|0.0|0.0|0.0| 0.0|    10.0|     132.0|      1.0|          0|  24.0|      0|      0|      0|      0|      1|      0|      0|      0|      0|      0|      0|      1|      0|     0.0|\n",
      "| 634995.0|        0.0|      463.0|           1|  0.0|806.0|11.291045|  1.0|70.49514|  0.0|806.0|7.574627|  0.0|69.43583|  0.0| 76.0|2.6044776|  0.0|8.505502|  0.0|806.0|10.649254|  1.0|70.25479|-69.0|806.0|4.970149|  0.0|69.85058|0.0|0.0|0.0|0.0| 0.0|    14.0|     133.0|      2.0|          0|  24.0|      0|      0|      0|      0|      0|      1|      0|      0|      0|      0|      0|      0|      1|     0.0|\n",
      "| 634995.0|        0.0|      463.0|           1|  0.0|806.0|11.291045|  1.0|70.49514|  0.0|806.0|7.574627|  0.0|69.43583|  0.0| 76.0|2.6044776|  0.0|8.505502|  0.0|806.0|10.649254|  1.0|70.25479|-69.0|806.0|4.970149|  0.0|69.85058|7.0|0.0|3.0|7.0|-3.0|    62.0|     131.0|      1.0|          0|  24.0|      0|      0|      0|      0|      0|      1|      0|      0|      1|      0|      0|      0|      0|     0.0|\n",
      "| 634995.0|        0.0|      463.0|           1|  0.0|806.0|11.291045|  1.0|70.49514|  0.0|806.0|7.574627|  0.0|69.43583|  0.0| 76.0|2.6044776|  0.0|8.505502|  0.0|806.0|10.649254|  1.0|70.25479|-69.0|806.0|4.970149|  0.0|69.85058|1.0|0.0|0.0|1.0| 0.0|    58.0|     142.0|      5.0|          0|  24.0|      0|      1|      0|      0|      0|      0|      0|      0|      0|      0|      0|      0|      0|     0.0|\n",
      "+---------+-----------+-----------+------------+-----+-----+---------+-----+--------+-----+-----+--------+-----+--------+-----+-----+---------+-----+--------+-----+-----+---------+-----+--------+-----+-----+--------+-----+--------+---+---+---+---+----+--------+----------+---------+-----------+------+-------+-------+-------+-------+-------+-------+-------+-------+-------+-------+-------+-------+-------+--------+\n",
      "only showing top 5 rows\n",
      "\n"
     ]
    }
   ],
   "source": [
    "df_casted.show(5)"
   ]
  },
  {
   "cell_type": "code",
   "execution_count": null,
   "metadata": {},
   "outputs": [],
   "source": []
  },
  {
   "cell_type": "markdown",
   "metadata": {},
   "source": [
    "One-hot encode PageCategory column"
   ]
  },
  {
   "cell_type": "code",
   "execution_count": 29,
   "metadata": {},
   "outputs": [],
   "source": [
    "from pyspark.ml.feature import OneHotEncoder, OneHotEncoderModel\n"
   ]
  },
  {
   "cell_type": "code",
   "execution_count": 36,
   "metadata": {},
   "outputs": [],
   "source": [
    "ohe1 = OneHotEncoder()\n",
    "ohe1.setInputCols([\"PageCategory\"])\n",
    "ohe1.setOutputCols([\"PageCategory_onehot\"])\n",
    "model1 = ohe1.fit(df_casted)\n",
    "model1.setOutputCols([\"PageCategory_onehot\"])\n",
    "df_oh=model1.transform(df_casted)"
   ]
  },
  {
   "cell_type": "code",
   "execution_count": 38,
   "metadata": {},
   "outputs": [
    {
     "name": "stdout",
     "output_type": "stream",
     "text": [
      "+---------+-----------+-----------+------------+-----+-----+---------+-----+--------+-----+-----+--------+-----+--------+-----+-----+---------+-----+--------+-----+-----+---------+-----+--------+-----+-----+--------+-----+--------+---+---+---+---+---+--------+----------+---------+-----------+------+-------+-------+-------+-------+-------+-------+-------+-------+-------+-------+-------+-------+-------+--------+-------------------+\n",
      "|PageLikes|PageCheckin|PageTalking|PageCategory|C1min|C1max|    C1avg|C1med|   C1std|C2min|C2max|   C2avg|C2med|   C2std|C3min|C3max|    C3avg|C3med|   C3std|C4min|C4max|    C4avg|C4med|   C4std|C5min|C5max|   C5avg|C5med|   C5std|CC1|CC2|CC3|CC4|CC5|BaseTime|PostLength|PostShare|PagePromote|HLocal|PostSun|PostMon|PostTue|PostWed|PostThu|PostFri|PostSat|BaseSun|BaseMon|BaseTue|BaseThu|BaseFri|BaseSat|Comments|PageCategory_onehot|\n",
      "+---------+-----------+-----------+------------+-----+-----+---------+-----+--------+-----+-----+--------+-----+--------+-----+-----+---------+-----+--------+-----+-----+---------+-----+--------+-----+-----+--------+-----+--------+---+---+---+---+---+--------+----------+---------+-----------+------+-------+-------+-------+-------+-------+-------+-------+-------+-------+-------+-------+-------+-------+--------+-------------------+\n",
      "| 634995.0|        0.0|      463.0|           1|  0.0|806.0|11.291045|  1.0|70.49514|  0.0|806.0|7.574627|  0.0|69.43583|  0.0| 76.0|2.6044776|  0.0|8.505502|  0.0|806.0|10.649254|  1.0|70.25479|-69.0|806.0|4.970149|  0.0|69.85058|0.0|0.0|0.0|0.0|0.0|    65.0|     166.0|      2.0|          0|  24.0|      0|      0|      0|      1|      0|      0|      0|      0|      0|      0|      0|      0|      1|     0.0|    (106,[1],[1.0])|\n",
      "+---------+-----------+-----------+------------+-----+-----+---------+-----+--------+-----+-----+--------+-----+--------+-----+-----+---------+-----+--------+-----+-----+---------+-----+--------+-----+-----+--------+-----+--------+---+---+---+---+---+--------+----------+---------+-----------+------+-------+-------+-------+-------+-------+-------+-------+-------+-------+-------+-------+-------+-------+--------+-------------------+\n",
      "only showing top 1 row\n",
      "\n"
     ]
    }
   ],
   "source": [
    "df_oh.show(1)"
   ]
  },
  {
   "cell_type": "code",
   "execution_count": null,
   "metadata": {},
   "outputs": [],
   "source": []
  }
 ],
 "metadata": {
  "kernelspec": {
   "display_name": "Python 3",
   "language": "python",
   "name": "python3"
  },
  "language_info": {
   "codemirror_mode": {
    "name": "ipython",
    "version": 3
   },
   "file_extension": ".py",
   "mimetype": "text/x-python",
   "name": "python",
   "nbconvert_exporter": "python",
   "pygments_lexer": "ipython3",
   "version": "3.7.3"
  }
 },
 "nbformat": 4,
 "nbformat_minor": 4
}

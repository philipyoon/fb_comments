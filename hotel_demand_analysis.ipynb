{
 "cells": [
  {
   "cell_type": "markdown",
   "metadata": {},
   "source": [
    "# Big Data Analytics of Hotel Bookings"
   ]
  },
  {
   "cell_type": "markdown",
   "metadata": {},
   "source": [
    "## 1. Data Import"
   ]
  },
  {
   "cell_type": "code",
   "execution_count": 99,
   "metadata": {},
   "outputs": [],
   "source": [
    "# import modules\n",
    "import pandas as pd\n",
    "import numpy as np\n",
    "from pyspark.sql import SparkSession\n",
    "\n",
    "# build spark session and spark context\n",
    "spark = SparkSession.builder \\\n",
    "        .master(\"local[4]\") \\\n",
    "        .appName(\"hotel\") \\\n",
    "        .getOrCreate()\n",
    "sc = spark.sparkContext\n",
    "\n",
    "df = spark.read.csv('hotel_bookings.csv',  inferSchema=True, header = True)"
   ]
  },
  {
   "cell_type": "markdown",
   "metadata": {},
   "source": [
    "## 2. Exploratory Data Analysis"
   ]
  },
  {
   "cell_type": "code",
   "execution_count": 100,
   "metadata": {},
   "outputs": [],
   "source": [
    "import matplotlib.pyplot as plt\n",
    "import seaborn as sns\n",
    "from pyspark.sql.functions import *\n",
    "import pyspark.sql.functions as f\n",
    "import numpy as np\n",
    "import pandas as pd"
   ]
  },
  {
   "cell_type": "code",
   "execution_count": 101,
   "metadata": {},
   "outputs": [
    {
     "name": "stdout",
     "output_type": "stream",
     "text": [
      "+-------+-------------------+\n",
      "|summary|        is_canceled|\n",
      "+-------+-------------------+\n",
      "|  count|             119390|\n",
      "|   mean|0.37041628277075134|\n",
      "| stddev| 0.4829182265925992|\n",
      "|    min|                  0|\n",
      "|    max|                  1|\n",
      "+-------+-------------------+\n",
      "\n"
     ]
    }
   ],
   "source": [
    "df.select(['is_canceled']).describe().show()"
   ]
  },
  {
   "cell_type": "code",
   "execution_count": 102,
   "metadata": {},
   "outputs": [
    {
     "name": "stdout",
     "output_type": "stream",
     "text": [
      "+-----------+-----+\n",
      "|is_canceled|count|\n",
      "+-----------+-----+\n",
      "|          1|44224|\n",
      "|          0|75166|\n",
      "+-----------+-----+\n",
      "\n"
     ]
    }
   ],
   "source": [
    "df.groupBy('is_canceled').count().show()"
   ]
  },
  {
   "cell_type": "code",
   "execution_count": 103,
   "metadata": {},
   "outputs": [
    {
     "data": {
      "text/html": [
       "<div>\n",
       "<style scoped>\n",
       "    .dataframe tbody tr th:only-of-type {\n",
       "        vertical-align: middle;\n",
       "    }\n",
       "\n",
       "    .dataframe tbody tr th {\n",
       "        vertical-align: top;\n",
       "    }\n",
       "\n",
       "    .dataframe thead th {\n",
       "        text-align: right;\n",
       "    }\n",
       "</style>\n",
       "<table border=\"1\" class=\"dataframe\">\n",
       "  <thead>\n",
       "    <tr style=\"text-align: right;\">\n",
       "      <th></th>\n",
       "      <th>0</th>\n",
       "      <th>1</th>\n",
       "      <th>2</th>\n",
       "      <th>3</th>\n",
       "      <th>4</th>\n",
       "    </tr>\n",
       "  </thead>\n",
       "  <tbody>\n",
       "    <tr>\n",
       "      <th>summary</th>\n",
       "      <td>count</td>\n",
       "      <td>mean</td>\n",
       "      <td>stddev</td>\n",
       "      <td>min</td>\n",
       "      <td>max</td>\n",
       "    </tr>\n",
       "    <tr>\n",
       "      <th>is_canceled</th>\n",
       "      <td>119390</td>\n",
       "      <td>0.37041628277075134</td>\n",
       "      <td>0.4829182265925992</td>\n",
       "      <td>0</td>\n",
       "      <td>1</td>\n",
       "    </tr>\n",
       "    <tr>\n",
       "      <th>lead_time</th>\n",
       "      <td>119390</td>\n",
       "      <td>104.01141636652986</td>\n",
       "      <td>106.86309704798789</td>\n",
       "      <td>0</td>\n",
       "      <td>737</td>\n",
       "    </tr>\n",
       "    <tr>\n",
       "      <th>arrival_date_year</th>\n",
       "      <td>119390</td>\n",
       "      <td>2016.156554150264</td>\n",
       "      <td>0.7074759445197123</td>\n",
       "      <td>2015</td>\n",
       "      <td>2017</td>\n",
       "    </tr>\n",
       "    <tr>\n",
       "      <th>arrival_date_week_number</th>\n",
       "      <td>119390</td>\n",
       "      <td>27.16517296255968</td>\n",
       "      <td>13.605138355497637</td>\n",
       "      <td>1</td>\n",
       "      <td>53</td>\n",
       "    </tr>\n",
       "    <tr>\n",
       "      <th>arrival_date_day_of_month</th>\n",
       "      <td>119390</td>\n",
       "      <td>15.798241058715135</td>\n",
       "      <td>8.780829470578368</td>\n",
       "      <td>1</td>\n",
       "      <td>31</td>\n",
       "    </tr>\n",
       "    <tr>\n",
       "      <th>stays_in_weekend_nights</th>\n",
       "      <td>119390</td>\n",
       "      <td>0.9275986263506156</td>\n",
       "      <td>0.9986134945978752</td>\n",
       "      <td>0</td>\n",
       "      <td>19</td>\n",
       "    </tr>\n",
       "    <tr>\n",
       "      <th>stays_in_week_nights</th>\n",
       "      <td>119390</td>\n",
       "      <td>2.500301532791691</td>\n",
       "      <td>1.9082856150479115</td>\n",
       "      <td>0</td>\n",
       "      <td>50</td>\n",
       "    </tr>\n",
       "    <tr>\n",
       "      <th>adults</th>\n",
       "      <td>119390</td>\n",
       "      <td>1.8564033838679956</td>\n",
       "      <td>0.5792609988327535</td>\n",
       "      <td>0</td>\n",
       "      <td>55</td>\n",
       "    </tr>\n",
       "    <tr>\n",
       "      <th>babies</th>\n",
       "      <td>119390</td>\n",
       "      <td>0.007948739425412514</td>\n",
       "      <td>0.09743619130126421</td>\n",
       "      <td>0</td>\n",
       "      <td>10</td>\n",
       "    </tr>\n",
       "    <tr>\n",
       "      <th>is_repeated_guest</th>\n",
       "      <td>119390</td>\n",
       "      <td>0.03191222045397437</td>\n",
       "      <td>0.17576714541065686</td>\n",
       "      <td>0</td>\n",
       "      <td>1</td>\n",
       "    </tr>\n",
       "    <tr>\n",
       "      <th>previous_cancellations</th>\n",
       "      <td>119390</td>\n",
       "      <td>0.08711784906608594</td>\n",
       "      <td>0.8443363841545107</td>\n",
       "      <td>0</td>\n",
       "      <td>26</td>\n",
       "    </tr>\n",
       "    <tr>\n",
       "      <th>previous_bookings_not_canceled</th>\n",
       "      <td>119390</td>\n",
       "      <td>0.13709690928888515</td>\n",
       "      <td>1.4974368477076778</td>\n",
       "      <td>0</td>\n",
       "      <td>72</td>\n",
       "    </tr>\n",
       "    <tr>\n",
       "      <th>booking_changes</th>\n",
       "      <td>119390</td>\n",
       "      <td>0.22112404724013737</td>\n",
       "      <td>0.652305572674772</td>\n",
       "      <td>0</td>\n",
       "      <td>21</td>\n",
       "    </tr>\n",
       "    <tr>\n",
       "      <th>days_in_waiting_list</th>\n",
       "      <td>119390</td>\n",
       "      <td>2.321149174972778</td>\n",
       "      <td>17.59472087877621</td>\n",
       "      <td>0</td>\n",
       "      <td>391</td>\n",
       "    </tr>\n",
       "    <tr>\n",
       "      <th>required_car_parking_spaces</th>\n",
       "      <td>119390</td>\n",
       "      <td>0.06251779881062065</td>\n",
       "      <td>0.24529114746749242</td>\n",
       "      <td>0</td>\n",
       "      <td>8</td>\n",
       "    </tr>\n",
       "    <tr>\n",
       "      <th>total_of_special_requests</th>\n",
       "      <td>119390</td>\n",
       "      <td>0.5713627607002262</td>\n",
       "      <td>0.7927984228094119</td>\n",
       "      <td>0</td>\n",
       "      <td>5</td>\n",
       "    </tr>\n",
       "  </tbody>\n",
       "</table>\n",
       "</div>"
      ],
      "text/plain": [
       "                                     0                     1  \\\n",
       "summary                          count                  mean   \n",
       "is_canceled                     119390   0.37041628277075134   \n",
       "lead_time                       119390    104.01141636652986   \n",
       "arrival_date_year               119390     2016.156554150264   \n",
       "arrival_date_week_number        119390     27.16517296255968   \n",
       "arrival_date_day_of_month       119390    15.798241058715135   \n",
       "stays_in_weekend_nights         119390    0.9275986263506156   \n",
       "stays_in_week_nights            119390     2.500301532791691   \n",
       "adults                          119390    1.8564033838679956   \n",
       "babies                          119390  0.007948739425412514   \n",
       "is_repeated_guest               119390   0.03191222045397437   \n",
       "previous_cancellations          119390   0.08711784906608594   \n",
       "previous_bookings_not_canceled  119390   0.13709690928888515   \n",
       "booking_changes                 119390   0.22112404724013737   \n",
       "days_in_waiting_list            119390     2.321149174972778   \n",
       "required_car_parking_spaces     119390   0.06251779881062065   \n",
       "total_of_special_requests       119390    0.5713627607002262   \n",
       "\n",
       "                                                  2     3     4  \n",
       "summary                                      stddev   min   max  \n",
       "is_canceled                      0.4829182265925992     0     1  \n",
       "lead_time                        106.86309704798789     0   737  \n",
       "arrival_date_year                0.7074759445197123  2015  2017  \n",
       "arrival_date_week_number         13.605138355497637     1    53  \n",
       "arrival_date_day_of_month         8.780829470578368     1    31  \n",
       "stays_in_weekend_nights          0.9986134945978752     0    19  \n",
       "stays_in_week_nights             1.9082856150479115     0    50  \n",
       "adults                           0.5792609988327535     0    55  \n",
       "babies                          0.09743619130126421     0    10  \n",
       "is_repeated_guest               0.17576714541065686     0     1  \n",
       "previous_cancellations           0.8443363841545107     0    26  \n",
       "previous_bookings_not_canceled   1.4974368477076778     0    72  \n",
       "booking_changes                   0.652305572674772     0    21  \n",
       "days_in_waiting_list              17.59472087877621     0   391  \n",
       "required_car_parking_spaces     0.24529114746749242     0     8  \n",
       "total_of_special_requests        0.7927984228094119     0     5  "
      ]
     },
     "execution_count": 103,
     "metadata": {},
     "output_type": "execute_result"
    }
   ],
   "source": [
    "# descriptives of numeric variables\n",
    "numeric_features = [t[0] for t in df.dtypes if t[1] == 'int']\n",
    "df.select(numeric_features).describe().toPandas().transpose()"
   ]
  },
  {
   "cell_type": "code",
   "execution_count": 104,
   "metadata": {},
   "outputs": [
    {
     "name": "stdout",
     "output_type": "stream",
     "text": [
      "+-------+------------------+-----------------------+--------------------+------------------+\n",
      "|summary|               adr|stays_in_weekend_nights|stays_in_week_nights|         lead_time|\n",
      "+-------+------------------+-----------------------+--------------------+------------------+\n",
      "|  count|            119390|                 119390|              119390|            119390|\n",
      "|   mean|101.83112153446551|     0.9275986263506156|   2.500301532791691|104.01141636652986|\n",
      "| stddev|50.535790285548764|     0.9986134945978752|  1.9082856150479115|106.86309704798789|\n",
      "|    min|             -6.38|                      0|                   0|                 0|\n",
      "|    max|            5400.0|                     19|                  50|               737|\n",
      "+-------+------------------+-----------------------+--------------------+------------------+\n",
      "\n"
     ]
    }
   ],
   "source": [
    "# average daily rate (ADR): defined by dividing the sum of all lodging transactions by the total number of staying nights\n",
    "# Number of stays in the weekday/weekend\n",
    "# lead_time: Number of days that elapsed between the entering date of the booking into the PMS and the arrival date\n",
    "df.select(['adr','stays_in_weekend_nights', 'stays_in_week_nights', 'lead_time']).describe().show()"
   ]
  },
  {
   "cell_type": "code",
   "execution_count": 105,
   "metadata": {},
   "outputs": [
    {
     "data": {
      "image/png": "[encoded data removed]",
      "text/plain": [
       "<Figure size 432x288 with 1 Axes>"
      ]
     },
     "metadata": {
      "needs_background": "light"
     },
     "output_type": "display_data"
    }
   ],
   "source": [
    "# value counts of stays_in_weekend_nights\n",
    "df_stayweekend = [val.stays_in_weekend_nights for val in df.select('stays_in_weekend_nights').collect()] \n",
    "\n",
    "# Histogram of stay_in_weekend_nights\n",
    "num_bins = 20\n",
    "n, bins, patches = plt.hist(df_stayweekend, num_bins, facecolor='purple', alpha=0.5)\n",
    "\n",
    "# Add title and axis names\n",
    "plt.title('Histogram of Stays in Weekend Nights')\n",
    "plt.xlabel('Days')\n",
    "plt.ylabel('Count')\n",
    "\n",
    "# Limits for the X axis\n",
    "# plt.xlim(0,10)\n",
    "\n",
    "# plt.savefig(\"Hist_Weekends.png\")\n",
    "plt.show()"
   ]
  },
  {
   "cell_type": "code",
   "execution_count": 106,
   "metadata": {},
   "outputs": [
    {
     "data": {
      "image/png": "[encoded data removed]",
      "text/plain": [
       "<Figure size 432x288 with 1 Axes>"
      ]
     },
     "metadata": {
      "needs_background": "light"
     },
     "output_type": "display_data"
    }
   ],
   "source": [
    "#list of stays_in_week_nights values\n",
    "df_stayweek = [val.stays_in_week_nights for val in df.select('stays_in_week_nights').collect()] \n",
    "\n",
    "#Histogram of stays_in_week_nights\n",
    "num_bins = 20\n",
    "n, bins, patches = plt.hist(df_stayweek, num_bins, facecolor='red', alpha=0.5)\n",
    "\n",
    "# Add title and axis names\n",
    "plt.title('Histogram of Stays in Week Nights')\n",
    "plt.xlabel('Days')\n",
    "plt.ylabel('Count')\n",
    "\n",
    "plt.savefig(\"Hist_Weeknights.png\")\n",
    "plt.show()"
   ]
  },
  {
   "cell_type": "code",
   "execution_count": 107,
   "metadata": {},
   "outputs": [
    {
     "data": {
      "image/png": "[encoded data removed]",
      "text/plain": [
       "<Figure size 432x288 with 1 Axes>"
      ]
     },
     "metadata": {
      "needs_background": "light"
     },
     "output_type": "display_data"
    }
   ],
   "source": [
    "#list of lead_time values\n",
    "df_lt = [val.lead_time for val in df.select('lead_time').collect()] \n",
    "\n",
    "#Histogram of lead_time\n",
    "num_bins = 20\n",
    "n, bins, patches = plt.hist(df_lt, num_bins, facecolor='blue', alpha=0.5)\n",
    "\n",
    "# Add title and axis names\n",
    "plt.title('Histogram of Days Between Booking and Arrival')\n",
    "plt.xlabel('Days')\n",
    "plt.ylabel('Count')\n",
    "\n",
    "# plt.savefig(\"Hist_LeadTime.png\")\n",
    "plt.show()"
   ]
  },
  {
   "cell_type": "code",
   "execution_count": 108,
   "metadata": {},
   "outputs": [
    {
     "name": "stdout",
     "output_type": "stream",
     "text": [
      "+-------+------------------+-------------------+--------------------+\n",
      "|summary|            adults|           children|              babies|\n",
      "+-------+------------------+-------------------+--------------------+\n",
      "|  count|            119390|             119390|              119390|\n",
      "|   mean|1.8564033838679956|0.10388990333874994|0.007948739425412514|\n",
      "| stddev|0.5792609988327535|0.39856144478644145| 0.09743619130126421|\n",
      "|    min|                 0|                  0|                   0|\n",
      "|    max|                55|                 NA|                  10|\n",
      "+-------+------------------+-------------------+--------------------+\n",
      "\n"
     ]
    }
   ],
   "source": [
    "# Whether patrons/customers were adults with children\n",
    "df.select(['adults', 'children', 'babies']).describe().show()"
   ]
  },
  {
   "cell_type": "code",
   "execution_count": 109,
   "metadata": {},
   "outputs": [
    {
     "name": "stdout",
     "output_type": "stream",
     "text": [
      "+-------+------------------+------------------+\n",
      "|summary|arrival_date_month| arrival_date_year|\n",
      "+-------+------------------+------------------+\n",
      "|  count|            119390|            119390|\n",
      "|   mean|              null| 2016.156554150264|\n",
      "| stddev|              null|0.7074759445197123|\n",
      "|    min|             April|              2015|\n",
      "|    max|         September|              2017|\n",
      "+-------+------------------+------------------+\n",
      "\n"
     ]
    }
   ],
   "source": [
    "# Arrival month and year to hotel\n",
    "df.select(['arrival_date_month', 'arrival_date_year']).describe().show()"
   ]
  },
  {
   "cell_type": "code",
   "execution_count": 110,
   "metadata": {},
   "outputs": [
    {
     "name": "stdout",
     "output_type": "stream",
     "text": [
      "+-----------------+-----------+-----+\n",
      "|arrival_date_year|is_canceled|count|\n",
      "+-----------------+-----------+-----+\n",
      "|             2015|          0|13854|\n",
      "|             2015|          1| 8142|\n",
      "|             2016|          0|36370|\n",
      "|             2016|          1|20337|\n",
      "|             2017|          0|24942|\n",
      "|             2017|          1|15745|\n",
      "+-----------------+-----------+-----+\n",
      "\n"
     ]
    }
   ],
   "source": [
    "# view counts of cancelation by year\n",
    "df.groupBy('arrival_date_year', 'is_canceled')\\\n",
    "    .count()\\\n",
    "    .sort('arrival_date_year', 'is_canceled')\\\n",
    "    .show()"
   ]
  },
  {
   "cell_type": "code",
   "execution_count": 111,
   "metadata": {},
   "outputs": [],
   "source": [
    "#Get counts of cancel or not cancel by hotel type\n",
    "nocancel_2015 = df.filter((col('arrival_date_year') == '2015') & (col('is_canceled') == 0)).count()\n",
    "cancel_2015 = df.filter((col('arrival_date_year') == '2015') & (col('is_canceled') == 1)).count()\n",
    "nocancel_2016 = df.filter((col('arrival_date_year') == '2016') & (col('is_canceled') == 0)).count()\n",
    "cancel_2016 = df.filter((col('arrival_date_year') == '2016') & (col('is_canceled') == 1)).count()\n",
    "nocancel_2017 = df.filter((col('arrival_date_year') == '2017') & (col('is_canceled') == 0)).count()\n",
    "cancel_2017 = df.filter((col('arrival_date_year') == '2017') & (col('is_canceled') == 1)).count()"
   ]
  },
  {
   "cell_type": "code",
   "execution_count": 112,
   "metadata": {},
   "outputs": [
    {
     "data": {
      "image/png": "[encoded data removed]",
      "text/plain": [
       "<Figure size 432x288 with 1 Axes>"
      ]
     },
     "metadata": {
      "needs_background": "light"
     },
     "output_type": "display_data"
    }
   ],
   "source": [
    "#Visualize cancellations by year\n",
    "\n",
    "x_year = [val.arrival_date_year for val in df.select('arrival_date_year').distinct().collect()]\n",
    "labels = x_year\n",
    "cancel0_count = [nocancel_2015, nocancel_2016, nocancel_2017]\n",
    "cancel1_count = [cancel_2015, cancel_2016, cancel_2017]\n",
    "\n",
    "x = np.arange(len(x_year))  # the label locations\n",
    "width = 0.35  # the width of the bars\n",
    "\n",
    "fig, ax = plt.subplots()\n",
    "rects1 = ax.bar(x - width/2, cancel0_count, width, label='0 = Not Canceled')\n",
    "rects2 = ax.bar(x + width/2, cancel1_count, width, label='1 = Canceled')\n",
    "\n",
    "# Add some text for labels, title and custom x-axis tick labels, etc.\n",
    "ax.set_ylabel('Count')\n",
    "ax.set_title('Count of Hotel Cancellations by Year')\n",
    "ax.set_xticks(x)\n",
    "ax.set_xticklabels(labels)\n",
    "ax.legend()\n",
    "\n",
    "# plt.savefig(\"Cancel_by_Year.png\")\n",
    "plt.show()"
   ]
  },
  {
   "cell_type": "code",
   "execution_count": 113,
   "metadata": {},
   "outputs": [
    {
     "name": "stdout",
     "output_type": "stream",
     "text": [
      "+------------+------------+-----------+------------------+\n",
      "|deposit_type|       hotel|is_canceled|          avg(adr)|\n",
      "+------------+------------+-----------+------------------+\n",
      "|  No Deposit|  City Hotel|          0| 105.7526466513691|\n",
      "|  No Deposit|  City Hotel|          1|112.00739824145536|\n",
      "|  No Deposit|Resort Hotel|          0| 90.93364290931946|\n",
      "|  No Deposit|Resort Hotel|          1|112.77001693121677|\n",
      "|  Non Refund|  City Hotel|          0| 99.77833333333335|\n",
      "|  Non Refund|  City Hotel|          1| 93.12289551541605|\n",
      "|  Non Refund|Resort Hotel|          0|  69.8572463768116|\n",
      "|  Non Refund|Resort Hotel|          1| 66.07261818181843|\n",
      "|  Refundable|  City Hotel|          0| 78.04166666666667|\n",
      "|  Refundable|  City Hotel|          1|130.80714285714285|\n",
      "|  Refundable|Resort Hotel|          0| 68.16483333333333|\n",
      "|  Refundable|Resort Hotel|          1| 84.84772727272728|\n",
      "+------------+------------+-----------+------------------+\n",
      "\n"
     ]
    }
   ],
   "source": [
    "#Indication on if the customer made a deposit to guarantee the booking.\n",
    "#No Deposit – no deposit was made\n",
    "#Non Refund – a deposit was made in the value of the total stay cost\n",
    "#Refundable – a deposit was made with a value under the total cost of stay.\n",
    "\n",
    "df.groupBy(\"deposit_type\", 'hotel', 'is_canceled').avg('adr').sort(\"deposit_type\", 'hotel', 'is_canceled').show()"
   ]
  },
  {
   "cell_type": "code",
   "execution_count": 114,
   "metadata": {},
   "outputs": [
    {
     "name": "stdout",
     "output_type": "stream",
     "text": [
      "+------------+-----------+-----+\n",
      "|deposit_type|is_canceled|count|\n",
      "+------------+-----------+-----+\n",
      "|  No Deposit|          1|29694|\n",
      "|  No Deposit|          0|74947|\n",
      "|  Non Refund|          0|   93|\n",
      "|  Non Refund|          1|14494|\n",
      "|  Refundable|          1|   36|\n",
      "|  Refundable|          0|  126|\n",
      "+------------+-----------+-----+\n",
      "\n"
     ]
    }
   ],
   "source": [
    "# view count of cancellation by deposit type\n",
    "df.groupBy(\"deposit_type\", 'is_canceled').count().sort(\"deposit_type\").show()"
   ]
  },
  {
   "cell_type": "code",
   "execution_count": 115,
   "metadata": {},
   "outputs": [
    {
     "name": "stdout",
     "output_type": "stream",
     "text": [
      "+------------+------------+-----------+-----+\n",
      "|deposit_type|       hotel|is_canceled|count|\n",
      "+------------+------------+-----------+-----+\n",
      "|  No Deposit|  City Hotel|          0|46198|\n",
      "|  No Deposit|  City Hotel|          1|20244|\n",
      "|  No Deposit|Resort Hotel|          0|28749|\n",
      "|  No Deposit|Resort Hotel|          1| 9450|\n",
      "|  Non Refund|  City Hotel|          0|   24|\n",
      "|  Non Refund|  City Hotel|          1|12844|\n",
      "|  Non Refund|Resort Hotel|          0|   69|\n",
      "|  Non Refund|Resort Hotel|          1| 1650|\n",
      "|  Refundable|  City Hotel|          0|    6|\n",
      "|  Refundable|  City Hotel|          1|   14|\n",
      "|  Refundable|Resort Hotel|          0|  120|\n",
      "|  Refundable|Resort Hotel|          1|   22|\n",
      "+------------+------------+-----------+-----+\n",
      "\n"
     ]
    }
   ],
   "source": [
    "# heck count of cancellations for deposit type\n",
    "df.groupBy(\"deposit_type\", 'hotel', 'is_canceled').count().sort(\"deposit_type\", 'hotel', 'is_canceled').show()"
   ]
  },
  {
   "cell_type": "code",
   "execution_count": 116,
   "metadata": {},
   "outputs": [],
   "source": [
    "#Data frame filtered by 0/1\n",
    "df_cancel0 = df.filter(col('is_canceled') == 0)\n",
    "df_cancel1 = df.filter(col('is_canceled') == 1)"
   ]
  },
  {
   "cell_type": "code",
   "execution_count": 117,
   "metadata": {},
   "outputs": [
    {
     "data": {
      "text/plain": [
       "[29694, 14494, 36]"
      ]
     },
     "execution_count": 117,
     "metadata": {},
     "output_type": "execute_result"
    }
   ],
   "source": [
    "#Deposit types\n",
    "deposit0 = df_cancel0.groupBy('deposit_type').count().sort('deposit_type')\n",
    "deposit1 = df_cancel1.groupBy('deposit_type').count().sort('deposit_type')\n",
    "\n",
    "#List of counts for non-cancelled deposity types\n",
    "deposit0_list = deposit0.select(\"count\").rdd.flatMap(lambda x: x).collect()\n",
    "deposit0_list\n",
    "\n",
    "#List of counts for cancelled deposity types\n",
    "deposit1_list = deposit1.select(\"count\").rdd.flatMap(lambda x: x).collect()\n",
    "deposit1_list"
   ]
  },
  {
   "cell_type": "code",
   "execution_count": 118,
   "metadata": {},
   "outputs": [
    {
     "name": "stdout",
     "output_type": "stream",
     "text": [
      "['No Deposit', 'Non Refund', 'Refundable']\n"
     ]
    }
   ],
   "source": [
    "x_deposit = [val.deposit_type for val in df.select('deposit_type').groupBy('deposit_type').count().collect()]\n",
    "x_deposit.sort()\n",
    "print(x_deposit)"
   ]
  },
  {
   "cell_type": "code",
   "execution_count": 119,
   "metadata": {},
   "outputs": [
    {
     "data": {
      "image/png": "[encoded data removed]",
      "text/plain": [
       "<Figure size 432x288 with 1 Axes>"
      ]
     },
     "metadata": {
      "needs_background": "light"
     },
     "output_type": "display_data"
    }
   ],
   "source": [
    "#visualize deposit_type cancellation\n",
    "\n",
    "#Sorted in this order: 'Contract', 'Group', 'Transient', 'Transient-Party'\n",
    "labels = x_deposit\n",
    "cancel0_count = deposit0_list\n",
    "cancel1_count = deposit1_list\n",
    "\n",
    "x = np.arange(len(x_deposit))  # the label locations\n",
    "width = 0.35  # the width of the bars\n",
    "\n",
    "fig, ax = plt.subplots()\n",
    "rects1 = ax.bar(x - width/2, cancel0_count, width, label='0 = Not Canceled')\n",
    "rects2 = ax.bar(x + width/2, cancel1_count, width, label='1 = Canceled')\n",
    "\n",
    "# Add some text for labels, title and custom x-axis tick labels, etc.\n",
    "ax.set_ylabel('Count')\n",
    "ax.set_title('Count of Hotel Cancellations by Deposit Type')\n",
    "ax.set_xticks(x)\n",
    "ax.set_xticklabels(labels)\n",
    "ax.legend()\n",
    "\n",
    "# plt.savefig(\"Cancel_by_Deposit.png\")\n",
    "plt.show()"
   ]
  },
  {
   "cell_type": "code",
   "execution_count": 120,
   "metadata": {},
   "outputs": [
    {
     "name": "stdout",
     "output_type": "stream",
     "text": [
      "+---------------+-----------+-----+\n",
      "|  customer_type|is_canceled|count|\n",
      "+---------------+-----------+-----+\n",
      "|       Contract|          0| 2814|\n",
      "|       Contract|          1| 1262|\n",
      "|          Group|          0|  518|\n",
      "|          Group|          1|   59|\n",
      "|      Transient|          0|53099|\n",
      "|      Transient|          1|36514|\n",
      "|Transient-Party|          0|18735|\n",
      "|Transient-Party|          1| 6389|\n",
      "+---------------+-----------+-----+\n",
      "\n"
     ]
    }
   ],
   "source": [
    "#Type of booking, assuming one of four categories\n",
    "#Contract - when the booking has an allotment or other type of contract associated to it\n",
    "#Group – when the booking is associated to a group\n",
    "#Transient – when the booking is not part of a group or contract, and is not associated to other transient booking\n",
    "#Transient-party – when the booking is transient, but is associated to at least other transient booking\n",
    "\n",
    "df.groupBy(\"customer_type\", 'is_canceled').count().sort('customer_type', 'is_canceled').show()"
   ]
  },
  {
   "cell_type": "code",
   "execution_count": 121,
   "metadata": {},
   "outputs": [
    {
     "name": "stdout",
     "output_type": "stream",
     "text": [
      "['Contract', 'Group', 'Transient', 'Transient-Party']\n"
     ]
    }
   ],
   "source": [
    "# count distinct levels of customer type\n",
    "x_customer = [val.customer_type for val in df.select('customer_type').groupBy('customer_type').count().collect()]\n",
    "x_customer.sort()\n",
    "print(x_customer)"
   ]
  },
  {
   "cell_type": "code",
   "execution_count": 122,
   "metadata": {},
   "outputs": [
    {
     "name": "stdout",
     "output_type": "stream",
     "text": [
      "+---------------+-----+\n",
      "|  customer_type|count|\n",
      "+---------------+-----+\n",
      "|       Contract| 2814|\n",
      "|          Group|  518|\n",
      "|      Transient|53099|\n",
      "|Transient-Party|18735|\n",
      "+---------------+-----+\n",
      "\n"
     ]
    }
   ],
   "source": [
    "# count of non-cancelled hotel booking by customer type\n",
    "customer0 = df_cancel0.groupBy('customer_type').count().sort('customer_type')\n",
    "customer0.show()"
   ]
  },
  {
   "cell_type": "code",
   "execution_count": 123,
   "metadata": {},
   "outputs": [
    {
     "name": "stdout",
     "output_type": "stream",
     "text": [
      "+---------------+-----+\n",
      "|  customer_type|count|\n",
      "+---------------+-----+\n",
      "|       Contract| 1262|\n",
      "|          Group|   59|\n",
      "|      Transient|36514|\n",
      "|Transient-Party| 6389|\n",
      "+---------------+-----+\n",
      "\n"
     ]
    }
   ],
   "source": [
    "# count of cancelled hotel booking by customer type\n",
    "customer1 = df_cancel1.groupBy('customer_type').count().sort('customer_type')\n",
    "customer1.show()"
   ]
  },
  {
   "cell_type": "code",
   "execution_count": 124,
   "metadata": {},
   "outputs": [],
   "source": [
    "# list of count of count of non-cancelled hotel booking by customer type\n",
    "customer0_list = customer0.select(\"count\").rdd.flatMap(lambda x: x).collect()\n",
    "\n",
    "# list of count of count of cancelled hotel booking by customer type\n",
    "customer1_list = customer1.select(\"count\").rdd.flatMap(lambda x: x).collect()"
   ]
  },
  {
   "cell_type": "code",
   "execution_count": 125,
   "metadata": {},
   "outputs": [
    {
     "data": {
      "image/png": "[encoded data removed]",
      "text/plain": [
       "<Figure size 432x288 with 1 Axes>"
      ]
     },
     "metadata": {
      "needs_background": "light"
     },
     "output_type": "display_data"
    }
   ],
   "source": [
    "#visualize customer_type cancellation\n",
    "\n",
    "#Sorted in this order: 'Contract', 'Group', 'Transient', 'Transient-Party'\n",
    "labels = x_customer\n",
    "cancel0_count = customer0_list\n",
    "cancel1_count = customer1_list\n",
    "\n",
    "x = np.arange(len(x_customer))  # the label locations\n",
    "width = 0.35  # the width of the bars\n",
    "\n",
    "fig, ax = plt.subplots()\n",
    "rects1 = ax.bar(x - width/2, cancel0_count, width, label='0 = Not Canceled')\n",
    "rects2 = ax.bar(x + width/2, cancel1_count, width, label='1 = Canceled')\n",
    "\n",
    "# Add some text for labels, title and custom x-axis tick labels, etc.\n",
    "ax.set_ylabel('Count')\n",
    "ax.set_title('Count of Hotel Cancellations by Cutomer Type')\n",
    "ax.set_xticks(x)\n",
    "ax.set_xticklabels(labels)\n",
    "ax.legend()\n",
    "\n",
    "# plt.savefig(\"Cancel_by_CustomerType.png\")\n",
    "plt.show()"
   ]
  },
  {
   "cell_type": "code",
   "execution_count": 126,
   "metadata": {},
   "outputs": [
    {
     "name": "stdout",
     "output_type": "stream",
     "text": [
      "+------------------+------------+------------------+\n",
      "|arrival_date_month|       hotel|          avg(adr)|\n",
      "+------------------+------------+------------------+\n",
      "|             April|  City Hotel|111.25183823529385|\n",
      "|             April|Resort Hotel| 77.84949570518152|\n",
      "|            August|  City Hotel|114.68045530446365|\n",
      "|            August|Resort Hotel|186.79057417245596|\n",
      "|          December|  City Hotel| 88.82630687318493|\n",
      "|          December|Resort Hotel| 68.98422960725051|\n",
      "|          February|  City Hotel| 85.08827794561917|\n",
      "|          February|Resort Hotel| 55.17193038994517|\n",
      "|           January|  City Hotel| 82.62898554603852|\n",
      "|           January|Resort Hotel|49.461883264933924|\n",
      "|              July|  City Hotel|110.73429154302673|\n",
      "|              July|Resort Hotel|155.18129892849296|\n",
      "|              June|  City Hotel|119.07434127185202|\n",
      "|              June|Resort Hotel|110.44474876847272|\n",
      "|             March|  City Hotel| 92.64311551563968|\n",
      "|             March|Resort Hotel|57.520146882493776|\n",
      "|               May|  City Hotel|121.63856049562638|\n",
      "|               May|Resort Hotel| 78.75813430739011|\n",
      "|          November|  City Hotel| 88.06960064264416|\n",
      "|          November|Resort Hotel|48.273992613869645|\n",
      "+------------------+------------+------------------+\n",
      "only showing top 20 rows\n",
      "\n"
     ]
    }
   ],
   "source": [
    "# Average hotel daily average rates per month by hotel\n",
    "df.groupBy('arrival_date_month','hotel').avg('adr').sort('arrival_date_month','hotel').show()"
   ]
  },
  {
   "cell_type": "code",
   "execution_count": 127,
   "metadata": {},
   "outputs": [
    {
     "name": "stdout",
     "output_type": "stream",
     "text": [
      "+------------------+------------+-----------+-----+\n",
      "|arrival_date_month|       hotel|is_canceled|count|\n",
      "+------------------+------------+-----------+-----+\n",
      "|             April|  City Hotel|          0| 4015|\n",
      "|             April|  City Hotel|          1| 3465|\n",
      "|             April|Resort Hotel|          0| 2550|\n",
      "|             April|Resort Hotel|          1| 1059|\n",
      "|            August|  City Hotel|          0| 5381|\n",
      "|            August|  City Hotel|          1| 3602|\n",
      "|            August|Resort Hotel|          0| 3257|\n",
      "|            August|Resort Hotel|          1| 1637|\n",
      "|          December|  City Hotel|          0| 2392|\n",
      "|          December|  City Hotel|          1| 1740|\n",
      "|          December|Resort Hotel|          0| 2017|\n",
      "|          December|Resort Hotel|          1|  631|\n",
      "|          February|  City Hotel|          0| 3064|\n",
      "|          February|  City Hotel|          1| 1901|\n",
      "|          February|Resort Hotel|          0| 2308|\n",
      "|          February|Resort Hotel|          1|  795|\n",
      "|           January|  City Hotel|          0| 2254|\n",
      "|           January|  City Hotel|          1| 1482|\n",
      "|           January|Resort Hotel|          0| 1868|\n",
      "|           January|Resort Hotel|          1|  325|\n",
      "+------------------+------------+-----------+-----+\n",
      "only showing top 20 rows\n",
      "\n"
     ]
    }
   ],
   "source": [
    "# Hotel cancellation counts by hotel atype and month\n",
    "df.groupBy('arrival_date_month','hotel', 'is_canceled')\\\n",
    "    .count().sort('arrival_date_month','hotel', 'is_canceled').show()"
   ]
  },
  {
   "cell_type": "code",
   "execution_count": 128,
   "metadata": {},
   "outputs": [
    {
     "data": {
      "text/plain": [
       "['April',\n",
       " 'August',\n",
       " 'December',\n",
       " 'February',\n",
       " 'January',\n",
       " 'July',\n",
       " 'June',\n",
       " 'March',\n",
       " 'May',\n",
       " 'November',\n",
       " 'October',\n",
       " 'September']"
      ]
     },
     "execution_count": 128,
     "metadata": {},
     "output_type": "execute_result"
    }
   ],
   "source": [
    "# unordered original appeared months\n",
    "months_label = [val.arrival_date_month for val in df.select('arrival_date_month').distinct().collect()] \n",
    "months_label.sort()\n",
    "months_label"
   ]
  },
  {
   "cell_type": "code",
   "execution_count": 129,
   "metadata": {},
   "outputs": [
    {
     "data": {
      "text/plain": [
       "['04', '08', '12', '02', '01', '07', '06', '03', '05', '11', '10', '09']"
      ]
     },
     "execution_count": 129,
     "metadata": {},
     "output_type": "execute_result"
    }
   ],
   "source": [
    "# reorder months\n",
    "months_label[0] = '04'\n",
    "months_label[1] = '08'\n",
    "months_label[2] = '12'\n",
    "months_label[3] = '02'\n",
    "months_label[4] = '01'\n",
    "months_label[5] = '07'\n",
    "months_label[6] = '06'\n",
    "months_label[7] = '03'\n",
    "months_label[8] = '05'\n",
    "months_label[9] = '11'\n",
    "months_label[10] = '10'\n",
    "months_label[11] = '09'\n",
    "months_label"
   ]
  },
  {
   "cell_type": "code",
   "execution_count": 130,
   "metadata": {},
   "outputs": [
    {
     "name": "stdout",
     "output_type": "stream",
     "text": [
      "['01', '02', '03', '04', '05', '06', '07', '08', '09', '10', '11', '12']\n"
     ]
    }
   ],
   "source": [
    "months_label.sort()\n",
    "print(months_label)"
   ]
  },
  {
   "cell_type": "code",
   "execution_count": 131,
   "metadata": {},
   "outputs": [
    {
     "data": {
      "text/plain": [
       "['January',\n",
       " 'February',\n",
       " 'March',\n",
       " 'April',\n",
       " 'May',\n",
       " 'June',\n",
       " 'July',\n",
       " 'August',\n",
       " 'September',\n",
       " 'October',\n",
       " 'November',\n",
       " 'December']"
      ]
     },
     "execution_count": 131,
     "metadata": {},
     "output_type": "execute_result"
    }
   ],
   "source": [
    "# reorder2\n",
    "months_label[0] = 'January'\n",
    "months_label[1] = 'February'\n",
    "months_label[2] = 'March'\n",
    "months_label[3] = 'April'\n",
    "months_label[4] = 'May'\n",
    "months_label[5] = 'June'\n",
    "months_label[6] = 'July'\n",
    "months_label[7] = 'August'\n",
    "months_label[8] = 'September'\n",
    "months_label[9] = 'October'\n",
    "months_label[10] = 'November'\n",
    "months_label[11] = 'December'\n",
    "months_label"
   ]
  },
  {
   "cell_type": "code",
   "execution_count": 132,
   "metadata": {},
   "outputs": [
    {
     "name": "stdout",
     "output_type": "stream",
     "text": [
      "+------------------+-----+\n",
      "|arrival_date_month|count|\n",
      "+------------------+-----+\n",
      "|             April| 6565|\n",
      "|            August| 8638|\n",
      "|          December| 4409|\n",
      "|          February| 5372|\n",
      "|           January| 4122|\n",
      "|              July| 7919|\n",
      "|              June| 6404|\n",
      "|             March| 6645|\n",
      "|               May| 7114|\n",
      "|          November| 4672|\n",
      "|           October| 6914|\n",
      "|         September| 6392|\n",
      "+------------------+-----+\n",
      "\n"
     ]
    }
   ],
   "source": [
    "# count of non-cancellation by month\n",
    "months_cancel0 = df_cancel0.groupBy('arrival_date_month')\\\n",
    "    .count().sort('arrival_date_month')\n",
    "months_cancel0.show()"
   ]
  },
  {
   "cell_type": "code",
   "execution_count": 133,
   "metadata": {},
   "outputs": [],
   "source": [
    "# Get list of counts for months when not canceled\n",
    "month0_list = months_cancel0.select(\"count\").rdd.flatMap(lambda x: x).collect()"
   ]
  },
  {
   "cell_type": "code",
   "execution_count": 134,
   "metadata": {},
   "outputs": [
    {
     "data": {
      "text/plain": [
       "[4122, 5372, 6645, 6565, 7114, 6404, 7919, 8638, 6392, 6914, 4672, 4409]"
      ]
     },
     "execution_count": 134,
     "metadata": {},
     "output_type": "execute_result"
    }
   ],
   "source": [
    "# Reorder month canceled list counts for Jan-Dec\n",
    "month0_list2 = [0] * 12\n",
    "month0_list2[0] = month0_list[4]  #Apr spot for Jan\n",
    "month0_list2[1] = month0_list[3]  #Aug spot for Feb\n",
    "month0_list2[2] = month0_list[7]  #Dec spot for Mar\n",
    "month0_list2[3] = month0_list[0]  #Feb spot for Apr\n",
    "month0_list2[4] = month0_list[8]  #Jan spot for May\n",
    "month0_list2[5] = month0_list[6]  #Jul spot for Jun\n",
    "month0_list2[6] = month0_list[5]  #Jun spot for Jul\n",
    "month0_list2[7] = month0_list[1]  #Mar spot for Aug\n",
    "month0_list2[8] = month0_list[11]  #May spot for Sep\n",
    "month0_list2[9] = month0_list[10]  #Nov spot for Oct\n",
    "month0_list2[10] = month0_list[9]  #Oct spot for Nov\n",
    "month0_list2[11] = month0_list[2]  #Sep spot for Dec\n",
    "month0_list2\n",
    "\n",
    "# Now list of counts matches Jan-Dec"
   ]
  },
  {
   "cell_type": "code",
   "execution_count": 135,
   "metadata": {},
   "outputs": [
    {
     "name": "stdout",
     "output_type": "stream",
     "text": [
      "+------------------+-----+\n",
      "|arrival_date_month|count|\n",
      "+------------------+-----+\n",
      "|             April| 4524|\n",
      "|            August| 5239|\n",
      "|          December| 2371|\n",
      "|          February| 2696|\n",
      "|           January| 1807|\n",
      "|              July| 4742|\n",
      "|              June| 4535|\n",
      "|             March| 3149|\n",
      "|               May| 4677|\n",
      "|          November| 2122|\n",
      "|           October| 4246|\n",
      "|         September| 4116|\n",
      "+------------------+-----+\n",
      "\n"
     ]
    }
   ],
   "source": [
    "# counts of cancelled booking by month\n",
    "months_cancel1 = df_cancel1.groupBy('arrival_date_month')\\\n",
    "    .count().sort('arrival_date_month')\n",
    "months_cancel1.show()"
   ]
  },
  {
   "cell_type": "code",
   "execution_count": 136,
   "metadata": {},
   "outputs": [
    {
     "data": {
      "text/plain": [
       "[4524, 5239, 2371, 2696, 1807, 4742, 4535, 3149, 4677, 2122, 4246, 4116]"
      ]
     },
     "execution_count": 136,
     "metadata": {},
     "output_type": "execute_result"
    }
   ],
   "source": [
    "# Get list of counts for months when canceled\n",
    "month1_list = months_cancel1.select(\"count\").rdd.flatMap(lambda x: x).collect()\n",
    "month1_list"
   ]
  },
  {
   "cell_type": "code",
   "execution_count": 137,
   "metadata": {},
   "outputs": [
    {
     "data": {
      "text/plain": [
       "[1807, 2696, 3149, 4524, 4677, 4535, 4742, 5239, 4116, 4246, 2122, 2371]"
      ]
     },
     "execution_count": 137,
     "metadata": {},
     "output_type": "execute_result"
    }
   ],
   "source": [
    "# Reorder month canceled list counts for Jan-Dec\n",
    "month1_list2 = [0] * 12\n",
    "month1_list2[0] = month1_list[4]  #Apr spot for Jan\n",
    "month1_list2[1] = month1_list[3]  #Aug spot for Feb\n",
    "month1_list2[2] = month1_list[7]  #Dec spot for Mar\n",
    "month1_list2[3] = month1_list[0]  #Feb spot for Apr\n",
    "month1_list2[4] = month1_list[8]  #Jan spot for May\n",
    "month1_list2[5] = month1_list[6]  #Jul spot for Jun\n",
    "month1_list2[6] = month1_list[5]  #Jun spot for Jul\n",
    "month1_list2[7] = month1_list[1]  #Mar spot for Aug\n",
    "month1_list2[8] = month1_list[11]  #May spot for Sep\n",
    "month1_list2[9] = month1_list[10]  #Nov spot for Oct\n",
    "month1_list2[10] = month1_list[9]  #Oct spot for Nov\n",
    "month1_list2[11] = month1_list[2]  #Sep spot for Dec\n",
    "month1_list2\n",
    "\n",
    "# Now list of counts matches Jan-Dec"
   ]
  },
  {
   "cell_type": "code",
   "execution_count": 138,
   "metadata": {},
   "outputs": [
    {
     "data": {
      "image/png": "[encoded data removed]",
      "text/plain": [
       "<Figure size 432x288 with 1 Axes>"
      ]
     },
     "metadata": {
      "needs_background": "light"
     },
     "output_type": "display_data"
    }
   ],
   "source": [
    "# visualize non cancellations and cancellations by month\n",
    "\n",
    "# Ordered: Jan, Feb, Mar...\n",
    "labels = months_label\n",
    "cancel0_count = month0_list2\n",
    "cancel1_count = month1_list2\n",
    "\n",
    "x = np.arange(len(months_label))  # the label locations\n",
    "width = 0.35  # the width of the bars\n",
    "\n",
    "fig, ax = plt.subplots()\n",
    "rects1 = ax.bar(x - width/2, cancel0_count, width, label='0 = Not Canceled')\n",
    "rects2 = ax.bar(x + width/2, cancel1_count, width, label='1 = Canceled')\n",
    "\n",
    "# Add some text for labels, title and custom x-axis tick labels, etc.\n",
    "ax.set_ylabel('Count')\n",
    "ax.set_title('Count of Hotel Cancellations by Month')\n",
    "ax.set_xticks(x)\n",
    "ax.set_xticklabels(labels, rotation = 45, ha=\"right\")\n",
    "ax.legend()\n",
    "\n",
    "# plt.savefig(\"Cancel_by_Month.png\")\n",
    "plt.show()\n"
   ]
  },
  {
   "cell_type": "code",
   "execution_count": 139,
   "metadata": {},
   "outputs": [
    {
     "name": "stdout",
     "output_type": "stream",
     "text": [
      "+-----------------+------------+-----------+-----+\n",
      "|arrival_date_year|       hotel|is_canceled|count|\n",
      "+-----------------+------------+-----------+-----+\n",
      "|             2015|  City Hotel|          0| 7678|\n",
      "|             2015|  City Hotel|          1| 6004|\n",
      "|             2015|Resort Hotel|          0| 6176|\n",
      "|             2015|Resort Hotel|          1| 2138|\n",
      "|             2016|  City Hotel|          0|22733|\n",
      "|             2016|  City Hotel|          1|15407|\n",
      "|             2016|Resort Hotel|          0|13637|\n",
      "|             2016|Resort Hotel|          1| 4930|\n",
      "|             2017|  City Hotel|          0|15817|\n",
      "|             2017|  City Hotel|          1|11691|\n",
      "|             2017|Resort Hotel|          0| 9125|\n",
      "|             2017|Resort Hotel|          1| 4054|\n",
      "+-----------------+------------+-----------+-----+\n",
      "\n"
     ]
    }
   ],
   "source": [
    "# Count of cancellations by hotel type and year\n",
    "# 2015-2017\n",
    "df.groupBy('arrival_date_year','hotel', 'is_canceled')\\\n",
    "    .count().sort('arrival_date_year','hotel', 'is_canceled').show()"
   ]
  },
  {
   "cell_type": "code",
   "execution_count": 140,
   "metadata": {},
   "outputs": [
    {
     "name": "stdout",
     "output_type": "stream",
     "text": [
      "+------------+-----+\n",
      "|       hotel|count|\n",
      "+------------+-----+\n",
      "|  City Hotel|79330|\n",
      "|Resort Hotel|40060|\n",
      "+------------+-----+\n",
      "\n"
     ]
    }
   ],
   "source": [
    "# count of cancellation by hotel\n",
    "df.groupBy('hotel').count().select('hotel', f.col('count')).show()"
   ]
  },
  {
   "cell_type": "code",
   "execution_count": 141,
   "metadata": {},
   "outputs": [],
   "source": [
    "# Get counts of cancel or not cancel by hotel type\n",
    "resort_0 = df.filter((col('hotel') == 'Resort Hotel') & (col('is_canceled') == 0)).count()\n",
    "resort_1 = df.filter((col('hotel') == 'Resort Hotel') & (col('is_canceled') == 1)).count()\n",
    "city_0 = df.filter((col('hotel') == 'City Hotel') & (col('is_canceled') == 0)).count()\n",
    "city_1 = df.filter((col('hotel') == 'City Hotel') & (col('is_canceled') == 1)).count()"
   ]
  },
  {
   "cell_type": "code",
   "execution_count": 142,
   "metadata": {},
   "outputs": [
    {
     "name": "stdout",
     "output_type": "stream",
     "text": [
      "+------------+-----------+-----+\n",
      "|       hotel|is_canceled|count|\n",
      "+------------+-----------+-----+\n",
      "|Resort Hotel|          0|28938|\n",
      "|  City Hotel|          0|46228|\n",
      "|Resort Hotel|          1|11122|\n",
      "|  City Hotel|          1|33102|\n",
      "+------------+-----------+-----+\n",
      "\n"
     ]
    }
   ],
   "source": [
    "# cancellations by hotel type in dataframe\n",
    "df.groupBy('hotel', 'is_canceled').count().show()"
   ]
  },
  {
   "cell_type": "code",
   "execution_count": 143,
   "metadata": {},
   "outputs": [
    {
     "data": {
      "image/png": "[encoded data removed]",
      "text/plain": [
       "<Figure size 432x288 with 1 Axes>"
      ]
     },
     "metadata": {
      "needs_background": "light"
     },
     "output_type": "display_data"
    }
   ],
   "source": [
    "# to visualize, we use matplotlib\n",
    "# Hotel cancellations by hotel type\n",
    "\n",
    "# y_iscancel = [val.is_canceled for val in df.select('is_canceled').distinct().collect()]   #gets [0,1]\n",
    "x_hoteltype = [val.hotel for val in df.select('hotel').groupBy('hotel').count().collect()]\n",
    "\n",
    "labels = ['City Hotel', 'Resort Hotel']\n",
    "cancel0_count = [city_0, resort_0]\n",
    "cancel1_count = [city_1, resort_1]\n",
    "\n",
    "x = np.arange(len(x_hoteltype))  # the label locations\n",
    "width = 0.35  # the width of the bars\n",
    "\n",
    "fig, ax = plt.subplots()\n",
    "rects1 = ax.bar(x - width/2, cancel0_count, width, label='0 = Not Canceled')\n",
    "rects2 = ax.bar(x + width/2, cancel1_count, width, label='1 = Canceled')\n",
    "\n",
    "# Add some text for labels, title and custom x-axis tick labels, etc.\n",
    "ax.set_ylabel('Count')\n",
    "ax.set_title('Count of hotel cancellations by hotel type')\n",
    "ax.set_xticks(x)\n",
    "ax.set_xticklabels(labels)\n",
    "ax.legend()\n",
    "\n",
    "plt.savefig(\"Cancel_by_HotelType.png\")\n",
    "plt.show()"
   ]
  },
  {
   "cell_type": "markdown",
   "metadata": {},
   "source": [
    "## 3. Preprocessing"
   ]
  },
  {
   "cell_type": "code",
   "execution_count": 144,
   "metadata": {},
   "outputs": [],
   "source": [
    "from pyspark.sql.functions import col\n",
    "\n",
    "# replace the strings \"NULL\" and \"NA\" with null value\n",
    "df_withNull = df.replace('NULL', None).replace('NA', None)\n",
    "\n",
    "# replace null values in 'children' to 0 since there are only 4\n",
    "df2 = df_withNull.fillna({'children':0})\n",
    "\n",
    "# replace 'children' datatype to int\n",
    "df2 = df2.withColumn('children', col('children').cast(\"Int\"))\n",
    "df2 = df2.withColumn('arrival_date_year', col('arrival_date_year').cast(\"Int\")-2015)\n",
    "\n",
    "# drop 'company' and 'agent' due to high null count\n",
    "df2 = df2.drop('agent', 'company','country', 'arrival_date_week_number', 'reservation_status', 'reservation_status_date')"
   ]
  },
  {
   "cell_type": "code",
   "execution_count": 145,
   "metadata": {},
   "outputs": [],
   "source": [
    "# specifying which columns to encode in which way\n",
    "from pyspark.ml.feature import OneHotEncoder, OneHotEncoderModel, Normalizer\n",
    "from pyspark.ml.feature import StringIndexer, VectorAssembler\n",
    "from pyspark.ml import Pipeline\n",
    "from pyspark.mllib.linalg import Vectors\n",
    "\n",
    "# list of columns to numerically encode\n",
    "col_string=['hotel', 'meal','market_segment',\n",
    "            'distribution_channel','reserved_room_type','assigned_room_type',\n",
    "            'deposit_type','customer_type']\n",
    "col_stringwmonth = col_string+['arrival_date_month']\n",
    "\n",
    "# list of new column names being changed into numeric\n",
    "col_num=[x+\"_NUMERIC\" for x in col_string]\n",
    "\n",
    "# list of columns being one-hot encoded\n",
    "col_oh=[x+\"_oh\" for x in col_string]\n",
    "\n",
    "# list of columns to normalize\n",
    "norm_to_columns = ['lead_time', 'stays_in_weekend_nights', 'stays_in_week_nights', 'adults', 'children', 'babies', \n",
    "                'previous_cancellations', 'previous_bookings_not_canceled', 'booking_changes', 'adr', \n",
    "                'required_car_parking_spaces', 'total_of_special_requests']"
   ]
  },
  {
   "cell_type": "markdown",
   "metadata": {},
   "source": [
    "#### Numerical Encoding"
   ]
  },
  {
   "cell_type": "code",
   "execution_count": 146,
   "metadata": {},
   "outputs": [],
   "source": [
    "# combine string index encoding on each specified column\n",
    "all_string_index = [StringIndexer(inputCol=column, outputCol=column+\"_NUMERIC\").fit(df2) for column in col_stringwmonth]"
   ]
  },
  {
   "cell_type": "markdown",
   "metadata": {},
   "source": [
    "#### One Hot Encoding"
   ]
  },
  {
   "cell_type": "code",
   "execution_count": 147,
   "metadata": {},
   "outputs": [],
   "source": [
    "# ohe columns\n",
    "ohe = OneHotEncoder(dropLast=False).setInputCols(col_num).setOutputCols(col_oh)"
   ]
  },
  {
   "cell_type": "markdown",
   "metadata": {},
   "source": [
    "#### Normalization"
   ]
  },
  {
   "cell_type": "code",
   "execution_count": 148,
   "metadata": {},
   "outputs": [],
   "source": [
    "# combine all to-norm columns into one vector named \"norm_features\"\n",
    "assembler = VectorAssembler(inputCols=norm_to_columns, outputCol=\"to_norm_features\")\n",
    "\n",
    "# normalize continuous columns\n",
    "normalizer = Normalizer(inputCol=\"to_norm_features\", outputCol=\"norm_features\", p=1.0)"
   ]
  },
  {
   "cell_type": "code",
   "execution_count": 149,
   "metadata": {},
   "outputs": [],
   "source": [
    "# specify final variables\n",
    "final_variables = ['lead_time', \n",
    "                   'arrival_date_year',\n",
    "                   'arrival_date_day_of_month',\n",
    "                   'stays_in_weekend_nights',\n",
    "                   'stays_in_week_nights',\n",
    "                   'adults',\n",
    "                   'children', \n",
    "                   'babies',\n",
    "                   'is_repeated_guest',\n",
    "                   'previous_cancellations',\n",
    "                   'previous_bookings_not_canceled',\n",
    "                   'booking_changes',\n",
    "                   'days_in_waiting_list',\n",
    "                   'adr',\n",
    "                   'required_car_parking_spaces',\n",
    "                   'total_of_special_requests',\n",
    "                   'arrival_date_month_NUMERIC',\n",
    "                   'distribution_channel_oh',\n",
    "                   'customer_type_oh',\n",
    "                   'market_segment_oh',\n",
    "                   'reserved_room_type_oh',\n",
    "                   'assigned_room_type_oh',\n",
    "                   'meal_oh',\n",
    "                   'hotel_oh',\n",
    "                   'deposit_type_oh']"
   ]
  },
  {
   "cell_type": "code",
   "execution_count": 150,
   "metadata": {},
   "outputs": [],
   "source": [
    "# combine all feature columns (non-label columns) into one vector named \"feature\"\n",
    "assembler2 = VectorAssembler(inputCols=final_variables, outputCol=\"features\")"
   ]
  },
  {
   "cell_type": "markdown",
   "metadata": {},
   "source": [
    "#### Construct Pipeline"
   ]
  },
  {
   "cell_type": "code",
   "execution_count": 151,
   "metadata": {},
   "outputs": [],
   "source": [
    "# construct pipeline\n",
    "pipeline = Pipeline(stages=all_string_index + [ohe, assembler, normalizer, assembler2])\n",
    "df3 = pipeline.fit(df2).transform(df2)"
   ]
  },
  {
   "cell_type": "code",
   "execution_count": 152,
   "metadata": {},
   "outputs": [],
   "source": [
    "# convert to RDD\n",
    "dataRdd = df3.select(col(\"is_canceled\").alias(\"label\"), col(\"features\")).rdd.map(tuple)"
   ]
  },
  {
   "cell_type": "markdown",
   "metadata": {},
   "source": [
    "#### Construct LabeledPoint"
   ]
  },
  {
   "cell_type": "code",
   "execution_count": 153,
   "metadata": {},
   "outputs": [],
   "source": [
    "from pyspark.mllib.regression import LabeledPoint\n",
    "\n",
    "# map features as floats, then input all into a DenseVector, as well as mapping labels as floats\n",
    "# then map into LabeledPoint object\n",
    "lp = dataRdd.map(lambda row: (float(row[0]), Vectors.dense([float(c) for c in row[1]])))\\\n",
    "            .map(lambda row: LabeledPoint(row[0], row[1]))"
   ]
  },
  {
   "cell_type": "markdown",
   "metadata": {},
   "source": [
    "#### Split Dataset"
   ]
  },
  {
   "cell_type": "code",
   "execution_count": 154,
   "metadata": {},
   "outputs": [],
   "source": [
    "# 70/30 test train split\n",
    "seed = 314\n",
    "train, test = lp.randomSplit([0.7, 0.3], seed=seed)\n",
    "\n",
    "# store test and train counts\n",
    "test_count = test.count()\n",
    "train_count = train.count()\n",
    "\n",
    "from pyspark.mllib.evaluation import MulticlassMetrics\n",
    "from pyspark.mllib.evaluation import BinaryClassificationMetrics"
   ]
  },
  {
   "cell_type": "markdown",
   "metadata": {},
   "source": [
    "## 4. Model Fitting"
   ]
  },
  {
   "cell_type": "markdown",
   "metadata": {},
   "source": [
    "### Logistic Regression"
   ]
  },
  {
   "cell_type": "code",
   "execution_count": 155,
   "metadata": {},
   "outputs": [],
   "source": [
    "from pyspark.mllib.classification import LogisticRegressionWithLBFGS\n",
    "\n",
    "# train logistic regression model with training data\n",
    "model = LogisticRegressionWithLBFGS.train(train)"
   ]
  },
  {
   "cell_type": "code",
   "execution_count": 156,
   "metadata": {},
   "outputs": [
    {
     "name": "stdout",
     "output_type": "stream",
     "text": [
      "model accuracy (test): 0.8138002579487467\n"
     ]
    }
   ],
   "source": [
    "# Evaluating the model on test data\n",
    "labelsAndPreds_te = test.map(lambda p: (p.label, float(model.predict(p.features))))\n",
    "accuracy_te = 1.0 * labelsAndPreds_te.filter(lambda pl: pl[0] == pl[1]).count() / test_count\n",
    "print('model accuracy (test): {}'.format(accuracy_te))"
   ]
  },
  {
   "cell_type": "markdown",
   "metadata": {},
   "source": [
    "#### Logistic with intercept"
   ]
  },
  {
   "cell_type": "code",
   "execution_count": 157,
   "metadata": {},
   "outputs": [],
   "source": [
    "model_lr_int = LogisticRegressionWithLBFGS.train(train, intercept=True)"
   ]
  },
  {
   "cell_type": "code",
   "execution_count": 158,
   "metadata": {},
   "outputs": [
    {
     "name": "stdout",
     "output_type": "stream",
     "text": [
      "model accuracy (test): 0.8132394998037347\n"
     ]
    }
   ],
   "source": [
    "# Evaluating the model on test data\n",
    "labelsAndPreds_te_int = test.map(lambda p: (p.label, model_lr_int.predict(p.features)))\n",
    "accuracy_te_int = 1.0 * labelsAndPreds_te_int.filter(lambda pl: pl[0] == pl[1]).count() / test_count\n",
    "print('model accuracy (test): {}'.format(accuracy_te_int))"
   ]
  },
  {
   "cell_type": "markdown",
   "metadata": {},
   "source": [
    "#### Logistic with interations=10"
   ]
  },
  {
   "cell_type": "code",
   "execution_count": 159,
   "metadata": {},
   "outputs": [],
   "source": [
    "model_lr_it10 = LogisticRegressionWithLBFGS.train(train, iterations=10)"
   ]
  },
  {
   "cell_type": "code",
   "execution_count": 160,
   "metadata": {},
   "outputs": [
    {
     "name": "stdout",
     "output_type": "stream",
     "text": [
      "model accuracy (test): 0.80093085852072\n"
     ]
    }
   ],
   "source": [
    "# Evaluating the model on test data\n",
    "labelsAndPreds_te_it10 = test.map(lambda p: (p.label, model_lr_it10.predict(p.features)))\n",
    "accuracy_te_it10 = 1.0 * labelsAndPreds_te_it10.filter(lambda pl: pl[0] == pl[1]).count() / test_count\n",
    "print('model accuracy (test): {}'.format(accuracy_te_it10))"
   ]
  },
  {
   "cell_type": "markdown",
   "metadata": {},
   "source": [
    "#### Logistic with intercept and iterations=10"
   ]
  },
  {
   "cell_type": "code",
   "execution_count": 194,
   "metadata": {},
   "outputs": [],
   "source": [
    "model_lr_it10_int = LogisticRegressionWithLBFGS.train(train, iterations=300, intercept=True)"
   ]
  },
  {
   "cell_type": "code",
   "execution_count": 195,
   "metadata": {},
   "outputs": [
    {
     "name": "stdout",
     "output_type": "stream",
     "text": [
      "model accuracy (test): 0.8133236135254864\n"
     ]
    }
   ],
   "source": [
    "# Evaluating the model on test data\n",
    "labelsAndPreds_te_it10_int = test.map(lambda p: (p.label, float(model_lr_it10_int.predict(p.features))))\n",
    "accuracy_te_it10_int = 1.0 * labelsAndPreds_te_it10_int.filter(lambda pl: pl[0] == pl[1]).count() / test_count\n",
    "print('model accuracy (test): {}'.format(accuracy_te_it10_int))"
   ]
  },
  {
   "cell_type": "code",
   "execution_count": 163,
   "metadata": {},
   "outputs": [
    {
     "name": "stdout",
     "output_type": "stream",
     "text": [
      "Confusion matrix\n",
      "[[20766.  4961.]\n",
      " [ 1680.  8259.]]\n",
      "False negative rate 16.90%\n",
      "False positive rate 19.28%\n",
      "Precision(TP/all positives) 62.47%\n",
      "Recall(TP/all positive ground truth) 83.10%\n",
      "Area under PR for Linear regression = 59.55%\n",
      "Area under ROC for Linear regression = 81.91%\n"
     ]
    }
   ],
   "source": [
    "# calculate confusion matrix and AUROC for base logistic model\n",
    "\n",
    "metrix1 = MulticlassMetrics(labelsAndPreds_te)\n",
    "con_metrix1=metrix1.confusionMatrix().toArray()\n",
    "\n",
    "print('Confusion matrix')\n",
    "print(con_metrix1)\n",
    "\n",
    "FN1=metrix1.falsePositiveRate(0.0)\n",
    "FP1=metrix1.falsePositiveRate(1.0)\n",
    "\n",
    "print('False negative rate {:2.2%}'.format(FN1))\n",
    "print('False positive rate {:2.2%}'.format(FP1))\n",
    "\n",
    "precision1=metrix1.precision(1.0)\n",
    "recall1=metrix1.recall(1.0)\n",
    "\n",
    "print('Precision(TP/all positives) {:2.2%}'.format(precision1))\n",
    "print('Recall(TP/all positive ground truth) {:0.2%}'.format(recall1))\n",
    "\n",
    "\n",
    "metrics_tr1 = BinaryClassificationMetrics(labelsAndPreds_te)\n",
    "\n",
    "print(\"Area under PR for Linear regression = {:2.2%}\".format(metrics_tr1.areaUnderPR))\n",
    "\n",
    "# Area under ROC curve for training data\n",
    "print(\"Area under ROC for Linear regression = {:2.2%}\".format(metrics_tr1.areaUnderROC))"
   ]
  },
  {
   "cell_type": "code",
   "execution_count": 164,
   "metadata": {},
   "outputs": [
    {
     "name": "stdout",
     "output_type": "stream",
     "text": [
      "Confusion matrix\n",
      "[[20249.  4923.]\n",
      " [ 2197.  8297.]]\n",
      "False negative rate 20.94%\n",
      "False positive rate 19.56%\n",
      "Precision(TP/all positives) 62.76%\n",
      "Recall(TP/all positive ground truth) 79.06%\n",
      "Area under PR for Linear regression = 59.55%\n",
      "Area under ROC for Linear regression = 81.91%\n"
     ]
    }
   ],
   "source": [
    "# calculate confusion matrix and AUROC for base logistic model\n",
    "\n",
    "metrix1 = MulticlassMetrics(labelsAndPreds_te_it10_int)\n",
    "con_metrix1=metrix1.confusionMatrix().toArray()\n",
    "\n",
    "print('Confusion matrix')\n",
    "print(con_metrix1)\n",
    "\n",
    "FN1=metrix1.falsePositiveRate(0.0)\n",
    "FP1=metrix1.falsePositiveRate(1.0)\n",
    "\n",
    "print('False negative rate {:2.2%}'.format(FN1))\n",
    "print('False positive rate {:2.2%}'.format(FP1))\n",
    "\n",
    "precision1=metrix1.precision(1.0)\n",
    "recall1=metrix1.recall(1.0)\n",
    "\n",
    "print('Precision(TP/all positives) {:2.2%}'.format(precision1))\n",
    "print('Recall(TP/all positive ground truth) {:0.2%}'.format(recall1))\n",
    "\n",
    "\n",
    "metrics_tr1 = BinaryClassificationMetrics(labelsAndPreds_te)\n",
    "\n",
    "print(\"Area under PR for Linear regression = {:2.2%}\".format(metrics_tr1.areaUnderPR))\n",
    "\n",
    "# Area under ROC curve for training data\n",
    "print(\"Area under ROC for Linear regression = {:2.2%}\".format(metrics_tr1.areaUnderROC))"
   ]
  },
  {
   "cell_type": "markdown",
   "metadata": {},
   "source": [
    "### Save and load SVM file"
   ]
  },
  {
   "cell_type": "code",
   "execution_count": 165,
   "metadata": {},
   "outputs": [],
   "source": [
    "from pyspark.mllib.util import MLUtils\n",
    "# converting to LibSVM file (only run once)\n",
    "# MLUtils.saveAsLibSVMFile(lp, \"libsvm.txt\")"
   ]
  },
  {
   "cell_type": "code",
   "execution_count": 166,
   "metadata": {},
   "outputs": [
    {
     "data": {
      "text/plain": [
       "[LabeledPoint(1.0, (79,[0,1,2,3,4,5,6,7,8,9,10,11,12,13,14,15,16,17,18,19,20,21,22,23,24,25,26,27,28,29,30,31,32,33,34,35,36,37,38,39,40,41,42,43,44,45,46,47,48,49,50,51,52,53,54,55,56,57,58,59,60,61,62,63,64,65,66,67,68,69,70,71,72,73,74,75,76,77,78],[290.0,3.0,1.0,1.0,2.0,0.0,0.0,0.0,1.0,0.0,0.0,0.0,62.0,0.0,0.0,1.0,0.0,0.0,0.0,0.0,0.0,0.0,1.0,0.0,0.0,0.0,1.0,0.0,0.0,0.0,0.0,0.0,1.0,0.0,0.0,0.0,0.0,0.0,0.0,0.0,0.0,0.0,1.0,0.0,0.0,0.0,0.0,0.0,0.0,0.0,0.0,0.0,0.0,0.0,1.0,0.0,0.0,0.0,0.0,1.0,0.0,0.0,1.0,0.0,1.0,0.0,0.0,1.0,0.0,0.0,0.0,0.0,0.0,0.0,0.0,0.0,0.0,0.0,0.0]))]"
      ]
     },
     "execution_count": 166,
     "metadata": {},
     "output_type": "execute_result"
    }
   ],
   "source": [
    "data = MLUtils.loadLibSVMFile(sc, 'libsvm.txt')\n",
    "data.take(1)"
   ]
  },
  {
   "cell_type": "code",
   "execution_count": 167,
   "metadata": {},
   "outputs": [],
   "source": [
    "# 70/30 test train split for libsvm data\n",
    "seed = 314\n",
    "train_sparse, test_sparse = data.randomSplit([0.7, 0.3], seed=seed)"
   ]
  },
  {
   "cell_type": "markdown",
   "metadata": {},
   "source": [
    "### Decision Tree"
   ]
  },
  {
   "cell_type": "code",
   "execution_count": null,
   "metadata": {},
   "outputs": [],
   "source": []
  },
  {
   "cell_type": "code",
   "execution_count": 168,
   "metadata": {},
   "outputs": [
    {
     "name": "stdout",
     "output_type": "stream",
     "text": [
      "model accuracy (test): 0.8061739471765828\n"
     ]
    }
   ],
   "source": [
    "from pyspark.mllib.tree import DecisionTree\n",
    "\n",
    "model_dt1 = DecisionTree.trainClassifier(train_sparse, 2, {})\n",
    "# Evaluate model on test instances and compute test error\n",
    "predictions = model_dt1.predict(test_sparse.map(lambda x: x.features))\n",
    "labelsAndPreds_te2_1 = test_sparse.map(lambda lp: lp.label).zip(predictions)\n",
    "# labelsAndPreds_te3 = test_sparse.map(lambda p: (p.label, float(model_rf.predict(p.features))))\n",
    "\n",
    "\n",
    "accuracy_te_dt1 = 1.0 * labelsAndPreds_te2_1.filter(lambda pl: pl[0] == pl[1]).count() / test_count\n",
    "print('model accuracy (test): {}'.format(accuracy_te_dt1))\n"
   ]
  },
  {
   "cell_type": "code",
   "execution_count": 169,
   "metadata": {},
   "outputs": [
    {
     "name": "stdout",
     "output_type": "stream",
     "text": [
      "model accuracy (test): 0.8236415633937083\n"
     ]
    }
   ],
   "source": [
    "model_dt2 = DecisionTree.trainClassifier(train_sparse, 2, {}, maxDepth=10)\n",
    "# Evaluate model on test instances and compute test error\n",
    "predictions = model_dt2.predict(test_sparse.map(lambda x: x.features))\n",
    "labelsAndPreds_te2_2 = test_sparse.map(lambda lp: lp.label).zip(predictions)\n",
    "# labelsAndPreds_te3 = test_sparse.map(lambda p: (p.label, float(model_rf.predict(p.features))))\n",
    "\n",
    "\n",
    "accuracy_te_dt2 = 1.0 * labelsAndPreds_te2_2.filter(lambda pl: pl[0] == pl[1]).count() / test_count\n",
    "print('model accuracy (test): {}'.format(accuracy_te_dt2))\n"
   ]
  },
  {
   "cell_type": "code",
   "execution_count": 170,
   "metadata": {},
   "outputs": [
    {
     "name": "stdout",
     "output_type": "stream",
     "text": [
      "model accuracy (test): 0.8334267930241687\n"
     ]
    }
   ],
   "source": [
    "model_dt3 = DecisionTree.trainClassifier(train_sparse, 2, {}, maxDepth=20)\n",
    "# Evaluate model on test instances and compute test error\n",
    "predictions = model_dt3.predict(test_sparse.map(lambda x: x.features))\n",
    "labelsAndPreds_te2_3 = test_sparse.map(lambda lp: lp.label).zip(predictions)\n",
    "# labelsAndPreds_te3 = test_sparse.map(lambda p: (p.label, float(model_rf.predict(p.features))))\n",
    "\n",
    "\n",
    "accuracy_te_dt2 = 1.0 * labelsAndPreds_te2_3.filter(lambda pl: pl[0] == pl[1]).count() / test_count\n",
    "print('model accuracy (test): {}'.format(accuracy_te_dt2))\n"
   ]
  },
  {
   "cell_type": "code",
   "execution_count": 171,
   "metadata": {},
   "outputs": [
    {
     "name": "stdout",
     "output_type": "stream",
     "text": [
      "model accuracy (test): 0.824230359445971\n"
     ]
    }
   ],
   "source": [
    "model_dt4 = DecisionTree.trainClassifier(train_sparse, 2, {}, maxDepth=30)\n",
    "# Evaluate model on test instances and compute test error\n",
    "predictions = model_dt4.predict(test_sparse.map(lambda x: x.features))\n",
    "labelsAndPreds_te2_5 = test_sparse.map(lambda lp: lp.label).zip(predictions)\n",
    "# labelsAndPreds_te3 = test_sparse.map(lambda p: (p.label, float(model_rf.predict(p.features))))\n",
    "\n",
    "\n",
    "accuracy_te_dt2 = 1.0 * labelsAndPreds_te2_5.filter(lambda pl: pl[0] == pl[1]).count() / test_count\n",
    "print('model accuracy (test): {}'.format(accuracy_te_dt2))\n"
   ]
  },
  {
   "cell_type": "markdown",
   "metadata": {},
   "source": [
    "#### Evaluation of base model"
   ]
  },
  {
   "cell_type": "code",
   "execution_count": 198,
   "metadata": {},
   "outputs": [
    {
     "name": "stdout",
     "output_type": "stream",
     "text": [
      "Confusion matrix\n",
      "[[20596.  5033.]\n",
      " [ 1973.  8157.]]\n",
      "False negative rate 19.48%\n",
      "False positive rate 19.64%\n",
      "Precision(TP/all positives) 61.84%\n",
      "Recall(TP/all positive ground truth) 80.52%\n",
      "F1 Score(2*Precision*Recall/(Precision+Recall)) 69.96%\n",
      "Area under PR for Linear regression = 58.58%\n",
      "Area under ROC for Linear regression = 80.44%\n"
     ]
    }
   ],
   "source": [
    "# calculate confusion matrix and AUROC for Decision Tree iter=5\n",
    "\n",
    "metrix_dt1 = MulticlassMetrics(labelsAndPreds_te2_1)\n",
    "con_metrix_dt1=metrix_dt1.confusionMatrix().toArray()\n",
    "\n",
    "print('Confusion matrix')\n",
    "print(con_metrix_rf1)\n",
    "\n",
    "FN2=metrix_dt1.falsePositiveRate(0.0)\n",
    "FP2=metrix_dt1.falsePositiveRate(1.0)\n",
    "\n",
    "print('False negative rate {:2.2%}'.format(FN2))\n",
    "print('False positive rate {:2.2%}'.format(FP2))\n",
    "\n",
    "precision2=metrix_dt1.precision(1.0)\n",
    "recall2=metrix_dt1.recall(1.0)\n",
    "f1score2=(2*precision2*recall2) / (precision2+recall2)\n",
    "\n",
    "print('Precision(TP/all positives) {:2.2%}'.format(precision2))\n",
    "print('Recall(TP/all positive ground truth) {:0.2%}'.format(recall2))\n",
    "print('F1 Score(2*Precision*Recall/(Precision+Recall)) {:0.2%}'.format(f1score2))\n",
    "\n",
    "\n",
    "metrics_tr2 = BinaryClassificationMetrics(labelsAndPreds_te2_1)\n",
    "\n",
    "print(\"Area under PR for Linear regression = {:2.2%}\".format(metrics_tr2.areaUnderPR))\n",
    "\n",
    "# Area under ROC curve for training data\n",
    "print(\"Area under ROC for Linear regression = {:2.2%}\".format(metrics_tr2.areaUnderROC))"
   ]
  },
  {
   "cell_type": "code",
   "execution_count": 199,
   "metadata": {},
   "outputs": [
    {
     "name": "stdout",
     "output_type": "stream",
     "text": [
      "Confusion matrix\n",
      "[[20596.  5033.]\n",
      " [ 1973.  8157.]]\n",
      "False negative rate 15.98%\n",
      "False positive rate 18.58%\n",
      "Precision(TP/all positives) 63.72%\n",
      "Recall(TP/all positive ground truth) 84.02%\n",
      "F1 Score(2*Precision*Recall/(Precision+Recall)) 72.48%\n",
      "Area under PR for Linear regression = 60.87%\n",
      "Area under ROC for Linear regression = 82.72%\n"
     ]
    }
   ],
   "source": [
    "# calculate confusion matrix and AUROC for Decision Tree iter=10\n",
    "\n",
    "metrix_dt1 = MulticlassMetrics(labelsAndPreds_te2_2)\n",
    "con_metrix_dt1=metrix_dt1.confusionMatrix().toArray()\n",
    "\n",
    "print('Confusion matrix')\n",
    "print(con_metrix_rf1)\n",
    "\n",
    "FN2=metrix_dt1.falsePositiveRate(0.0)\n",
    "FP2=metrix_dt1.falsePositiveRate(1.0)\n",
    "\n",
    "print('False negative rate {:2.2%}'.format(FN2))\n",
    "print('False positive rate {:2.2%}'.format(FP2))\n",
    "\n",
    "precision2=metrix_dt1.precision(1.0)\n",
    "recall2=metrix_dt1.recall(1.0)\n",
    "f1score2=(2*precision2*recall2) / (precision2+recall2)\n",
    "\n",
    "print('Precision(TP/all positives) {:2.2%}'.format(precision2))\n",
    "print('Recall(TP/all positive ground truth) {:0.2%}'.format(recall2))\n",
    "print('F1 Score(2*Precision*Recall/(Precision+Recall)) {:0.2%}'.format(f1score2))\n",
    "\n",
    "\n",
    "metrics_tr2 = BinaryClassificationMetrics(labelsAndPreds_te2_2)\n",
    "\n",
    "print(\"Area under PR for Linear regression = {:2.2%}\".format(metrics_tr2.areaUnderPR))\n",
    "\n",
    "# Area under ROC curve for training data\n",
    "print(\"Area under ROC for Linear regression = {:2.2%}\".format(metrics_tr2.areaUnderROC))"
   ]
  },
  {
   "cell_type": "code",
   "execution_count": 200,
   "metadata": {},
   "outputs": [
    {
     "name": "stdout",
     "output_type": "stream",
     "text": [
      "Confusion matrix\n",
      "[[20596.  5033.]\n",
      " [ 1973.  8157.]]\n",
      "False negative rate 21.45%\n",
      "False positive rate 14.41%\n",
      "Precision(TP/all positives) 74.63%\n",
      "Recall(TP/all positive ground truth) 78.55%\n",
      "F1 Score(2*Precision*Recall/(Precision+Recall)) 76.54%\n",
      "Area under PR for Linear regression = 70.39%\n",
      "Area under ROC for Linear regression = 82.07%\n"
     ]
    }
   ],
   "source": [
    "# calculate confusion matrix and AUROC for Decision Tree iter=20\n",
    "\n",
    "metrix_dt1 = MulticlassMetrics(labelsAndPreds_te2_3)\n",
    "con_metrix_dt1=metrix_dt1.confusionMatrix().toArray()\n",
    "\n",
    "print('Confusion matrix')\n",
    "print(con_metrix_rf1)\n",
    "\n",
    "FN2=metrix_dt1.falsePositiveRate(0.0)\n",
    "FP2=metrix_dt1.falsePositiveRate(1.0)\n",
    "\n",
    "print('False negative rate {:2.2%}'.format(FN2))\n",
    "print('False positive rate {:2.2%}'.format(FP2))\n",
    "\n",
    "precision2=metrix_dt1.precision(1.0)\n",
    "recall2=metrix_dt1.recall(1.0)\n",
    "f1score2=(2*precision2*recall2) / (precision2+recall2)\n",
    "\n",
    "print('Precision(TP/all positives) {:2.2%}'.format(precision2))\n",
    "print('Recall(TP/all positive ground truth) {:0.2%}'.format(recall2))\n",
    "print('F1 Score(2*Precision*Recall/(Precision+Recall)) {:0.2%}'.format(f1score2))\n",
    "\n",
    "\n",
    "metrics_tr2 = BinaryClassificationMetrics(labelsAndPreds_te2_3)\n",
    "\n",
    "print(\"Area under PR for Linear regression = {:2.2%}\".format(metrics_tr2.areaUnderPR))\n",
    "\n",
    "# Area under ROC curve for training data\n",
    "print(\"Area under ROC for Linear regression = {:2.2%}\".format(metrics_tr2.areaUnderROC))"
   ]
  },
  {
   "cell_type": "markdown",
   "metadata": {},
   "source": [
    "#### Evaluation of best model"
   ]
  },
  {
   "cell_type": "code",
   "execution_count": 201,
   "metadata": {},
   "outputs": [
    {
     "name": "stdout",
     "output_type": "stream",
     "text": [
      "Confusion matrix\n",
      "[[20596.  5033.]\n",
      " [ 1973.  8157.]]\n",
      "False negative rate 24.68%\n",
      "False positive rate 13.62%\n",
      "Precision(TP/all positives) 76.99%\n",
      "Recall(TP/all positive ground truth) 75.32%\n",
      "F1 Score(2*Precision*Recall/(Precision+Recall)) 76.15%\n",
      "Area under PR for Linear regression = 72.14%\n",
      "Area under ROC for Linear regression = 80.85%\n"
     ]
    }
   ],
   "source": [
    "# calculate confusion matrix and AUROC for Decision Tree iter=30\n",
    "\n",
    "metrix_dt1 = MulticlassMetrics(labelsAndPreds_te2_4)\n",
    "con_metrix_dt1=metrix_dt1.confusionMatrix().toArray()\n",
    "\n",
    "print('Confusion matrix')\n",
    "print(con_metrix_rf1)\n",
    "\n",
    "FN2=metrix_dt1.falsePositiveRate(0.0)\n",
    "FP2=metrix_dt1.falsePositiveRate(1.0)\n",
    "\n",
    "print('False negative rate {:2.2%}'.format(FN2))\n",
    "print('False positive rate {:2.2%}'.format(FP2))\n",
    "\n",
    "precision2=metrix_dt1.precision(1.0)\n",
    "recall2=metrix_dt1.recall(1.0)\n",
    "f1score2=(2*precision2*recall2) / (precision2+recall2)\n",
    "\n",
    "print('Precision(TP/all positives) {:2.2%}'.format(precision2))\n",
    "print('Recall(TP/all positive ground truth) {:0.2%}'.format(recall2))\n",
    "print('F1 Score(2*Precision*Recall/(Precision+Recall)) {:0.2%}'.format(f1score2))\n",
    "\n",
    "\n",
    "metrics_tr2 = BinaryClassificationMetrics(labelsAndPreds_te2_4)\n",
    "\n",
    "print(\"Area under PR for Linear regression = {:2.2%}\".format(metrics_tr2.areaUnderPR))\n",
    "\n",
    "# Area under ROC curve for training data\n",
    "print(\"Area under ROC for Linear regression = {:2.2%}\".format(metrics_tr2.areaUnderROC))"
   ]
  },
  {
   "cell_type": "markdown",
   "metadata": {},
   "source": [
    "### Random Forest"
   ]
  },
  {
   "cell_type": "code",
   "execution_count": 174,
   "metadata": {},
   "outputs": [],
   "source": [
    "from pyspark.mllib.tree import RandomForest, RandomForestModel\n",
    "\n",
    "# Train a RandomForest model.\n",
    "#  Empty categoricalFeaturesInfo indicates all features are continuous.\n",
    "#  Setting featureSubsetStrategy=\"auto\" lets the algorithm choose.\n",
    "model_rf = RandomForest.trainClassifier(train_sparse, numClasses=2, categoricalFeaturesInfo={},\n",
    "                                     numTrees=3, featureSubsetStrategy=\"auto\",\n",
    "                                     impurity='gini', maxDepth=5, maxBins=32)"
   ]
  },
  {
   "cell_type": "code",
   "execution_count": 175,
   "metadata": {},
   "outputs": [
    {
     "name": "stdout",
     "output_type": "stream",
     "text": [
      "model accuracy (test): 0.7586777322940615\n"
     ]
    }
   ],
   "source": [
    "# Evaluate model on test instances and compute test error\n",
    "predictions = model_rf.predict(test_sparse.map(lambda x: x.features))\n",
    "labelsAndPreds_te_rf1 = test_sparse.map(lambda lp: lp.label).zip(predictions)\n",
    "# labelsAndPreds_te3 = test_sparse.map(lambda p: (p.label, float(model_rf.predict(p.features))))\n",
    "\n",
    "\n",
    "accuracy_te_rf1 = 1.0 * labelsAndPreds_te_rf1.filter(lambda pl: pl[0] == pl[1]).count() / test_count\n",
    "print('model accuracy (test): {}'.format(accuracy_te_rf1))"
   ]
  },
  {
   "cell_type": "code",
   "execution_count": 176,
   "metadata": {},
   "outputs": [
    {
     "name": "stdout",
     "output_type": "stream",
     "text": [
      "Confusion matrix\n",
      "[[22498.  8629.]\n",
      " [   71.  4561.]]\n",
      "False negative rate 20.94%\n",
      "False positive rate 19.56%\n",
      "Precision(TP/all positives) 33.10%\n",
      "Recall(TP/all positive ground truth) 99.70%\n",
      "Area under PR for Linear regression = 33.07%\n",
      "Area under ROC for Linear regression = 85.79%\n"
     ]
    }
   ],
   "source": [
    "# calculate confusion matrix and AUROC for random forest\n",
    "\n",
    "metrix_rf1 = MulticlassMetrics(labelsAndPreds_te_rf1)\n",
    "con_metrix_rf1=metrix_rf1.confusionMatrix().toArray()\n",
    "\n",
    "print('Confusion matrix')\n",
    "print(con_metrix_rf1)\n",
    "\n",
    "FN2=metrix1.falsePositiveRate(0.0)\n",
    "FP2=metrix1.falsePositiveRate(1.0)\n",
    "\n",
    "print('False negative rate {:2.2%}'.format(FN2))\n",
    "print('False positive rate {:2.2%}'.format(FP2))\n",
    "\n",
    "precision2=metrix_rf1.precision(1.0)\n",
    "recall2=metrix_rf1.recall(1.0)\n",
    "\n",
    "print('Precision(TP/all positives) {:2.2%}'.format(precision2))\n",
    "print('Recall(TP/all positive ground truth) {:0.2%}'.format(recall2))\n",
    "\n",
    "\n",
    "metrics_tr2 = BinaryClassificationMetrics(labelsAndPreds_te_rf1)\n",
    "\n",
    "print(\"Area under PR for Linear regression = {:2.2%}\".format(metrics_tr2.areaUnderPR))\n",
    "\n",
    "# Area under ROC curve for training data\n",
    "print(\"Area under ROC for Linear regression = {:2.2%}\".format(metrics_tr2.areaUnderROC))"
   ]
  },
  {
   "cell_type": "markdown",
   "metadata": {},
   "source": [
    "### SVM"
   ]
  },
  {
   "cell_type": "code",
   "execution_count": 208,
   "metadata": {},
   "outputs": [
    {
     "name": "stdout",
     "output_type": "stream",
     "text": [
      "model accuracy (test): 0.5407671171423765\n"
     ]
    }
   ],
   "source": [
    "from pyspark.mllib.classification import SVMWithSGD\n",
    "\n",
    "model_svm = SVMWithSGD.train(train,iterations=100)\n",
    "\n",
    "labelsAndPreds_svm1 = test.map(lambda p: (p.label, float(model_svm.predict(p.features))))\n",
    "accuracy_svm1 = 1.0 * labelsAndPreds_svm1.filter(lambda pl: pl[0] == pl[1]).count() / test_count\n",
    "print('model accuracy (test): {}'.format(accuracy_svm1))"
   ]
  },
  {
   "cell_type": "code",
   "execution_count": 209,
   "metadata": {},
   "outputs": [
    {
     "name": "stdout",
     "output_type": "stream",
     "text": [
      "model accuracy (test): 0.6374137834352044\n"
     ]
    }
   ],
   "source": [
    "model_svm_2 = SVMWithSGD.train(train,iterations=100,intercept=True)\n",
    "\n",
    "labelsAndPreds_svm2 = test.map(lambda p: (p.label, float(model_svm_2.predict(p.features))))\n",
    "accuracy_svm2 = 1.0 * labelsAndPreds_svm2.filter(lambda pl: pl[0] == pl[1]).count() / test_count\n",
    "print('model accuracy (test): {}'.format(accuracy_svm2))"
   ]
  },
  {
   "cell_type": "code",
   "execution_count": 210,
   "metadata": {},
   "outputs": [
    {
     "name": "stdout",
     "output_type": "stream",
     "text": [
      "model accuracy (test): 0.6373577076207032\n"
     ]
    }
   ],
   "source": [
    "model_svm_3 = SVMWithSGD.train(train,iterations=200,intercept=True)\n",
    "\n",
    "labelsAndPreds_svm3 = test.map(lambda p: (p.label, float(model_svm_3.predict(p.features))))\n",
    "accuracy_svm3 = 1.0 * labelsAndPreds_svm3.filter(lambda pl: pl[0] == pl[1]).count() / test_count\n",
    "print('model accuracy (test): {}'.format(accuracy_svm3))"
   ]
  },
  {
   "cell_type": "code",
   "execution_count": 211,
   "metadata": {},
   "outputs": [
    {
     "name": "stdout",
     "output_type": "stream",
     "text": [
      "model accuracy (test): 0.6324510738518477\n"
     ]
    }
   ],
   "source": [
    "model_svm_4 = SVMWithSGD.train(train,iterations=300,intercept=True)\n",
    "\n",
    "labelsAndPreds_svm4 = test.map(lambda p: (p.label, float(model_svm_4.predict(p.features))))\n",
    "accuracy_svm4 = 1.0 * labelsAndPreds_svm4.filter(lambda pl: pl[0] == pl[1]).count() / test_count\n",
    "print('model accuracy (test): {}'.format(accuracy_svm4))"
   ]
  },
  {
   "cell_type": "code",
   "execution_count": 212,
   "metadata": {},
   "outputs": [
    {
     "name": "stdout",
     "output_type": "stream",
     "text": [
      "model accuracy (test): 0.5456176750967308\n"
     ]
    }
   ],
   "source": [
    "model_svm_5 = SVMWithSGD.train(train,iterations=200,intercept=False)\n",
    "\n",
    "labelsAndPreds_svm5 = test.map(lambda p: (p.label, float(model_svm_5.predict(p.features))))\n",
    "accuracy_svm5 = 1.0 * labelsAndPreds_svm5.filter(lambda pl: pl[0] == pl[1]).count() / test_count\n",
    "print('model accuracy (test): {}'.format(accuracy_svm5))"
   ]
  },
  {
   "cell_type": "code",
   "execution_count": 213,
   "metadata": {},
   "outputs": [
    {
     "name": "stdout",
     "output_type": "stream",
     "text": [
      "model accuracy (test): 0.6346380306173948\n"
     ]
    }
   ],
   "source": [
    "model_svm_6 = SVMWithSGD.train(train,iterations=200,intercept=True, regType='l1')\n",
    "\n",
    "labelsAndPreds_svm6 = test.map(lambda p: (p.label, float(model_svm_6.predict(p.features))))\n",
    "accuracy_svm6 = 1.0 * labelsAndPreds_svm6.filter(lambda pl: pl[0] == pl[1]).count() / test_count\n",
    "print('model accuracy (test): {}'.format(accuracy_svm6))"
   ]
  },
  {
   "cell_type": "markdown",
   "metadata": {},
   "source": [
    "#### Evaluation of Base design"
   ]
  },
  {
   "cell_type": "code",
   "execution_count": 214,
   "metadata": {},
   "outputs": [
    {
     "name": "stdout",
     "output_type": "stream",
     "text": [
      "Confusion matrix\n",
      "[[ 7361.  1294.]\n",
      " [15085. 11926.]]\n",
      "False negative rate 55.85%\n",
      "False positive rate 14.95%\n",
      "Precision(TP/all positives) 90.21%\n",
      "Recall(TP/all positive ground truth) 44.15%\n",
      "F1 Score(2*Precision*Recall/(Precision+Recall)) 59.29%\n",
      "Area under PR for Linear regression = 86.17%\n",
      "Area under ROC for Linear regression = 64.60%\n"
     ]
    }
   ],
   "source": [
    "# calculate confusion matrix and AUROC for SVM\n",
    "\n",
    "metrix3 = MulticlassMetrics(labelsAndPreds_svm1)\n",
    "con_metrix3=metrix3.confusionMatrix().toArray()\n",
    "\n",
    "print('Confusion matrix')\n",
    "print(con_metrix3)\n",
    "\n",
    "FN3=metrix3.falsePositiveRate(0.0)\n",
    "FP3=metrix3.falsePositiveRate(1.0)\n",
    "\n",
    "print('False negative rate {:2.2%}'.format(FN3))\n",
    "print('False positive rate {:2.2%}'.format(FP3))\n",
    "\n",
    "precision3=metrix3.precision(1.0)\n",
    "recall3=metrix3.recall(1.0)\n",
    "f1score3=(2*precision3*recall3) / (precision3+recall3)\n",
    "\n",
    "print('Precision(TP/all positives) {:2.2%}'.format(precision3))\n",
    "print('Recall(TP/all positive ground truth) {:0.2%}'.format(recall3))\n",
    "print('F1 Score(2*Precision*Recall/(Precision+Recall)) {:0.2%}'.format(f1score3))\n",
    "\n",
    "metrics_tr3 = BinaryClassificationMetrics(labelsAndPreds_svm1)\n",
    "\n",
    "print(\"Area under PR for Linear regression = {:2.2%}\".format(metrics_tr3.areaUnderPR))\n",
    "\n",
    "# Area under ROC curve for training data\n",
    "print(\"Area under ROC for Linear regression = {:2.2%}\".format(metrics_tr3.areaUnderROC))"
   ]
  },
  {
   "cell_type": "markdown",
   "metadata": {},
   "source": [
    "#### Evaluation of Worst Design"
   ]
  },
  {
   "cell_type": "code",
   "execution_count": 215,
   "metadata": {},
   "outputs": [
    {
     "name": "stdout",
     "output_type": "stream",
     "text": [
      "Confusion matrix\n",
      "[[ 7590.  1350.]\n",
      " [14856. 11870.]]\n",
      "False negative rate 55.59%\n",
      "False positive rate 15.10%\n",
      "Precision(TP/all positives) 89.79%\n",
      "Recall(TP/all positive ground truth) 44.41%\n",
      "F1 Score(2*Precision*Recall/(Precision+Recall)) 59.43%\n",
      "Area under PR for Linear regression = 85.66%\n",
      "Area under ROC for Linear regression = 64.66%\n"
     ]
    }
   ],
   "source": [
    "# calculate confusion matrix and AUROC for SVM\n",
    "\n",
    "metrix3 = MulticlassMetrics(labelsAndPreds_svm5)\n",
    "con_metrix3=metrix3.confusionMatrix().toArray()\n",
    "\n",
    "print('Confusion matrix')\n",
    "print(con_metrix3)\n",
    "\n",
    "FN3=metrix3.falsePositiveRate(0.0)\n",
    "FP3=metrix3.falsePositiveRate(1.0)\n",
    "\n",
    "print('False negative rate {:2.2%}'.format(FN3))\n",
    "print('False positive rate {:2.2%}'.format(FP3))\n",
    "\n",
    "precision3=metrix3.precision(1.0)\n",
    "recall3=metrix3.recall(1.0)\n",
    "f1score3=(2*precision3*recall3) / (precision3+recall3)\n",
    "\n",
    "print('Precision(TP/all positives) {:2.2%}'.format(precision3))\n",
    "print('Recall(TP/all positive ground truth) {:0.2%}'.format(recall3))\n",
    "print('F1 Score(2*Precision*Recall/(Precision+Recall)) {:0.2%}'.format(f1score3))\n",
    "\n",
    "metrics_tr3 = BinaryClassificationMetrics(labelsAndPreds_svm5)\n",
    "\n",
    "print(\"Area under PR for Linear regression = {:2.2%}\".format(metrics_tr3.areaUnderPR))\n",
    "\n",
    "# Area under ROC curve for training data\n",
    "print(\"Area under ROC for Linear regression = {:2.2%}\".format(metrics_tr3.areaUnderROC))"
   ]
  },
  {
   "cell_type": "markdown",
   "metadata": {},
   "source": [
    "#### Evaluation of Best Design"
   ]
  },
  {
   "cell_type": "code",
   "execution_count": 216,
   "metadata": {},
   "outputs": [
    {
     "name": "stdout",
     "output_type": "stream",
     "text": [
      "Confusion matrix\n",
      "[[22319. 12807.]\n",
      " [  127.   413.]]\n",
      "False negative rate 23.52%\n",
      "False positive rate 36.46%\n",
      "Precision(TP/all positives) 3.12%\n",
      "Recall(TP/all positive ground truth) 76.48%\n",
      "F1 Score(2*Precision*Recall/(Precision+Recall)) 6.00%\n",
      "Area under PR for Linear regression = 2.93%\n",
      "Area under ROC for Linear regression = 70.01%\n"
     ]
    }
   ],
   "source": [
    "# calculate confusion matrix and AUROC for SVM\n",
    "\n",
    "metrix3 = MulticlassMetrics(labelsAndPreds_svm3)\n",
    "con_metrix3=metrix3.confusionMatrix().toArray()\n",
    "\n",
    "print('Confusion matrix')\n",
    "print(con_metrix3)\n",
    "\n",
    "FN3=metrix3.falsePositiveRate(0.0)\n",
    "FP3=metrix3.falsePositiveRate(1.0)\n",
    "\n",
    "print('False negative rate {:2.2%}'.format(FN3))\n",
    "print('False positive rate {:2.2%}'.format(FP3))\n",
    "\n",
    "precision3=metrix3.precision(1.0)\n",
    "recall3=metrix3.recall(1.0)\n",
    "f1score3=(2*precision3*recall3) / (precision3+recall3)\n",
    "\n",
    "print('Precision(TP/all positives) {:2.2%}'.format(precision3))\n",
    "print('Recall(TP/all positive ground truth) {:0.2%}'.format(recall3))\n",
    "print('F1 Score(2*Precision*Recall/(Precision+Recall)) {:0.2%}'.format(f1score3))\n",
    "\n",
    "metrics_tr3 = BinaryClassificationMetrics(labelsAndPreds_svm3)\n",
    "\n",
    "print(\"Area under PR for Linear regression = {:2.2%}\".format(metrics_tr3.areaUnderPR))\n",
    "\n",
    "# Area under ROC curve for training data\n",
    "print(\"Area under ROC for Linear regression = {:2.2%}\".format(metrics_tr3.areaUnderROC))"
   ]
  },
  {
   "cell_type": "code",
   "execution_count": null,
   "metadata": {},
   "outputs": [],
   "source": []
  }
 ],
 "metadata": {
  "kernelspec": {
   "display_name": "Python 3",
   "language": "python",
   "name": "python3"
  },
  "language_info": {
   "codemirror_mode": {
    "name": "ipython",
    "version": 3
   },
   "file_extension": ".py",
   "mimetype": "text/x-python",
   "name": "python",
   "nbconvert_exporter": "python",
   "pygments_lexer": "ipython3",
   "version": "3.7.6"
  }
 },
 "nbformat": 4,
 "nbformat_minor": 4
}

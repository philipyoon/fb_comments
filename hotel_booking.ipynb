{
 "cells": [
  {
   "cell_type": "markdown",
   "metadata": {},
   "source": [
    "# Big Data Analytics of Hotel Bookings"
   ]
  },
  {
   "cell_type": "markdown",
   "metadata": {},
   "source": [
    "### Data Import"
   ]
  },
  {
   "cell_type": "code",
   "execution_count": 2,
   "metadata": {},
   "outputs": [],
   "source": [
    "# import modules\n",
    "import pandas as pd\n",
    "from pyspark.sql import SparkSession"
   ]
  },
  {
   "cell_type": "code",
   "execution_count": 3,
   "metadata": {},
   "outputs": [],
   "source": [
    "# build spark session and spark context\n",
    "spark = SparkSession.builder \\\n",
    "        .appName(\"hotel\") \\\n",
    "        .getOrCreate()\n",
    "sc = spark.sparkContext"
   ]
  },
  {
   "cell_type": "code",
   "execution_count": 4,
   "metadata": {},
   "outputs": [
    {
     "data": {
      "text/plain": [
       "[Row(hotel='Resort Hotel', is_canceled=0, lead_time=342, arrival_date_year=2015, arrival_date_month='July', arrival_date_week_number=27, arrival_date_day_of_month=1, stays_in_weekend_nights=0, stays_in_week_nights=0, adults=2, children='0', babies=0, meal='BB', country='PRT', market_segment='Direct', distribution_channel='Direct', is_repeated_guest=0, previous_cancellations=0, previous_bookings_not_canceled=0, reserved_room_type='C', assigned_room_type='C', booking_changes=3, deposit_type='No Deposit', agent='NULL', company='NULL', days_in_waiting_list=0, customer_type='Transient', adr=0.0, required_car_parking_spaces=0, total_of_special_requests=0, reservation_status='Check-Out', reservation_status_date='2015-07-01'),\n",
       " Row(hotel='Resort Hotel', is_canceled=0, lead_time=737, arrival_date_year=2015, arrival_date_month='July', arrival_date_week_number=27, arrival_date_day_of_month=1, stays_in_weekend_nights=0, stays_in_week_nights=0, adults=2, children='0', babies=0, meal='BB', country='PRT', market_segment='Direct', distribution_channel='Direct', is_repeated_guest=0, previous_cancellations=0, previous_bookings_not_canceled=0, reserved_room_type='C', assigned_room_type='C', booking_changes=4, deposit_type='No Deposit', agent='NULL', company='NULL', days_in_waiting_list=0, customer_type='Transient', adr=0.0, required_car_parking_spaces=0, total_of_special_requests=0, reservation_status='Check-Out', reservation_status_date='2015-07-01')]"
      ]
     },
     "execution_count": 4,
     "metadata": {},
     "output_type": "execute_result"
    }
   ],
   "source": [
    "df = spark.read.csv('hotel_bookings.csv',  inferSchema=True, header = True)\n",
    "df.take(2)"
   ]
  },
  {
   "cell_type": "code",
   "execution_count": 5,
   "metadata": {},
   "outputs": [
    {
     "name": "stdout",
     "output_type": "stream",
     "text": [
      "root\n",
      " |-- hotel: string (nullable = true)\n",
      " |-- is_canceled: integer (nullable = true)\n",
      " |-- lead_time: integer (nullable = true)\n",
      " |-- arrival_date_year: integer (nullable = true)\n",
      " |-- arrival_date_month: string (nullable = true)\n",
      " |-- arrival_date_week_number: integer (nullable = true)\n",
      " |-- arrival_date_day_of_month: integer (nullable = true)\n",
      " |-- stays_in_weekend_nights: integer (nullable = true)\n",
      " |-- stays_in_week_nights: integer (nullable = true)\n",
      " |-- adults: integer (nullable = true)\n",
      " |-- children: string (nullable = true)\n",
      " |-- babies: integer (nullable = true)\n",
      " |-- meal: string (nullable = true)\n",
      " |-- country: string (nullable = true)\n",
      " |-- market_segment: string (nullable = true)\n",
      " |-- distribution_channel: string (nullable = true)\n",
      " |-- is_repeated_guest: integer (nullable = true)\n",
      " |-- previous_cancellations: integer (nullable = true)\n",
      " |-- previous_bookings_not_canceled: integer (nullable = true)\n",
      " |-- reserved_room_type: string (nullable = true)\n",
      " |-- assigned_room_type: string (nullable = true)\n",
      " |-- booking_changes: integer (nullable = true)\n",
      " |-- deposit_type: string (nullable = true)\n",
      " |-- agent: string (nullable = true)\n",
      " |-- company: string (nullable = true)\n",
      " |-- days_in_waiting_list: integer (nullable = true)\n",
      " |-- customer_type: string (nullable = true)\n",
      " |-- adr: double (nullable = true)\n",
      " |-- required_car_parking_spaces: integer (nullable = true)\n",
      " |-- total_of_special_requests: integer (nullable = true)\n",
      " |-- reservation_status: string (nullable = true)\n",
      " |-- reservation_status_date: string (nullable = true)\n",
      "\n"
     ]
    }
   ],
   "source": [
    "# view columns and schema\n",
    "df.printSchema()"
   ]
  },
  {
   "cell_type": "markdown",
   "metadata": {},
   "source": [
    "### Data Preprocessing"
   ]
  },
  {
   "cell_type": "code",
   "execution_count": 6,
   "metadata": {},
   "outputs": [
    {
     "name": "stdout",
     "output_type": "stream",
     "text": [
      "+-----+-----------+---------+-----------------+------------------+------------------------+-------------------------+-----------------------+--------------------+------+--------+------+----+-------+--------------+--------------------+-----------------+----------------------+------------------------------+------------------+------------------+---------------+------------+-----+-------+--------------------+-------------+---+---------------------------+-------------------------+------------------+-----------------------+\n",
      "|hotel|is_canceled|lead_time|arrival_date_year|arrival_date_month|arrival_date_week_number|arrival_date_day_of_month|stays_in_weekend_nights|stays_in_week_nights|adults|children|babies|meal|country|market_segment|distribution_channel|is_repeated_guest|previous_cancellations|previous_bookings_not_canceled|reserved_room_type|assigned_room_type|booking_changes|deposit_type|agent|company|days_in_waiting_list|customer_type|adr|required_car_parking_spaces|total_of_special_requests|reservation_status|reservation_status_date|\n",
      "+-----+-----------+---------+-----------------+------------------+------------------------+-------------------------+-----------------------+--------------------+------+--------+------+----+-------+--------------+--------------------+-----------------+----------------------+------------------------------+------------------+------------------+---------------+------------+-----+-------+--------------------+-------------+---+---------------------------+-------------------------+------------------+-----------------------+\n",
      "|    0|          0|        0|                0|                 0|                       0|                        0|                      0|                   0|     0|       4|     0|   0|    488|             0|                   0|                0|                     0|                             0|                 0|                 0|              0|           0|16340| 112593|                   0|            0|  0|                          0|                        0|                 0|                      0|\n",
      "+-----+-----------+---------+-----------------+------------------+------------------------+-------------------------+-----------------------+--------------------+------+--------+------+----+-------+--------------+--------------------+-----------------+----------------------+------------------------------+------------------+------------------+---------------+------------+-----+-------+--------------------+-------------+---+---------------------------+-------------------------+------------------+-----------------------+\n",
      "\n"
     ]
    }
   ],
   "source": [
    "# replace the strings \"NULL\" and \"NA\" with null value\n",
    "df_withNull = df.replace('NULL', None).replace('NA', None)\n",
    "\n",
    "# view number of null values per column\n",
    "from pyspark.sql.functions import isnan, when, count, col\n",
    "df_withNull.select([count(when(col(c).isNull(), c)).alias(c) for c in df_withNull.columns]).show()"
   ]
  },
  {
   "cell_type": "code",
   "execution_count": 7,
   "metadata": {},
   "outputs": [],
   "source": [
    "# replace null values in 'children' to 0 since there are only 4\n",
    "df2 = df_withNull.fillna({'children':0})\n",
    "\n",
    "# replace 'children' datatype to int\n",
    "df2 = df2.withColumn('children', col('children').cast(\"Int\"))"
   ]
  },
  {
   "cell_type": "code",
   "execution_count": 8,
   "metadata": {},
   "outputs": [],
   "source": [
    "# drop 'company' and 'agent' due to high null count\n",
    "df2 = df2.drop('agent', 'company','country', 'arrival_date_week_number')"
   ]
  },
  {
   "cell_type": "code",
   "execution_count": 9,
   "metadata": {},
   "outputs": [
    {
     "data": {
      "text/plain": [
       "[('hotel', 'string'),\n",
       " ('is_canceled', 'int'),\n",
       " ('lead_time', 'int'),\n",
       " ('arrival_date_year', 'int'),\n",
       " ('arrival_date_month', 'string'),\n",
       " ('arrival_date_day_of_month', 'int'),\n",
       " ('stays_in_weekend_nights', 'int'),\n",
       " ('stays_in_week_nights', 'int'),\n",
       " ('adults', 'int'),\n",
       " ('children', 'int'),\n",
       " ('babies', 'int'),\n",
       " ('meal', 'string'),\n",
       " ('market_segment', 'string'),\n",
       " ('distribution_channel', 'string'),\n",
       " ('is_repeated_guest', 'int'),\n",
       " ('previous_cancellations', 'int'),\n",
       " ('previous_bookings_not_canceled', 'int'),\n",
       " ('reserved_room_type', 'string'),\n",
       " ('assigned_room_type', 'string'),\n",
       " ('booking_changes', 'int'),\n",
       " ('deposit_type', 'string'),\n",
       " ('days_in_waiting_list', 'int'),\n",
       " ('customer_type', 'string'),\n",
       " ('adr', 'double'),\n",
       " ('required_car_parking_spaces', 'int'),\n",
       " ('total_of_special_requests', 'int'),\n",
       " ('reservation_status', 'string'),\n",
       " ('reservation_status_date', 'string')]"
      ]
     },
     "execution_count": 9,
     "metadata": {},
     "output_type": "execute_result"
    }
   ],
   "source": [
    "df2.dtypes"
   ]
  },
  {
   "cell_type": "code",
   "execution_count": 10,
   "metadata": {},
   "outputs": [
    {
     "name": "stdout",
     "output_type": "stream",
     "text": [
      "+------------------+-----+\n",
      "|arrival_date_month|count|\n",
      "+------------------+-----+\n",
      "|              July|12661|\n",
      "|          November| 6794|\n",
      "|          February| 8068|\n",
      "|           January| 5929|\n",
      "|             March| 9794|\n",
      "|           October|11160|\n",
      "|               May|11791|\n",
      "|            August|13877|\n",
      "|             April|11089|\n",
      "|              June|10939|\n",
      "|          December| 6780|\n",
      "|         September|10508|\n",
      "+------------------+-----+\n",
      "\n"
     ]
    }
   ],
   "source": [
    "df2.groupBy('arrival_date_month').count().show()"
   ]
  },
  {
   "cell_type": "code",
   "execution_count": 11,
   "metadata": {},
   "outputs": [],
   "source": [
    "#month_num = df2.replace('January', '1')\\\n",
    "#                .replace('February', '2')\\\n",
    "#                .replace('March', '3')\\\n",
    "#                .replace('April', '4')\\\n",
    "#                .replace('May', '5')\\\n",
    "#                .replace('June', '6')\n",
    "\n"
   ]
  },
  {
   "cell_type": "code",
   "execution_count": 12,
   "metadata": {},
   "outputs": [],
   "source": [
    "#month_num = month_num.replace('July', '7')\\\n",
    "#                      .replace('August', '8')\\\n",
    "#                .replace('September', '9')\\\n",
    "#                .replace('October', '10')\\\n",
    "#                .replace('November', '11')\\\n",
    "#                .replace('December', '12')\n",
    "\n"
   ]
  },
  {
   "cell_type": "markdown",
   "metadata": {},
   "source": [
    "**Data Preprocessing Todo's**\n",
    "- map arrival_date_month from strings to numbers: so \"January\" = 1, etc.\n",
    "- numerically encode all the other string variables, otherwise remove them  "
   ]
  },
  {
   "cell_type": "code",
   "execution_count": 13,
   "metadata": {},
   "outputs": [
    {
     "data": {
      "text/plain": [
       "Ellipsis"
      ]
     },
     "execution_count": 13,
     "metadata": {},
     "output_type": "execute_result"
    }
   ],
   "source": [
    "# numerically encode arrival_date_month\n",
    "#done in next cell?"
   ]
  },
  {
   "cell_type": "code",
   "execution_count": 15,
   "metadata": {},
   "outputs": [],
   "source": [
    "#numerically encode all columns of type string\n",
    "\n",
    "from pyspark.ml import Pipeline\n",
    "from pyspark.ml.feature import OneHotEncoder, OneHotEncoderModel, StringIndexer\n",
    "\n",
    "\n",
    "col_string=['hotel', 'arrival_date_month','meal','market_segment','distribution_channel','reserved_room_type','assigned_room_type','deposit_type','customer_type','reservation_status','reservation_status_date']\n",
    "col_num=[x+\"_NUMERIC\" for x in col_string]\n",
    "\n",
    "#add other columns for encoding\n",
    "col_num=col_num+['arrival_date_year','arrival_date_day_of_month']\n",
    "\n",
    "col_oh=[x+\"_oh\" for x in col_string]\n",
    "\n",
    "col_oh=col_oh+['arrival_date_year_oh','arrival_date_day_of_month_oh']"
   ]
  },
  {
   "cell_type": "code",
   "execution_count": 16,
   "metadata": {},
   "outputs": [],
   "source": [
    "indexers = [StringIndexer(inputCol=column, outputCol=column+\"_NUMERIC\").fit(df2) for column in col_string]\n",
    "pipeline = Pipeline(stages=indexers)\n",
    "df_indexed = pipeline.fit(df2).transform(df2)"
   ]
  },
  {
   "cell_type": "code",
   "execution_count": 17,
   "metadata": {},
   "outputs": [
    {
     "data": {
      "text/plain": [
       "[('hotel', 'string'),\n",
       " ('is_canceled', 'int'),\n",
       " ('lead_time', 'int'),\n",
       " ('arrival_date_year', 'int'),\n",
       " ('arrival_date_month', 'string'),\n",
       " ('arrival_date_day_of_month', 'int'),\n",
       " ('stays_in_weekend_nights', 'int'),\n",
       " ('stays_in_week_nights', 'int'),\n",
       " ('adults', 'int'),\n",
       " ('children', 'int'),\n",
       " ('babies', 'int'),\n",
       " ('meal', 'string'),\n",
       " ('market_segment', 'string'),\n",
       " ('distribution_channel', 'string'),\n",
       " ('is_repeated_guest', 'int'),\n",
       " ('previous_cancellations', 'int'),\n",
       " ('previous_bookings_not_canceled', 'int'),\n",
       " ('reserved_room_type', 'string'),\n",
       " ('assigned_room_type', 'string'),\n",
       " ('booking_changes', 'int'),\n",
       " ('deposit_type', 'string'),\n",
       " ('days_in_waiting_list', 'int'),\n",
       " ('customer_type', 'string'),\n",
       " ('adr', 'double'),\n",
       " ('required_car_parking_spaces', 'int'),\n",
       " ('total_of_special_requests', 'int'),\n",
       " ('reservation_status', 'string'),\n",
       " ('reservation_status_date', 'string'),\n",
       " ('hotel_NUMERIC', 'double'),\n",
       " ('arrival_date_month_NUMERIC', 'double'),\n",
       " ('meal_NUMERIC', 'double'),\n",
       " ('market_segment_NUMERIC', 'double'),\n",
       " ('distribution_channel_NUMERIC', 'double'),\n",
       " ('reserved_room_type_NUMERIC', 'double'),\n",
       " ('assigned_room_type_NUMERIC', 'double'),\n",
       " ('deposit_type_NUMERIC', 'double'),\n",
       " ('customer_type_NUMERIC', 'double'),\n",
       " ('reservation_status_NUMERIC', 'double'),\n",
       " ('reservation_status_date_NUMERIC', 'double')]"
      ]
     },
     "execution_count": 17,
     "metadata": {},
     "output_type": "execute_result"
    }
   ],
   "source": [
    "df_indexed.dtypes"
   ]
  },
  {
   "cell_type": "code",
   "execution_count": 18,
   "metadata": {},
   "outputs": [],
   "source": [
    "#one-hot encode all columns in col_num\n",
    "\n",
    "ohe = OneHotEncoder(dropLast=False)\n",
    "ohe.setInputCols(col_num)\n",
    "ohe.setOutputCols(col_oh)\n",
    "model = ohe.fit(df_indexed)\n",
    "\n",
    "df_casted=model.transform(df_indexed)\n"
   ]
  },
  {
   "cell_type": "code",
   "execution_count": 19,
   "metadata": {},
   "outputs": [
    {
     "data": {
      "text/plain": [
       "[('hotel', 'string'),\n",
       " ('is_canceled', 'int'),\n",
       " ('lead_time', 'int'),\n",
       " ('arrival_date_year', 'int'),\n",
       " ('arrival_date_month', 'string'),\n",
       " ('arrival_date_day_of_month', 'int'),\n",
       " ('stays_in_weekend_nights', 'int'),\n",
       " ('stays_in_week_nights', 'int'),\n",
       " ('adults', 'int'),\n",
       " ('children', 'int'),\n",
       " ('babies', 'int'),\n",
       " ('meal', 'string'),\n",
       " ('market_segment', 'string'),\n",
       " ('distribution_channel', 'string'),\n",
       " ('is_repeated_guest', 'int'),\n",
       " ('previous_cancellations', 'int'),\n",
       " ('previous_bookings_not_canceled', 'int'),\n",
       " ('reserved_room_type', 'string'),\n",
       " ('assigned_room_type', 'string'),\n",
       " ('booking_changes', 'int'),\n",
       " ('deposit_type', 'string'),\n",
       " ('days_in_waiting_list', 'int'),\n",
       " ('customer_type', 'string'),\n",
       " ('adr', 'double'),\n",
       " ('required_car_parking_spaces', 'int'),\n",
       " ('total_of_special_requests', 'int'),\n",
       " ('reservation_status', 'string'),\n",
       " ('reservation_status_date', 'string'),\n",
       " ('hotel_NUMERIC', 'double'),\n",
       " ('arrival_date_month_NUMERIC', 'double'),\n",
       " ('meal_NUMERIC', 'double'),\n",
       " ('market_segment_NUMERIC', 'double'),\n",
       " ('distribution_channel_NUMERIC', 'double'),\n",
       " ('reserved_room_type_NUMERIC', 'double'),\n",
       " ('assigned_room_type_NUMERIC', 'double'),\n",
       " ('deposit_type_NUMERIC', 'double'),\n",
       " ('customer_type_NUMERIC', 'double'),\n",
       " ('reservation_status_NUMERIC', 'double'),\n",
       " ('reservation_status_date_NUMERIC', 'double'),\n",
       " ('distribution_channel_oh', 'vector'),\n",
       " ('customer_type_oh', 'vector'),\n",
       " ('reservation_status_date_oh', 'vector'),\n",
       " ('arrival_date_day_of_month_oh', 'vector'),\n",
       " ('reservation_status_oh', 'vector'),\n",
       " ('market_segment_oh', 'vector'),\n",
       " ('reserved_room_type_oh', 'vector'),\n",
       " ('assigned_room_type_oh', 'vector'),\n",
       " ('meal_oh', 'vector'),\n",
       " ('hotel_oh', 'vector'),\n",
       " ('deposit_type_oh', 'vector'),\n",
       " ('arrival_date_year_oh', 'vector'),\n",
       " ('arrival_date_month_oh', 'vector')]"
      ]
     },
     "execution_count": 19,
     "metadata": {},
     "output_type": "execute_result"
    }
   ],
   "source": [
    "df_casted.dtypes"
   ]
  },
  {
   "cell_type": "code",
   "execution_count": 20,
   "metadata": {},
   "outputs": [
    {
     "name": "stdout",
     "output_type": "stream",
     "text": [
      "+---------------+------+\n",
      "|booking_changes| count|\n",
      "+---------------+------+\n",
      "|             12|     2|\n",
      "|              1| 12701|\n",
      "|             13|     5|\n",
      "|              6|    63|\n",
      "|             16|     2|\n",
      "|              3|   927|\n",
      "|             20|     1|\n",
      "|              5|   118|\n",
      "|             15|     3|\n",
      "|             17|     2|\n",
      "|              9|     8|\n",
      "|              4|   376|\n",
      "|              8|    17|\n",
      "|              7|    31|\n",
      "|             10|     6|\n",
      "|             21|     1|\n",
      "|             11|     2|\n",
      "|             14|     5|\n",
      "|              2|  3805|\n",
      "|              0|101314|\n",
      "+---------------+------+\n",
      "only showing top 20 rows\n",
      "\n"
     ]
    }
   ],
   "source": [
    "#check oh encoded df_casted\n",
    "df_casted.groupBy('booking_changes').count().show()"
   ]
  },
  {
   "cell_type": "code",
   "execution_count": 21,
   "metadata": {},
   "outputs": [
    {
     "name": "stdout",
     "output_type": "stream",
     "text": [
      "+--------------------+-----+\n",
      "|arrival_date_year_oh|count|\n",
      "+--------------------+-----+\n",
      "| (2018,[2017],[1.0])|40687|\n",
      "| (2018,[2015],[1.0])|21996|\n",
      "| (2018,[2016],[1.0])|56707|\n",
      "+--------------------+-----+\n",
      "\n"
     ]
    }
   ],
   "source": [
    "df_casted.groupBy('arrival_date_year_oh').count().show()"
   ]
  },
  {
   "cell_type": "code",
   "execution_count": 22,
   "metadata": {},
   "outputs": [],
   "source": [
    "df_encoded=df_casted.drop(*col_string)\n",
    "df_encoded=df_encoded.drop(*col_num)"
   ]
  },
  {
   "cell_type": "code",
   "execution_count": 23,
   "metadata": {},
   "outputs": [
    {
     "data": {
      "text/plain": [
       "[('is_canceled', 'int'),\n",
       " ('lead_time', 'int'),\n",
       " ('stays_in_weekend_nights', 'int'),\n",
       " ('stays_in_week_nights', 'int'),\n",
       " ('adults', 'int'),\n",
       " ('children', 'int'),\n",
       " ('babies', 'int'),\n",
       " ('is_repeated_guest', 'int'),\n",
       " ('previous_cancellations', 'int'),\n",
       " ('previous_bookings_not_canceled', 'int'),\n",
       " ('booking_changes', 'int'),\n",
       " ('days_in_waiting_list', 'int'),\n",
       " ('adr', 'double'),\n",
       " ('required_car_parking_spaces', 'int'),\n",
       " ('total_of_special_requests', 'int'),\n",
       " ('distribution_channel_oh', 'vector'),\n",
       " ('customer_type_oh', 'vector'),\n",
       " ('reservation_status_date_oh', 'vector'),\n",
       " ('arrival_date_day_of_month_oh', 'vector'),\n",
       " ('reservation_status_oh', 'vector'),\n",
       " ('market_segment_oh', 'vector'),\n",
       " ('reserved_room_type_oh', 'vector'),\n",
       " ('assigned_room_type_oh', 'vector'),\n",
       " ('meal_oh', 'vector'),\n",
       " ('hotel_oh', 'vector'),\n",
       " ('deposit_type_oh', 'vector'),\n",
       " ('arrival_date_year_oh', 'vector'),\n",
       " ('arrival_date_month_oh', 'vector')]"
      ]
     },
     "execution_count": 23,
     "metadata": {},
     "output_type": "execute_result"
    }
   ],
   "source": [
    "df_encoded.dtypes"
   ]
  },
  {
   "cell_type": "code",
   "execution_count": 24,
   "metadata": {},
   "outputs": [
    {
     "name": "stdout",
     "output_type": "stream",
     "text": [
      "+---------------------+-----+\n",
      "|arrival_date_month_oh|count|\n",
      "+---------------------+-----+\n",
      "|       (12,[0],[1.0])|13877|\n",
      "|       (12,[9],[1.0])| 6794|\n",
      "|       (12,[8],[1.0])| 8068|\n",
      "|      (12,[10],[1.0])| 6780|\n",
      "|       (12,[1],[1.0])|12661|\n",
      "|       (12,[4],[1.0])|11089|\n",
      "|       (12,[3],[1.0])|11160|\n",
      "|       (12,[6],[1.0])|10508|\n",
      "|       (12,[5],[1.0])|10939|\n",
      "|       (12,[2],[1.0])|11791|\n",
      "|       (12,[7],[1.0])| 9794|\n",
      "|      (12,[11],[1.0])| 5929|\n",
      "+---------------------+-----+\n",
      "\n"
     ]
    }
   ],
   "source": [
    "df_encoded.groupBy('arrival_date_month_oh').count().show()"
   ]
  },
  {
   "cell_type": "code",
   "execution_count": 25,
   "metadata": {},
   "outputs": [
    {
     "name": "stdout",
     "output_type": "stream",
     "text": [
      "+-----------+---------+-----------------------+--------------------+------+--------+------+-----------------+----------------------+------------------------------+---------------+--------------------+---+---------------------------+-------------------------+-----------------------+----------------+--------------------------+----------------------------+---------------------+-----------------+---------------------+---------------------+-------------+-------------+---------------+--------------------+---------------------+\n",
      "|is_canceled|lead_time|stays_in_weekend_nights|stays_in_week_nights|adults|children|babies|is_repeated_guest|previous_cancellations|previous_bookings_not_canceled|booking_changes|days_in_waiting_list|adr|required_car_parking_spaces|total_of_special_requests|distribution_channel_oh|customer_type_oh|reservation_status_date_oh|arrival_date_day_of_month_oh|reservation_status_oh|market_segment_oh|reserved_room_type_oh|assigned_room_type_oh|      meal_oh|     hotel_oh|deposit_type_oh|arrival_date_year_oh|arrival_date_month_oh|\n",
      "+-----------+---------+-----------------------+--------------------+------+--------+------+-----------------+----------------------+------------------------------+---------------+--------------------+---+---------------------------+-------------------------+-----------------------+----------------+--------------------------+----------------------------+---------------------+-----------------+---------------------+---------------------+-------------+-------------+---------------+--------------------+---------------------+\n",
      "|          0|      342|                      0|                   0|     2|       0|     0|                0|                     0|                             0|              3|                   0|0.0|                          0|                        0|          (5,[1],[1.0])|   (4,[0],[1.0])|         (926,[825],[1.0])|              (32,[1],[1.0])|        (3,[0],[1.0])|    (8,[3],[1.0])|       (10,[6],[1.0])|       (12,[5],[1.0])|(4,[0],[1.0])|(2,[1],[1.0])|  (3,[0],[1.0])| (2018,[2015],[1.0])|       (12,[1],[1.0])|\n",
      "|          0|      737|                      0|                   0|     2|       0|     0|                0|                     0|                             0|              4|                   0|0.0|                          0|                        0|          (5,[1],[1.0])|   (4,[0],[1.0])|         (926,[825],[1.0])|              (32,[1],[1.0])|        (3,[0],[1.0])|    (8,[3],[1.0])|       (10,[6],[1.0])|       (12,[5],[1.0])|(4,[0],[1.0])|(2,[1],[1.0])|  (3,[0],[1.0])| (2018,[2015],[1.0])|       (12,[1],[1.0])|\n",
      "+-----------+---------+-----------------------+--------------------+------+--------+------+-----------------+----------------------+------------------------------+---------------+--------------------+---+---------------------------+-------------------------+-----------------------+----------------+--------------------------+----------------------------+---------------------+-----------------+---------------------+---------------------+-------------+-------------+---------------+--------------------+---------------------+\n",
      "only showing top 2 rows\n",
      "\n"
     ]
    }
   ],
   "source": [
    "df_encoded.show(2)"
   ]
  },
  {
   "cell_type": "code",
   "execution_count": 26,
   "metadata": {},
   "outputs": [
    {
     "data": {
      "text/plain": [
       "['is_canceled',\n",
       " 'lead_time',\n",
       " 'stays_in_weekend_nights',\n",
       " 'stays_in_week_nights',\n",
       " 'adults',\n",
       " 'children',\n",
       " 'babies',\n",
       " 'is_repeated_guest',\n",
       " 'previous_cancellations',\n",
       " 'previous_bookings_not_canceled',\n",
       " 'booking_changes',\n",
       " 'days_in_waiting_list',\n",
       " 'adr',\n",
       " 'required_car_parking_spaces',\n",
       " 'total_of_special_requests',\n",
       " 'distribution_channel_oh',\n",
       " 'customer_type_oh',\n",
       " 'reservation_status_date_oh',\n",
       " 'arrival_date_day_of_month_oh',\n",
       " 'reservation_status_oh',\n",
       " 'market_segment_oh',\n",
       " 'reserved_room_type_oh',\n",
       " 'assigned_room_type_oh',\n",
       " 'meal_oh',\n",
       " 'hotel_oh',\n",
       " 'deposit_type_oh',\n",
       " 'arrival_date_year_oh',\n",
       " 'arrival_date_month_oh']"
      ]
     },
     "execution_count": 26,
     "metadata": {},
     "output_type": "execute_result"
    }
   ],
   "source": [
    "columns_ = df_encoded.columns\n",
    "columns_"
   ]
  },
  {
   "cell_type": "code",
   "execution_count": 27,
   "metadata": {},
   "outputs": [
    {
     "name": "stdout",
     "output_type": "stream",
     "text": [
      "Normalized using L^1 norm\n"
     ]
    }
   ],
   "source": [
    "from pyspark.ml.feature import Normalizer\n",
    "from pyspark.ml.linalg import Vectors\n",
    "\n",
    "df_encoded=df_casted.drop(*col_string)\n",
    "df_encoded=df_encoded.drop(*col_num)\n",
    "\n",
    "#columns of all vector type data that are going to be normalied \n",
    "columns_ = ['distribution_channel_oh',\n",
    " 'customer_type_oh',\n",
    " 'reservation_status_date_oh',\n",
    " 'arrival_date_day_of_month_oh',\n",
    " 'reservation_status_oh',\n",
    " 'market_segment_oh',\n",
    " 'reserved_room_type_oh',\n",
    " 'assigned_room_type_oh',\n",
    " 'meal_oh',\n",
    " 'hotel_oh',\n",
    " 'deposit_type_oh',\n",
    " 'arrival_date_year_oh',\n",
    " 'arrival_date_month_oh']\n",
    "\n",
    "\n",
    "#normalizing all vector type data with l^1 norm\n",
    "for column in columns_:\n",
    "    normalizer = Normalizer(inputCol=column, outputCol=column+\"_NORM\", p=1.0) \n",
    "    l1NormData = normalizer.transform(df_encoded)\n",
    "    df_encoded = l1NormData\n",
    "l1NormData = df_encoded\n",
    "print(\"Normalized using L^1 norm\")\n",
    "\n",
    "l1NormData = l1NormData.drop(*columns_)\n",
    "#l1NormData.show()"
   ]
  },
  {
   "cell_type": "code",
   "execution_count": 28,
   "metadata": {},
   "outputs": [
    {
     "data": {
      "text/plain": [
       "[('is_canceled', 'int'),\n",
       " ('lead_time', 'int'),\n",
       " ('stays_in_weekend_nights', 'int'),\n",
       " ('stays_in_week_nights', 'int'),\n",
       " ('adults', 'int'),\n",
       " ('children', 'int'),\n",
       " ('babies', 'int'),\n",
       " ('is_repeated_guest', 'int'),\n",
       " ('previous_cancellations', 'int'),\n",
       " ('previous_bookings_not_canceled', 'int'),\n",
       " ('booking_changes', 'int'),\n",
       " ('days_in_waiting_list', 'int'),\n",
       " ('adr', 'double'),\n",
       " ('required_car_parking_spaces', 'int'),\n",
       " ('total_of_special_requests', 'int'),\n",
       " ('distribution_channel_oh_NORM', 'vector'),\n",
       " ('customer_type_oh_NORM', 'vector'),\n",
       " ('reservation_status_date_oh_NORM', 'vector'),\n",
       " ('arrival_date_day_of_month_oh_NORM', 'vector'),\n",
       " ('reservation_status_oh_NORM', 'vector'),\n",
       " ('market_segment_oh_NORM', 'vector'),\n",
       " ('reserved_room_type_oh_NORM', 'vector'),\n",
       " ('assigned_room_type_oh_NORM', 'vector'),\n",
       " ('meal_oh_NORM', 'vector'),\n",
       " ('hotel_oh_NORM', 'vector'),\n",
       " ('deposit_type_oh_NORM', 'vector'),\n",
       " ('arrival_date_year_oh_NORM', 'vector'),\n",
       " ('arrival_date_month_oh_NORM', 'vector')]"
      ]
     },
     "execution_count": 28,
     "metadata": {},
     "output_type": "execute_result"
    }
   ],
   "source": [
    "l1NormData.dtypes"
   ]
  },
  {
   "cell_type": "code",
   "execution_count": 39,
   "metadata": {},
   "outputs": [],
   "source": [
    "# convert to RDD\n",
    "# data_rdd = df2.rdd\n",
    "\n",
    "data_rdd = df_encoded.rdd\n",
    "\n",
    "seed = 42\n",
    "\n",
    "# 70/30 test train split\n",
    "train, test = data_rdd.randomSplit([0.7, 0.3], seed)"
   ]
  },
  {
   "cell_type": "markdown",
   "metadata": {},
   "source": [
    "### Exploratory Data Analysis"
   ]
  },
  {
   "cell_type": "code",
   "execution_count": 81,
   "metadata": {},
   "outputs": [],
   "source": [
    "import matplotlib.pyplot as plt \n",
    "from pyspark.sql.functions import *\n",
    "import pyspark.sql.functions as f"
   ]
  },
  {
   "cell_type": "code",
   "execution_count": 73,
   "metadata": {},
   "outputs": [
    {
     "name": "stdout",
     "output_type": "stream",
     "text": [
      "+-------+-----------------------+--------------------+------------------+-------------------+--------------------+\n",
      "|summary|stays_in_weekend_nights|stays_in_week_nights|            adults|           children|              babies|\n",
      "+-------+-----------------------+--------------------+------------------+-------------------+--------------------+\n",
      "|  count|                 119390|              119390|            119390|             119390|              119390|\n",
      "|   mean|     0.9275986263506156|   2.500301532791691|1.8564033838679956|0.10388642264846303|0.007948739425412514|\n",
      "| stddev|     0.9986134945978816|  1.9082856150479093|0.5792609988327523| 0.3985552216824472| 0.09743619130126377|\n",
      "|    min|                      0|                   0|                 0|                  0|                   0|\n",
      "|    max|                     19|                  50|                55|                 10|                  10|\n",
      "+-------+-----------------------+--------------------+------------------+-------------------+--------------------+\n",
      "\n"
     ]
    }
   ],
   "source": [
    "df2.describe(['stays_in_weekend_nights', 'stays_in_week_nights', 'adults', 'children', 'babies']).show()"
   ]
  },
  {
   "cell_type": "code",
   "execution_count": 75,
   "metadata": {},
   "outputs": [
    {
     "name": "stdout",
     "output_type": "stream",
     "text": [
      "+------------------+------------+----------------+\n",
      "|arrival_date_month|       hotel|sum(is_canceled)|\n",
      "+------------------+------------+----------------+\n",
      "|             April|  City Hotel|            3465|\n",
      "|             April|Resort Hotel|            1059|\n",
      "|            August|  City Hotel|            3602|\n",
      "|            August|Resort Hotel|            1637|\n",
      "|          December|  City Hotel|            1740|\n",
      "|          December|Resort Hotel|             631|\n",
      "|          February|  City Hotel|            1901|\n",
      "|          February|Resort Hotel|             795|\n",
      "|           January|  City Hotel|            1482|\n",
      "|           January|Resort Hotel|             325|\n",
      "|              July|  City Hotel|            3306|\n",
      "|              July|Resort Hotel|            1436|\n",
      "|              June|  City Hotel|            3528|\n",
      "|              June|Resort Hotel|            1007|\n",
      "|             March|  City Hotel|            2386|\n",
      "|             March|Resort Hotel|             763|\n",
      "|               May|  City Hotel|            3653|\n",
      "|               May|Resort Hotel|            1024|\n",
      "|          November|  City Hotel|            1661|\n",
      "|          November|Resort Hotel|             461|\n",
      "+------------------+------------+----------------+\n",
      "only showing top 20 rows\n",
      "\n"
     ]
    }
   ],
   "source": [
    "df2.groupBy('arrival_date_month','hotel').sum('is_canceled').sort('arrival_date_month','hotel').show()"
   ]
  },
  {
   "cell_type": "code",
   "execution_count": 68,
   "metadata": {},
   "outputs": [
    {
     "name": "stdout",
     "output_type": "stream",
     "text": [
      "+------------+-----+\n",
      "|       hotel|count|\n",
      "+------------+-----+\n",
      "|  City Hotel|79330|\n",
      "|Resort Hotel|40060|\n",
      "+------------+-----+\n",
      "\n"
     ]
    }
   ],
   "source": [
    "#count of cancellation by hotel\n",
    "df2.groupBy('hotel').count().select('hotel', f.col('count')).show()"
   ]
  },
  {
   "cell_type": "code",
   "execution_count": 77,
   "metadata": {},
   "outputs": [
    {
     "name": "stdout",
     "output_type": "stream",
     "text": [
      "+------------+-----------+-----+\n",
      "|       hotel|is_canceled|count|\n",
      "+------------+-----------+-----+\n",
      "|Resort Hotel|          0|28938|\n",
      "|  City Hotel|          0|46228|\n",
      "|Resort Hotel|          1|11122|\n",
      "|  City Hotel|          1|33102|\n",
      "+------------+-----------+-----+\n",
      "\n"
     ]
    }
   ],
   "source": [
    "#cancellations by hotel type\n",
    "df2.groupBy('hotel', 'is_canceled').count().show()"
   ]
  },
  {
   "cell_type": "code",
   "execution_count": 92,
   "metadata": {},
   "outputs": [
    {
     "ename": "ValueError",
     "evalue": "setting an array element with a sequence.",
     "output_type": "error",
     "traceback": [
      "\u001b[0;31m---------------------------------------------------------------------------\u001b[0m",
      "\u001b[0;31mValueError\u001b[0m                                Traceback (most recent call last)",
      "\u001b[0;32m<ipython-input-92-f57b104f216c>\u001b[0m in \u001b[0;36m<module>\u001b[0;34m\u001b[0m\n\u001b[1;32m      4\u001b[0m \u001b[0mx_hoteltype\u001b[0m \u001b[0;34m=\u001b[0m \u001b[0;34m[\u001b[0m\u001b[0mval\u001b[0m\u001b[0;34m.\u001b[0m\u001b[0mhotel\u001b[0m \u001b[0;32mfor\u001b[0m \u001b[0mval\u001b[0m \u001b[0;32min\u001b[0m \u001b[0mdf2\u001b[0m\u001b[0;34m.\u001b[0m\u001b[0mselect\u001b[0m\u001b[0;34m(\u001b[0m\u001b[0;34m'hotel'\u001b[0m\u001b[0;34m)\u001b[0m\u001b[0;34m.\u001b[0m\u001b[0mgroupBy\u001b[0m\u001b[0;34m(\u001b[0m\u001b[0;34m'hotel'\u001b[0m\u001b[0;34m)\u001b[0m\u001b[0;34m.\u001b[0m\u001b[0mcount\u001b[0m\u001b[0;34m(\u001b[0m\u001b[0;34m)\u001b[0m\u001b[0;34m]\u001b[0m\u001b[0;34m\u001b[0m\u001b[0;34m\u001b[0m\u001b[0m\n\u001b[1;32m      5\u001b[0m \u001b[0;34m\u001b[0m\u001b[0m\n\u001b[0;32m----> 6\u001b[0;31m \u001b[0mplt\u001b[0m\u001b[0;34m.\u001b[0m\u001b[0mplot\u001b[0m\u001b[0;34m(\u001b[0m\u001b[0mx_hoteltype\u001b[0m\u001b[0;34m,\u001b[0m \u001b[0my_iscancel\u001b[0m\u001b[0;34m)\u001b[0m\u001b[0;34m\u001b[0m\u001b[0;34m\u001b[0m\u001b[0m\n\u001b[0m\u001b[1;32m      7\u001b[0m \u001b[0;34m\u001b[0m\u001b[0m\n\u001b[1;32m      8\u001b[0m \u001b[0mplt\u001b[0m\u001b[0;34m.\u001b[0m\u001b[0mylabel\u001b[0m\u001b[0;34m(\u001b[0m\u001b[0;34m'Count'\u001b[0m\u001b[0;34m)\u001b[0m\u001b[0;34m\u001b[0m\u001b[0;34m\u001b[0m\u001b[0m\n",
      "\u001b[0;32m/opt/conda/lib/python3.7/site-packages/matplotlib/pyplot.py\u001b[0m in \u001b[0;36mplot\u001b[0;34m(scalex, scaley, data, *args, **kwargs)\u001b[0m\n\u001b[1;32m   2787\u001b[0m     return gca().plot(\n\u001b[1;32m   2788\u001b[0m         *args, scalex=scalex, scaley=scaley, **({\"data\": data} if data\n\u001b[0;32m-> 2789\u001b[0;31m         is not None else {}), **kwargs)\n\u001b[0m\u001b[1;32m   2790\u001b[0m \u001b[0;34m\u001b[0m\u001b[0m\n\u001b[1;32m   2791\u001b[0m \u001b[0;34m\u001b[0m\u001b[0m\n",
      "\u001b[0;32m/opt/conda/lib/python3.7/site-packages/matplotlib/axes/_axes.py\u001b[0m in \u001b[0;36mplot\u001b[0;34m(self, scalex, scaley, data, *args, **kwargs)\u001b[0m\n\u001b[1;32m   1665\u001b[0m         \u001b[0mlines\u001b[0m \u001b[0;34m=\u001b[0m \u001b[0;34m[\u001b[0m\u001b[0;34m*\u001b[0m\u001b[0mself\u001b[0m\u001b[0;34m.\u001b[0m\u001b[0m_get_lines\u001b[0m\u001b[0;34m(\u001b[0m\u001b[0;34m*\u001b[0m\u001b[0margs\u001b[0m\u001b[0;34m,\u001b[0m \u001b[0mdata\u001b[0m\u001b[0;34m=\u001b[0m\u001b[0mdata\u001b[0m\u001b[0;34m,\u001b[0m \u001b[0;34m**\u001b[0m\u001b[0mkwargs\u001b[0m\u001b[0;34m)\u001b[0m\u001b[0;34m]\u001b[0m\u001b[0;34m\u001b[0m\u001b[0;34m\u001b[0m\u001b[0m\n\u001b[1;32m   1666\u001b[0m         \u001b[0;32mfor\u001b[0m \u001b[0mline\u001b[0m \u001b[0;32min\u001b[0m \u001b[0mlines\u001b[0m\u001b[0;34m:\u001b[0m\u001b[0;34m\u001b[0m\u001b[0;34m\u001b[0m\u001b[0m\n\u001b[0;32m-> 1667\u001b[0;31m             \u001b[0mself\u001b[0m\u001b[0;34m.\u001b[0m\u001b[0madd_line\u001b[0m\u001b[0;34m(\u001b[0m\u001b[0mline\u001b[0m\u001b[0;34m)\u001b[0m\u001b[0;34m\u001b[0m\u001b[0;34m\u001b[0m\u001b[0m\n\u001b[0m\u001b[1;32m   1668\u001b[0m         \u001b[0mself\u001b[0m\u001b[0;34m.\u001b[0m\u001b[0mautoscale_view\u001b[0m\u001b[0;34m(\u001b[0m\u001b[0mscalex\u001b[0m\u001b[0;34m=\u001b[0m\u001b[0mscalex\u001b[0m\u001b[0;34m,\u001b[0m \u001b[0mscaley\u001b[0m\u001b[0;34m=\u001b[0m\u001b[0mscaley\u001b[0m\u001b[0;34m)\u001b[0m\u001b[0;34m\u001b[0m\u001b[0;34m\u001b[0m\u001b[0m\n\u001b[1;32m   1669\u001b[0m         \u001b[0;32mreturn\u001b[0m \u001b[0mlines\u001b[0m\u001b[0;34m\u001b[0m\u001b[0;34m\u001b[0m\u001b[0m\n",
      "\u001b[0;32m/opt/conda/lib/python3.7/site-packages/matplotlib/axes/_base.py\u001b[0m in \u001b[0;36madd_line\u001b[0;34m(self, line)\u001b[0m\n\u001b[1;32m   1900\u001b[0m             \u001b[0mline\u001b[0m\u001b[0;34m.\u001b[0m\u001b[0mset_clip_path\u001b[0m\u001b[0;34m(\u001b[0m\u001b[0mself\u001b[0m\u001b[0;34m.\u001b[0m\u001b[0mpatch\u001b[0m\u001b[0;34m)\u001b[0m\u001b[0;34m\u001b[0m\u001b[0;34m\u001b[0m\u001b[0m\n\u001b[1;32m   1901\u001b[0m \u001b[0;34m\u001b[0m\u001b[0m\n\u001b[0;32m-> 1902\u001b[0;31m         \u001b[0mself\u001b[0m\u001b[0;34m.\u001b[0m\u001b[0m_update_line_limits\u001b[0m\u001b[0;34m(\u001b[0m\u001b[0mline\u001b[0m\u001b[0;34m)\u001b[0m\u001b[0;34m\u001b[0m\u001b[0;34m\u001b[0m\u001b[0m\n\u001b[0m\u001b[1;32m   1903\u001b[0m         \u001b[0;32mif\u001b[0m \u001b[0;32mnot\u001b[0m \u001b[0mline\u001b[0m\u001b[0;34m.\u001b[0m\u001b[0mget_label\u001b[0m\u001b[0;34m(\u001b[0m\u001b[0;34m)\u001b[0m\u001b[0;34m:\u001b[0m\u001b[0;34m\u001b[0m\u001b[0;34m\u001b[0m\u001b[0m\n\u001b[1;32m   1904\u001b[0m             \u001b[0mline\u001b[0m\u001b[0;34m.\u001b[0m\u001b[0mset_label\u001b[0m\u001b[0;34m(\u001b[0m\u001b[0;34m'_line%d'\u001b[0m \u001b[0;34m%\u001b[0m \u001b[0mlen\u001b[0m\u001b[0;34m(\u001b[0m\u001b[0mself\u001b[0m\u001b[0;34m.\u001b[0m\u001b[0mlines\u001b[0m\u001b[0;34m)\u001b[0m\u001b[0;34m)\u001b[0m\u001b[0;34m\u001b[0m\u001b[0;34m\u001b[0m\u001b[0m\n",
      "\u001b[0;32m/opt/conda/lib/python3.7/site-packages/matplotlib/axes/_base.py\u001b[0m in \u001b[0;36m_update_line_limits\u001b[0;34m(self, line)\u001b[0m\n\u001b[1;32m   1922\u001b[0m         \u001b[0mFigures\u001b[0m \u001b[0mout\u001b[0m \u001b[0mthe\u001b[0m \u001b[0mdata\u001b[0m \u001b[0mlimit\u001b[0m \u001b[0mof\u001b[0m \u001b[0mthe\u001b[0m \u001b[0mgiven\u001b[0m \u001b[0mline\u001b[0m\u001b[0;34m,\u001b[0m \u001b[0mupdating\u001b[0m \u001b[0mself\u001b[0m\u001b[0;34m.\u001b[0m\u001b[0mdataLim\u001b[0m\u001b[0;34m.\u001b[0m\u001b[0;34m\u001b[0m\u001b[0;34m\u001b[0m\u001b[0m\n\u001b[1;32m   1923\u001b[0m         \"\"\"\n\u001b[0;32m-> 1924\u001b[0;31m         \u001b[0mpath\u001b[0m \u001b[0;34m=\u001b[0m \u001b[0mline\u001b[0m\u001b[0;34m.\u001b[0m\u001b[0mget_path\u001b[0m\u001b[0;34m(\u001b[0m\u001b[0;34m)\u001b[0m\u001b[0;34m\u001b[0m\u001b[0;34m\u001b[0m\u001b[0m\n\u001b[0m\u001b[1;32m   1925\u001b[0m         \u001b[0;32mif\u001b[0m \u001b[0mpath\u001b[0m\u001b[0;34m.\u001b[0m\u001b[0mvertices\u001b[0m\u001b[0;34m.\u001b[0m\u001b[0msize\u001b[0m \u001b[0;34m==\u001b[0m \u001b[0;36m0\u001b[0m\u001b[0;34m:\u001b[0m\u001b[0;34m\u001b[0m\u001b[0;34m\u001b[0m\u001b[0m\n\u001b[1;32m   1926\u001b[0m             \u001b[0;32mreturn\u001b[0m\u001b[0;34m\u001b[0m\u001b[0;34m\u001b[0m\u001b[0m\n",
      "\u001b[0;32m/opt/conda/lib/python3.7/site-packages/matplotlib/lines.py\u001b[0m in \u001b[0;36mget_path\u001b[0;34m(self)\u001b[0m\n\u001b[1;32m   1025\u001b[0m         \"\"\"\n\u001b[1;32m   1026\u001b[0m         \u001b[0;32mif\u001b[0m \u001b[0mself\u001b[0m\u001b[0;34m.\u001b[0m\u001b[0m_invalidy\u001b[0m \u001b[0;32mor\u001b[0m \u001b[0mself\u001b[0m\u001b[0;34m.\u001b[0m\u001b[0m_invalidx\u001b[0m\u001b[0;34m:\u001b[0m\u001b[0;34m\u001b[0m\u001b[0;34m\u001b[0m\u001b[0m\n\u001b[0;32m-> 1027\u001b[0;31m             \u001b[0mself\u001b[0m\u001b[0;34m.\u001b[0m\u001b[0mrecache\u001b[0m\u001b[0;34m(\u001b[0m\u001b[0;34m)\u001b[0m\u001b[0;34m\u001b[0m\u001b[0;34m\u001b[0m\u001b[0m\n\u001b[0m\u001b[1;32m   1028\u001b[0m         \u001b[0;32mreturn\u001b[0m \u001b[0mself\u001b[0m\u001b[0;34m.\u001b[0m\u001b[0m_path\u001b[0m\u001b[0;34m\u001b[0m\u001b[0;34m\u001b[0m\u001b[0m\n\u001b[1;32m   1029\u001b[0m \u001b[0;34m\u001b[0m\u001b[0m\n",
      "\u001b[0;32m/opt/conda/lib/python3.7/site-packages/matplotlib/lines.py\u001b[0m in \u001b[0;36mrecache\u001b[0;34m(self, always)\u001b[0m\n\u001b[1;32m    668\u001b[0m         \u001b[0;32mif\u001b[0m \u001b[0malways\u001b[0m \u001b[0;32mor\u001b[0m \u001b[0mself\u001b[0m\u001b[0;34m.\u001b[0m\u001b[0m_invalidx\u001b[0m\u001b[0;34m:\u001b[0m\u001b[0;34m\u001b[0m\u001b[0;34m\u001b[0m\u001b[0m\n\u001b[1;32m    669\u001b[0m             \u001b[0mxconv\u001b[0m \u001b[0;34m=\u001b[0m \u001b[0mself\u001b[0m\u001b[0;34m.\u001b[0m\u001b[0mconvert_xunits\u001b[0m\u001b[0;34m(\u001b[0m\u001b[0mself\u001b[0m\u001b[0;34m.\u001b[0m\u001b[0m_xorig\u001b[0m\u001b[0;34m)\u001b[0m\u001b[0;34m\u001b[0m\u001b[0;34m\u001b[0m\u001b[0m\n\u001b[0;32m--> 670\u001b[0;31m             \u001b[0mx\u001b[0m \u001b[0;34m=\u001b[0m \u001b[0m_to_unmasked_float_array\u001b[0m\u001b[0;34m(\u001b[0m\u001b[0mxconv\u001b[0m\u001b[0;34m)\u001b[0m\u001b[0;34m.\u001b[0m\u001b[0mravel\u001b[0m\u001b[0;34m(\u001b[0m\u001b[0;34m)\u001b[0m\u001b[0;34m\u001b[0m\u001b[0;34m\u001b[0m\u001b[0m\n\u001b[0m\u001b[1;32m    671\u001b[0m         \u001b[0;32melse\u001b[0m\u001b[0;34m:\u001b[0m\u001b[0;34m\u001b[0m\u001b[0;34m\u001b[0m\u001b[0m\n\u001b[1;32m    672\u001b[0m             \u001b[0mx\u001b[0m \u001b[0;34m=\u001b[0m \u001b[0mself\u001b[0m\u001b[0;34m.\u001b[0m\u001b[0m_x\u001b[0m\u001b[0;34m\u001b[0m\u001b[0;34m\u001b[0m\u001b[0m\n",
      "\u001b[0;32m/opt/conda/lib/python3.7/site-packages/matplotlib/cbook/__init__.py\u001b[0m in \u001b[0;36m_to_unmasked_float_array\u001b[0;34m(x)\u001b[0m\n\u001b[1;32m   1388\u001b[0m         \u001b[0;32mreturn\u001b[0m \u001b[0mnp\u001b[0m\u001b[0;34m.\u001b[0m\u001b[0mma\u001b[0m\u001b[0;34m.\u001b[0m\u001b[0masarray\u001b[0m\u001b[0;34m(\u001b[0m\u001b[0mx\u001b[0m\u001b[0;34m,\u001b[0m \u001b[0mfloat\u001b[0m\u001b[0;34m)\u001b[0m\u001b[0;34m.\u001b[0m\u001b[0mfilled\u001b[0m\u001b[0;34m(\u001b[0m\u001b[0mnp\u001b[0m\u001b[0;34m.\u001b[0m\u001b[0mnan\u001b[0m\u001b[0;34m)\u001b[0m\u001b[0;34m\u001b[0m\u001b[0;34m\u001b[0m\u001b[0m\n\u001b[1;32m   1389\u001b[0m     \u001b[0;32melse\u001b[0m\u001b[0;34m:\u001b[0m\u001b[0;34m\u001b[0m\u001b[0;34m\u001b[0m\u001b[0m\n\u001b[0;32m-> 1390\u001b[0;31m         \u001b[0;32mreturn\u001b[0m \u001b[0mnp\u001b[0m\u001b[0;34m.\u001b[0m\u001b[0masarray\u001b[0m\u001b[0;34m(\u001b[0m\u001b[0mx\u001b[0m\u001b[0;34m,\u001b[0m \u001b[0mfloat\u001b[0m\u001b[0;34m)\u001b[0m\u001b[0;34m\u001b[0m\u001b[0;34m\u001b[0m\u001b[0m\n\u001b[0m\u001b[1;32m   1391\u001b[0m \u001b[0;34m\u001b[0m\u001b[0m\n\u001b[1;32m   1392\u001b[0m \u001b[0;34m\u001b[0m\u001b[0m\n",
      "\u001b[0;32m/opt/conda/lib/python3.7/site-packages/numpy/core/_asarray.py\u001b[0m in \u001b[0;36masarray\u001b[0;34m(a, dtype, order)\u001b[0m\n\u001b[1;32m     83\u001b[0m \u001b[0;34m\u001b[0m\u001b[0m\n\u001b[1;32m     84\u001b[0m     \"\"\"\n\u001b[0;32m---> 85\u001b[0;31m     \u001b[0;32mreturn\u001b[0m \u001b[0marray\u001b[0m\u001b[0;34m(\u001b[0m\u001b[0ma\u001b[0m\u001b[0;34m,\u001b[0m \u001b[0mdtype\u001b[0m\u001b[0;34m,\u001b[0m \u001b[0mcopy\u001b[0m\u001b[0;34m=\u001b[0m\u001b[0;32mFalse\u001b[0m\u001b[0;34m,\u001b[0m \u001b[0morder\u001b[0m\u001b[0;34m=\u001b[0m\u001b[0morder\u001b[0m\u001b[0;34m)\u001b[0m\u001b[0;34m\u001b[0m\u001b[0;34m\u001b[0m\u001b[0m\n\u001b[0m\u001b[1;32m     86\u001b[0m \u001b[0;34m\u001b[0m\u001b[0m\n\u001b[1;32m     87\u001b[0m \u001b[0;34m\u001b[0m\u001b[0m\n",
      "\u001b[0;31mValueError\u001b[0m: setting an array element with a sequence."
     ]
    },
    {
     "data": {
      "image/png": "[encoded data removed]",
      "text/plain": [
       "<Figure size 432x288 with 1 Axes>"
      ]
     },
     "metadata": {
      "needs_background": "light"
     },
     "output_type": "display_data"
    }
   ],
   "source": [
    "#to visualize, we use matplotlib\n",
    "\n",
    "y_iscancel = [val.iscancel for val in df2.select('is_canceled').groupBy('is_canceled').count()]\n",
    "x_hoteltype = [val.hotel for val in df2.select('hotel').groupBy('hotel').count()]\n",
    "\n",
    "plt.plot(x_hoteltype, y_iscancel)\n",
    "\n",
    "plt.ylabel('Count')\n",
    "plt.xlabel('Hotel Type')\n",
    "plt.title('Hotel Cancellations by Hotel Type')\n",
    "plt.legend(['Is canceled'], loc='upper left')\n",
    "\n",
    "plt.show()"
   ]
  },
  {
   "cell_type": "code",
   "execution_count": 76,
   "metadata": {},
   "outputs": [
    {
     "name": "stdout",
     "output_type": "stream",
     "text": [
      "+------------+----+-----+\n",
      "|       hotel|meal|count|\n",
      "+------------+----+-----+\n",
      "|  City Hotel|  BB|62305|\n",
      "|  City Hotel|  FB|   44|\n",
      "|  City Hotel|  HB| 6417|\n",
      "|  City Hotel|  SC|10564|\n",
      "|Resort Hotel|  BB|30005|\n",
      "|Resort Hotel|  FB|  754|\n",
      "|Resort Hotel|  HB| 8046|\n",
      "|Resort Hotel|  SC| 1255|\n",
      "+------------+----+-----+\n",
      "\n"
     ]
    }
   ],
   "source": [
    "# for 'meal': undefined/SC are same, they mean no meal package. BB is bed&breakfast, HB is breakfast and dinner, and FB is full breakfast lunch and dinner\n",
    "\n",
    "# replace Undefined with SC in meal package\n",
    "df2 = df2.replace('Undefined', 'SC')\n",
    "\n",
    "# see value counts for 'meal'\n",
    "df2.groupBy('hotel','meal').count().sort('hotel', 'meal').show()"
   ]
  },
  {
   "cell_type": "code",
   "execution_count": 38,
   "metadata": {},
   "outputs": [
    {
     "data": {
      "text/plain": [
       "DataFrame[is_canceled: int, sum(meal): double]"
      ]
     },
     "metadata": {},
     "output_type": "display_data"
    }
   ],
   "source": [
    "df2_hotelcancel_sum = df2.groupby(\"is_canceled\").agg({'meal': \"sum\"})\n",
    "display(df2_hotelcancel_sum)"
   ]
  },
  {
   "cell_type": "code",
   "execution_count": null,
   "metadata": {},
   "outputs": [],
   "source": [
    "#visualize cancellation by month of arrival (arrival_date_month)"
   ]
  },
  {
   "cell_type": "code",
   "execution_count": null,
   "metadata": {},
   "outputs": [],
   "source": []
  },
  {
   "cell_type": "markdown",
   "metadata": {},
   "source": [
    "helpful links:\n",
    "- https://spark.apache.org/docs/latest/ml-guide.html \n",
    "- https://runawayhorse001.github.io/LearningApacheSpark/exploration.html\n",
    "- https://github.com/Bergvca/pyspark_dist_explore\n"
   ]
  },
  {
   "cell_type": "markdown",
   "metadata": {},
   "source": [
    "### Modeling"
   ]
  },
  {
   "cell_type": "markdown",
   "metadata": {},
   "source": [
    "We will need to include\n",
    "\n",
    "a) Evaluate metrics\n",
    "- For classificaiton,\n",
    "        - accuracy\n",
    "        - precision, recall, F1 score\n",
    "        - confusion matrix\n",
    "        - area under the ROC curve (AUROC)\n",
    "        \n",
    "b) Sensitivity analysis\n",
    "\n",
    "Sensitivity analysis measures the effect of changing the model inputs or parameters. For example, if\n",
    "the model uses a hyperparameter C, how does AUROC change when feature X is increased/decreased\n",
    "by one standard deviation. The hope is that sensitivity is low."
   ]
  },
  {
   "cell_type": "markdown",
   "metadata": {},
   "source": [
    "#### Benchmark or Simple Model"
   ]
  },
  {
   "cell_type": "markdown",
   "metadata": {},
   "source": [
    "We will use logistic regression to predict whether patrons will  cancel their hotel bookings\n",
    "\n",
    "First, we test using logistic regression on just one feature"
   ]
  },
  {
   "cell_type": "code",
   "execution_count": null,
   "metadata": {},
   "outputs": [],
   "source": [
    "# load modules\n",
    "import pandas as pd\n",
    "import pyspark.sql.functions as F\n",
    "import pyspark.mllib.regression as reg\n",
    "from pyspark.mllib.classification import LogisticRegressionWithLBFGS\n",
    "from pyspark.mllib.evaluation import BinaryClassificationMetrics"
   ]
  },
  {
   "cell_type": "code",
   "execution_count": null,
   "metadata": {},
   "outputs": [],
   "source": [
    "# narrow the list of features for modeling\n",
    "vars_to_keep = ['hotel',\n",
    "                ...]\n",
    "data_rdd2 = data_rdd.select([is_canceled]+vars_to_keep)"
   ]
  },
  {
   "cell_type": "code",
   "execution_count": null,
   "metadata": {},
   "outputs": [],
   "source": [
    "iterations = 10\n",
    "#target = is_canceled"
   ]
  },
  {
   "cell_type": "code",
   "execution_count": 29,
   "metadata": {},
   "outputs": [
    {
     "ename": "NameError",
     "evalue": "name 'data_rdd' is not defined",
     "output_type": "error",
     "traceback": [
      "\u001b[0;31m---------------------------------------------------------------------------\u001b[0m",
      "\u001b[0;31mNameError\u001b[0m                                 Traceback (most recent call last)",
      "\u001b[0;32m<ipython-input-29-3baaef521655>\u001b[0m in \u001b[0;36m<module>\u001b[0;34m\u001b[0m\n\u001b[1;32m      1\u001b[0m \u001b[0;31m# Show some rows to be sure things look ok.\u001b[0m\u001b[0;34m\u001b[0m\u001b[0;34m\u001b[0m\u001b[0;34m\u001b[0m\u001b[0m\n\u001b[0;32m----> 2\u001b[0;31m \u001b[0mdata_rdd\u001b[0m\u001b[0;34m.\u001b[0m\u001b[0mshow\u001b[0m\u001b[0;34m(\u001b[0m\u001b[0;36m5\u001b[0m\u001b[0;34m)\u001b[0m\u001b[0;34m\u001b[0m\u001b[0;34m\u001b[0m\u001b[0m\n\u001b[0m",
      "\u001b[0;31mNameError\u001b[0m: name 'data_rdd' is not defined"
     ]
    }
   ],
   "source": [
    "# Show some rows to be sure things look ok.\n",
    "data_rdd.show(5)"
   ]
  },
  {
   "cell_type": "code",
   "execution_count": 93,
   "metadata": {},
   "outputs": [],
   "source": [
    "#code for defining AUC for classfication (taken from last breast cancer assignment)\n",
    "\n",
    "def compute_univariate_aucs(df, target, training_fraction, iters, seed):\n",
    "\n",
    "    # split the data into train/test using seed\n",
    "    data_train, data_test = df.randomSplit(training_fraction, seed)\n",
    "    \n",
    "    # list of predictor variables\n",
    "    vars = vars_to_keep\n",
    "    \n",
    "    # results storage\n",
    "    df_auc = pd.DataFrame(index=vars, columns=['weight','auroc'])    \n",
    "\n",
    "    for v in vars:    \n",
    "        print('=== analysis of variable: {}'.format(v))\n",
    "\n",
    "        # create train and test dataframes with columns: target, v\n",
    "        datai_tr = data_train.select([target]+[v])\n",
    "        datai_te = data_test.select([target]+[v])\n",
    "\n",
    "        # cast to LabeledPoint\n",
    "        # train\n",
    "        datai_tr_lp = datai_tr \\\n",
    "                     .rdd \\\n",
    "                     .map(lambda row: reg.LabeledPoint(row[0], row[1:]))\n",
    "        \n",
    "        # test\n",
    "        datai_te_lp = datai_te\\\n",
    "                      .rdd\\\n",
    "                      .map(lambda row: reg.LabeledPoint(row[0], row[1:]))\n",
    "\n",
    "        # train logistic regression, setting iterations, including intercept\n",
    "        LR_Model = LogisticRegressionWithLBFGS.train(datai_tr_lp, iterations=iters, intercept=True)\n",
    "\n",
    "        # from test set, zip labels with predicted labels and cast to float\n",
    "        #p.label    # gives label\n",
    "        #p.features # gives features\n",
    "        #comment out because following results say 'p is not defined'\n",
    "        \n",
    "        act_pred_test_set = datai_te_lp.map(lambda p: (p.label, LR_Model.predict(p.features))) \\\n",
    "                                            .map(lambda row: (row[0], row[1] * 1.0))\n",
    "        \n",
    "        metrics = BinaryClassificationMetrics(act_pred_test_set)\n",
    "        # metrics.areaUnderROC\n",
    "        \n",
    "        df_auc['weight'].loc[v] = LR_Model.weights  # store the weights\n",
    "        df_auc['auroc'].loc[v] = metrics.areaUnderROC # extract AUROC\n",
    "        print('=== completed analysis of variable: {}'.format(v))\n",
    "        \n",
    "    df_auc.sort_values(by='auroc', ascending=False, inplace=True)\n",
    "    \n",
    "    return df_auc"
   ]
  },
  {
   "cell_type": "code",
   "execution_count": null,
   "metadata": {},
   "outputs": [],
   "source": [
    "#not downsample dataframe using ITERS and SEED that was defined\n",
    "compute_univariate_aucs(data_rdd2, is_canceled, training_fraction, ITERS, SEED)"
   ]
  },
  {
   "cell_type": "markdown",
   "metadata": {},
   "source": [
    "#### Champion or Sophisticated Model"
   ]
  },
  {
   "cell_type": "code",
   "execution_count": null,
   "metadata": {},
   "outputs": [],
   "source": []
  },
  {
   "cell_type": "code",
   "execution_count": null,
   "metadata": {},
   "outputs": [],
   "source": []
  },
  {
   "cell_type": "code",
   "execution_count": null,
   "metadata": {},
   "outputs": [],
   "source": []
  },
  {
   "cell_type": "code",
   "execution_count": null,
   "metadata": {},
   "outputs": [],
   "source": []
  }
 ],
 "metadata": {
  "kernelspec": {
   "display_name": "Python 3",
   "language": "python",
   "name": "python3"
  },
  "language_info": {
   "codemirror_mode": {
    "name": "ipython",
    "version": 3
   },
   "file_extension": ".py",
   "mimetype": "text/x-python",
   "name": "python",
   "nbconvert_exporter": "python",
   "pygments_lexer": "ipython3",
   "version": "3.7.3"
  }
 },
 "nbformat": 4,
 "nbformat_minor": 4
}

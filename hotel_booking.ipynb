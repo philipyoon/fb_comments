{
 "cells": [
  {
   "cell_type": "markdown",
   "metadata": {},
   "source": [
    "# Big Data Analytics of Hotel Bookings"
   ]
  },
  {
   "cell_type": "markdown",
   "metadata": {},
   "source": [
    "### Data Import"
   ]
  },
  {
   "cell_type": "code",
   "execution_count": 1,
   "metadata": {},
   "outputs": [],
   "source": [
    "# import modules\n",
    "import pandas as pd\n",
    "from pyspark.sql import SparkSession"
   ]
  },
  {
   "cell_type": "code",
   "execution_count": 2,
   "metadata": {},
   "outputs": [],
   "source": [
    "# build spark session and spark context\n",
    "spark = SparkSession.builder \\\n",
    "        .appName(\"hotel\") \\\n",
    "        .getOrCreate()\n",
    "sc = spark.sparkContext"
   ]
  },
  {
   "cell_type": "code",
   "execution_count": 3,
   "metadata": {},
   "outputs": [
    {
     "data": {
      "text/plain": [
       "[Row(hotel='Resort Hotel', is_canceled=0, lead_time=342, arrival_date_year=2015, arrival_date_month='July', arrival_date_week_number=27, arrival_date_day_of_month=1, stays_in_weekend_nights=0, stays_in_week_nights=0, adults=2, children='0', babies=0, meal='BB', country='PRT', market_segment='Direct', distribution_channel='Direct', is_repeated_guest=0, previous_cancellations=0, previous_bookings_not_canceled=0, reserved_room_type='C', assigned_room_type='C', booking_changes=3, deposit_type='No Deposit', agent='NULL', company='NULL', days_in_waiting_list=0, customer_type='Transient', adr=0.0, required_car_parking_spaces=0, total_of_special_requests=0, reservation_status='Check-Out', reservation_status_date='2015-07-01'),\n",
       " Row(hotel='Resort Hotel', is_canceled=0, lead_time=737, arrival_date_year=2015, arrival_date_month='July', arrival_date_week_number=27, arrival_date_day_of_month=1, stays_in_weekend_nights=0, stays_in_week_nights=0, adults=2, children='0', babies=0, meal='BB', country='PRT', market_segment='Direct', distribution_channel='Direct', is_repeated_guest=0, previous_cancellations=0, previous_bookings_not_canceled=0, reserved_room_type='C', assigned_room_type='C', booking_changes=4, deposit_type='No Deposit', agent='NULL', company='NULL', days_in_waiting_list=0, customer_type='Transient', adr=0.0, required_car_parking_spaces=0, total_of_special_requests=0, reservation_status='Check-Out', reservation_status_date='2015-07-01')]"
      ]
     },
     "execution_count": 3,
     "metadata": {},
     "output_type": "execute_result"
    }
   ],
   "source": [
    "df = spark.read.csv('hotel_bookings.csv',  inferSchema=True, header = True)\n",
    "df.take(2)"
   ]
  },
  {
   "cell_type": "code",
   "execution_count": 4,
   "metadata": {},
   "outputs": [
    {
     "name": "stdout",
     "output_type": "stream",
     "text": [
      "root\n",
      " |-- hotel: string (nullable = true)\n",
      " |-- is_canceled: integer (nullable = true)\n",
      " |-- lead_time: integer (nullable = true)\n",
      " |-- arrival_date_year: integer (nullable = true)\n",
      " |-- arrival_date_month: string (nullable = true)\n",
      " |-- arrival_date_week_number: integer (nullable = true)\n",
      " |-- arrival_date_day_of_month: integer (nullable = true)\n",
      " |-- stays_in_weekend_nights: integer (nullable = true)\n",
      " |-- stays_in_week_nights: integer (nullable = true)\n",
      " |-- adults: integer (nullable = true)\n",
      " |-- children: string (nullable = true)\n",
      " |-- babies: integer (nullable = true)\n",
      " |-- meal: string (nullable = true)\n",
      " |-- country: string (nullable = true)\n",
      " |-- market_segment: string (nullable = true)\n",
      " |-- distribution_channel: string (nullable = true)\n",
      " |-- is_repeated_guest: integer (nullable = true)\n",
      " |-- previous_cancellations: integer (nullable = true)\n",
      " |-- previous_bookings_not_canceled: integer (nullable = true)\n",
      " |-- reserved_room_type: string (nullable = true)\n",
      " |-- assigned_room_type: string (nullable = true)\n",
      " |-- booking_changes: integer (nullable = true)\n",
      " |-- deposit_type: string (nullable = true)\n",
      " |-- agent: string (nullable = true)\n",
      " |-- company: string (nullable = true)\n",
      " |-- days_in_waiting_list: integer (nullable = true)\n",
      " |-- customer_type: string (nullable = true)\n",
      " |-- adr: double (nullable = true)\n",
      " |-- required_car_parking_spaces: integer (nullable = true)\n",
      " |-- total_of_special_requests: integer (nullable = true)\n",
      " |-- reservation_status: string (nullable = true)\n",
      " |-- reservation_status_date: string (nullable = true)\n",
      "\n"
     ]
    }
   ],
   "source": [
    "# view columns and schema\n",
    "df.printSchema()"
   ]
  },
  {
   "cell_type": "markdown",
   "metadata": {},
   "source": [
    "### Data Preprocessing"
   ]
  },
  {
   "cell_type": "code",
   "execution_count": 5,
   "metadata": {},
   "outputs": [
    {
     "name": "stdout",
     "output_type": "stream",
     "text": [
      "+-----+-----------+---------+-----------------+------------------+------------------------+-------------------------+-----------------------+--------------------+------+--------+------+----+-------+--------------+--------------------+-----------------+----------------------+------------------------------+------------------+------------------+---------------+------------+-----+-------+--------------------+-------------+---+---------------------------+-------------------------+------------------+-----------------------+\n",
      "|hotel|is_canceled|lead_time|arrival_date_year|arrival_date_month|arrival_date_week_number|arrival_date_day_of_month|stays_in_weekend_nights|stays_in_week_nights|adults|children|babies|meal|country|market_segment|distribution_channel|is_repeated_guest|previous_cancellations|previous_bookings_not_canceled|reserved_room_type|assigned_room_type|booking_changes|deposit_type|agent|company|days_in_waiting_list|customer_type|adr|required_car_parking_spaces|total_of_special_requests|reservation_status|reservation_status_date|\n",
      "+-----+-----------+---------+-----------------+------------------+------------------------+-------------------------+-----------------------+--------------------+------+--------+------+----+-------+--------------+--------------------+-----------------+----------------------+------------------------------+------------------+------------------+---------------+------------+-----+-------+--------------------+-------------+---+---------------------------+-------------------------+------------------+-----------------------+\n",
      "|    0|          0|        0|                0|                 0|                       0|                        0|                      0|                   0|     0|       4|     0|   0|    488|             0|                   0|                0|                     0|                             0|                 0|                 0|              0|           0|16340| 112593|                   0|            0|  0|                          0|                        0|                 0|                      0|\n",
      "+-----+-----------+---------+-----------------+------------------+------------------------+-------------------------+-----------------------+--------------------+------+--------+------+----+-------+--------------+--------------------+-----------------+----------------------+------------------------------+------------------+------------------+---------------+------------+-----+-------+--------------------+-------------+---+---------------------------+-------------------------+------------------+-----------------------+\n",
      "\n"
     ]
    }
   ],
   "source": [
    "# replace the strings \"NULL\" and \"NA\" with null value\n",
    "df_withNull = df.replace('NULL', None).replace('NA', None)\n",
    "\n",
    "# view number of null values per column\n",
    "from pyspark.sql.functions import isnan, when, count, col\n",
    "df_withNull.select([count(when(col(c).isNull(), c)).alias(c) for c in df_withNull.columns]).show()"
   ]
  },
  {
   "cell_type": "code",
   "execution_count": 6,
   "metadata": {},
   "outputs": [],
   "source": [
    "# replace null values in 'children' to 0 since there are only 4\n",
    "df2 = df_withNull.fillna({'children':0})\n",
    "\n",
    "# replace 'children' datatype to int\n",
    "df2 = df2.withColumn('children', col('children').cast(\"Int\"))"
   ]
  },
  {
   "cell_type": "code",
   "execution_count": 7,
   "metadata": {},
   "outputs": [],
   "source": [
    "# drop 'company' and 'agent' due to high null count\n",
    "df2 = df2.drop('agent', 'company','country', 'arrival_date_week_number')"
   ]
  },
  {
   "cell_type": "code",
   "execution_count": 8,
   "metadata": {},
   "outputs": [
    {
     "data": {
      "text/plain": [
       "[('hotel', 'string'),\n",
       " ('is_canceled', 'int'),\n",
       " ('lead_time', 'int'),\n",
       " ('arrival_date_year', 'int'),\n",
       " ('arrival_date_month', 'string'),\n",
       " ('arrival_date_day_of_month', 'int'),\n",
       " ('stays_in_weekend_nights', 'int'),\n",
       " ('stays_in_week_nights', 'int'),\n",
       " ('adults', 'int'),\n",
       " ('children', 'int'),\n",
       " ('babies', 'int'),\n",
       " ('meal', 'string'),\n",
       " ('market_segment', 'string'),\n",
       " ('distribution_channel', 'string'),\n",
       " ('is_repeated_guest', 'int'),\n",
       " ('previous_cancellations', 'int'),\n",
       " ('previous_bookings_not_canceled', 'int'),\n",
       " ('reserved_room_type', 'string'),\n",
       " ('assigned_room_type', 'string'),\n",
       " ('booking_changes', 'int'),\n",
       " ('deposit_type', 'string'),\n",
       " ('days_in_waiting_list', 'int'),\n",
       " ('customer_type', 'string'),\n",
       " ('adr', 'double'),\n",
       " ('required_car_parking_spaces', 'int'),\n",
       " ('total_of_special_requests', 'int'),\n",
       " ('reservation_status', 'string'),\n",
       " ('reservation_status_date', 'string')]"
      ]
     },
     "execution_count": 8,
     "metadata": {},
     "output_type": "execute_result"
    }
   ],
   "source": [
    "df2.dtypes"
   ]
  },
  {
   "cell_type": "code",
   "execution_count": 9,
   "metadata": {},
   "outputs": [
    {
     "name": "stdout",
     "output_type": "stream",
     "text": [
      "+------------------+-----+\n",
      "|arrival_date_month|count|\n",
      "+------------------+-----+\n",
      "|              July|12661|\n",
      "|          November| 6794|\n",
      "|          February| 8068|\n",
      "|           January| 5929|\n",
      "|             March| 9794|\n",
      "|           October|11160|\n",
      "|               May|11791|\n",
      "|            August|13877|\n",
      "|             April|11089|\n",
      "|              June|10939|\n",
      "|          December| 6780|\n",
      "|         September|10508|\n",
      "+------------------+-----+\n",
      "\n"
     ]
    }
   ],
   "source": [
    "df2.groupBy('arrival_date_month').count().show()"
   ]
  },
  {
   "cell_type": "code",
   "execution_count": 10,
   "metadata": {},
   "outputs": [],
   "source": [
    "#month_num = df2.replace('January', '1')\\\n",
    "#                .replace('February', '2')\\\n",
    "#                .replace('March', '3')\\\n",
    "#                .replace('April', '4')\\\n",
    "#                .replace('May', '5')\\\n",
    "#                .replace('June', '6')\n",
    "\n"
   ]
  },
  {
   "cell_type": "code",
   "execution_count": 11,
   "metadata": {},
   "outputs": [],
   "source": [
    "#month_num = month_num.replace('July', '7')\\\n",
    "#                      .replace('August', '8')\\\n",
    "#                .replace('September', '9')\\\n",
    "#                .replace('October', '10')\\\n",
    "#                .replace('November', '11')\\\n",
    "#                .replace('December', '12')\n",
    "\n"
   ]
  },
  {
   "cell_type": "markdown",
   "metadata": {},
   "source": [
    "**Data Preprocessing Todo's**\n",
    "- map arrival_date_month from strings to numbers: so \"January\" = 1, etc.\n",
    "- numerically encode all the other string variables, otherwise remove them  "
   ]
  },
  {
   "cell_type": "code",
   "execution_count": 12,
   "metadata": {},
   "outputs": [],
   "source": [
    "# numerically encode arrival_date_month\n",
    "#done in next cell?"
   ]
  },
  {
   "cell_type": "code",
   "execution_count": 13,
   "metadata": {},
   "outputs": [],
   "source": [
    "#numerically encode all columns of type string\n",
    "\n",
    "from pyspark.ml import Pipeline\n",
    "from pyspark.ml.feature import OneHotEncoder, OneHotEncoderModel, StringIndexer\n",
    "\n",
    "\n",
    "col_string=['hotel', 'arrival_date_month','meal','market_segment','distribution_channel','reserved_room_type','assigned_room_type','deposit_type','customer_type','reservation_status','reservation_status_date']\n",
    "col_num=[x+\"_NUMERIC\" for x in col_string]\n",
    "\n",
    "#add other columns for encoding\n",
    "col_num=col_num+['arrival_date_year','arrival_date_day_of_month']\n",
    "\n",
    "col_oh=[x+\"_oh\" for x in col_string]\n",
    "\n",
    "col_oh=col_oh+['arrival_date_year_oh','arrival_date_day_of_month_oh']"
   ]
  },
  {
   "cell_type": "code",
   "execution_count": 14,
   "metadata": {},
   "outputs": [],
   "source": [
    "indexers = [StringIndexer(inputCol=column, outputCol=column+\"_NUMERIC\").fit(df2) for column in col_string]\n",
    "pipeline = Pipeline(stages=indexers)\n",
    "df_indexed = pipeline.fit(df2).transform(df2)"
   ]
  },
  {
   "cell_type": "code",
   "execution_count": 15,
   "metadata": {},
   "outputs": [
    {
     "data": {
      "text/plain": [
       "[('hotel', 'string'),\n",
       " ('is_canceled', 'int'),\n",
       " ('lead_time', 'int'),\n",
       " ('arrival_date_year', 'int'),\n",
       " ('arrival_date_month', 'string'),\n",
       " ('arrival_date_day_of_month', 'int'),\n",
       " ('stays_in_weekend_nights', 'int'),\n",
       " ('stays_in_week_nights', 'int'),\n",
       " ('adults', 'int'),\n",
       " ('children', 'int'),\n",
       " ('babies', 'int'),\n",
       " ('meal', 'string'),\n",
       " ('market_segment', 'string'),\n",
       " ('distribution_channel', 'string'),\n",
       " ('is_repeated_guest', 'int'),\n",
       " ('previous_cancellations', 'int'),\n",
       " ('previous_bookings_not_canceled', 'int'),\n",
       " ('reserved_room_type', 'string'),\n",
       " ('assigned_room_type', 'string'),\n",
       " ('booking_changes', 'int'),\n",
       " ('deposit_type', 'string'),\n",
       " ('days_in_waiting_list', 'int'),\n",
       " ('customer_type', 'string'),\n",
       " ('adr', 'double'),\n",
       " ('required_car_parking_spaces', 'int'),\n",
       " ('total_of_special_requests', 'int'),\n",
       " ('reservation_status', 'string'),\n",
       " ('reservation_status_date', 'string'),\n",
       " ('hotel_NUMERIC', 'double'),\n",
       " ('arrival_date_month_NUMERIC', 'double'),\n",
       " ('meal_NUMERIC', 'double'),\n",
       " ('market_segment_NUMERIC', 'double'),\n",
       " ('distribution_channel_NUMERIC', 'double'),\n",
       " ('reserved_room_type_NUMERIC', 'double'),\n",
       " ('assigned_room_type_NUMERIC', 'double'),\n",
       " ('deposit_type_NUMERIC', 'double'),\n",
       " ('customer_type_NUMERIC', 'double'),\n",
       " ('reservation_status_NUMERIC', 'double'),\n",
       " ('reservation_status_date_NUMERIC', 'double')]"
      ]
     },
     "execution_count": 15,
     "metadata": {},
     "output_type": "execute_result"
    }
   ],
   "source": [
    "df_indexed.dtypes"
   ]
  },
  {
   "cell_type": "code",
   "execution_count": 16,
   "metadata": {},
   "outputs": [],
   "source": [
    "#one-hot encode all columns in col_num\n",
    "\n",
    "ohe = OneHotEncoder(dropLast=False)\n",
    "ohe.setInputCols(col_num)\n",
    "ohe.setOutputCols(col_oh)\n",
    "model = ohe.fit(df_indexed)\n",
    "\n",
    "df_casted=model.transform(df_indexed)\n"
   ]
  },
  {
   "cell_type": "code",
   "execution_count": 17,
   "metadata": {},
   "outputs": [
    {
     "data": {
      "text/plain": [
       "[('hotel', 'string'),\n",
       " ('is_canceled', 'int'),\n",
       " ('lead_time', 'int'),\n",
       " ('arrival_date_year', 'int'),\n",
       " ('arrival_date_month', 'string'),\n",
       " ('arrival_date_day_of_month', 'int'),\n",
       " ('stays_in_weekend_nights', 'int'),\n",
       " ('stays_in_week_nights', 'int'),\n",
       " ('adults', 'int'),\n",
       " ('children', 'int'),\n",
       " ('babies', 'int'),\n",
       " ('meal', 'string'),\n",
       " ('market_segment', 'string'),\n",
       " ('distribution_channel', 'string'),\n",
       " ('is_repeated_guest', 'int'),\n",
       " ('previous_cancellations', 'int'),\n",
       " ('previous_bookings_not_canceled', 'int'),\n",
       " ('reserved_room_type', 'string'),\n",
       " ('assigned_room_type', 'string'),\n",
       " ('booking_changes', 'int'),\n",
       " ('deposit_type', 'string'),\n",
       " ('days_in_waiting_list', 'int'),\n",
       " ('customer_type', 'string'),\n",
       " ('adr', 'double'),\n",
       " ('required_car_parking_spaces', 'int'),\n",
       " ('total_of_special_requests', 'int'),\n",
       " ('reservation_status', 'string'),\n",
       " ('reservation_status_date', 'string'),\n",
       " ('hotel_NUMERIC', 'double'),\n",
       " ('arrival_date_month_NUMERIC', 'double'),\n",
       " ('meal_NUMERIC', 'double'),\n",
       " ('market_segment_NUMERIC', 'double'),\n",
       " ('distribution_channel_NUMERIC', 'double'),\n",
       " ('reserved_room_type_NUMERIC', 'double'),\n",
       " ('assigned_room_type_NUMERIC', 'double'),\n",
       " ('deposit_type_NUMERIC', 'double'),\n",
       " ('customer_type_NUMERIC', 'double'),\n",
       " ('reservation_status_NUMERIC', 'double'),\n",
       " ('reservation_status_date_NUMERIC', 'double'),\n",
       " ('distribution_channel_oh', 'vector'),\n",
       " ('customer_type_oh', 'vector'),\n",
       " ('reservation_status_date_oh', 'vector'),\n",
       " ('arrival_date_day_of_month_oh', 'vector'),\n",
       " ('reservation_status_oh', 'vector'),\n",
       " ('market_segment_oh', 'vector'),\n",
       " ('reserved_room_type_oh', 'vector'),\n",
       " ('assigned_room_type_oh', 'vector'),\n",
       " ('meal_oh', 'vector'),\n",
       " ('hotel_oh', 'vector'),\n",
       " ('deposit_type_oh', 'vector'),\n",
       " ('arrival_date_year_oh', 'vector'),\n",
       " ('arrival_date_month_oh', 'vector')]"
      ]
     },
     "execution_count": 17,
     "metadata": {},
     "output_type": "execute_result"
    }
   ],
   "source": [
    "df_casted.dtypes"
   ]
  },
  {
   "cell_type": "code",
   "execution_count": 18,
   "metadata": {},
   "outputs": [
    {
     "name": "stdout",
     "output_type": "stream",
     "text": [
      "+---------------+------+\n",
      "|booking_changes| count|\n",
      "+---------------+------+\n",
      "|             12|     2|\n",
      "|              1| 12701|\n",
      "|             13|     5|\n",
      "|              6|    63|\n",
      "|             16|     2|\n",
      "|              3|   927|\n",
      "|             20|     1|\n",
      "|              5|   118|\n",
      "|             15|     3|\n",
      "|             17|     2|\n",
      "|              9|     8|\n",
      "|              4|   376|\n",
      "|              8|    17|\n",
      "|              7|    31|\n",
      "|             10|     6|\n",
      "|             21|     1|\n",
      "|             11|     2|\n",
      "|             14|     5|\n",
      "|              2|  3805|\n",
      "|              0|101314|\n",
      "+---------------+------+\n",
      "only showing top 20 rows\n",
      "\n"
     ]
    }
   ],
   "source": [
    "#check oh encoded df_casted\n",
    "df_casted.groupBy('booking_changes').count().show()"
   ]
  },
  {
   "cell_type": "code",
   "execution_count": 19,
   "metadata": {},
   "outputs": [
    {
     "name": "stdout",
     "output_type": "stream",
     "text": [
      "+--------------------+-----+\n",
      "|arrival_date_year_oh|count|\n",
      "+--------------------+-----+\n",
      "| (2018,[2017],[1.0])|40687|\n",
      "| (2018,[2015],[1.0])|21996|\n",
      "| (2018,[2016],[1.0])|56707|\n",
      "+--------------------+-----+\n",
      "\n"
     ]
    }
   ],
   "source": [
    "df_casted.groupBy('arrival_date_year_oh').count().show()"
   ]
  },
  {
   "cell_type": "code",
   "execution_count": 20,
   "metadata": {},
   "outputs": [
    {
     "name": "stdout",
     "output_type": "stream",
     "text": [
      "+----------------------------+-----+\n",
      "|arrival_date_day_of_month_oh|count|\n",
      "+----------------------------+-----+\n",
      "|             (32,[17],[1.0])| 4406|\n",
      "|             (32,[14],[1.0])| 3819|\n",
      "|              (32,[3],[1.0])| 3855|\n",
      "|             (32,[10],[1.0])| 3575|\n",
      "|              (32,[4],[1.0])| 3763|\n",
      "|             (32,[25],[1.0])| 4160|\n",
      "|             (32,[27],[1.0])| 3802|\n",
      "|             (32,[29],[1.0])| 3580|\n",
      "|             (32,[21],[1.0])| 3767|\n",
      "|             (32,[19],[1.0])| 4052|\n",
      "|             (32,[15],[1.0])| 4196|\n",
      "|              (32,[9],[1.0])| 4096|\n",
      "|             (32,[31],[1.0])| 2208|\n",
      "|             (32,[13],[1.0])| 3745|\n",
      "|             (32,[28],[1.0])| 3946|\n",
      "|             (32,[24],[1.0])| 3993|\n",
      "|              (32,[6],[1.0])| 3833|\n",
      "|             (32,[11],[1.0])| 3599|\n",
      "|             (32,[18],[1.0])| 4002|\n",
      "|             (32,[22],[1.0])| 3596|\n",
      "+----------------------------+-----+\n",
      "only showing top 20 rows\n",
      "\n"
     ]
    }
   ],
   "source": [
    "df_casted.groupBy('arrival_date_day_of_month_oh').count().show()"
   ]
  },
  {
   "cell_type": "code",
   "execution_count": 21,
   "metadata": {},
   "outputs": [],
   "source": [
    "df_encoded=df_casted.drop(*col_string)\n",
    "df_encoded=df_encoded.drop(*col_num)"
   ]
  },
  {
   "cell_type": "code",
   "execution_count": 22,
   "metadata": {},
   "outputs": [
    {
     "data": {
      "text/plain": [
       "[('is_canceled', 'int'),\n",
       " ('lead_time', 'int'),\n",
       " ('stays_in_weekend_nights', 'int'),\n",
       " ('stays_in_week_nights', 'int'),\n",
       " ('adults', 'int'),\n",
       " ('children', 'int'),\n",
       " ('babies', 'int'),\n",
       " ('is_repeated_guest', 'int'),\n",
       " ('previous_cancellations', 'int'),\n",
       " ('previous_bookings_not_canceled', 'int'),\n",
       " ('booking_changes', 'int'),\n",
       " ('days_in_waiting_list', 'int'),\n",
       " ('adr', 'double'),\n",
       " ('required_car_parking_spaces', 'int'),\n",
       " ('total_of_special_requests', 'int'),\n",
       " ('distribution_channel_oh', 'vector'),\n",
       " ('customer_type_oh', 'vector'),\n",
       " ('reservation_status_date_oh', 'vector'),\n",
       " ('arrival_date_day_of_month_oh', 'vector'),\n",
       " ('reservation_status_oh', 'vector'),\n",
       " ('market_segment_oh', 'vector'),\n",
       " ('reserved_room_type_oh', 'vector'),\n",
       " ('assigned_room_type_oh', 'vector'),\n",
       " ('meal_oh', 'vector'),\n",
       " ('hotel_oh', 'vector'),\n",
       " ('deposit_type_oh', 'vector'),\n",
       " ('arrival_date_year_oh', 'vector'),\n",
       " ('arrival_date_month_oh', 'vector')]"
      ]
     },
     "execution_count": 22,
     "metadata": {},
     "output_type": "execute_result"
    }
   ],
   "source": [
    "df_encoded.dtypes"
   ]
  },
  {
   "cell_type": "code",
   "execution_count": 23,
   "metadata": {},
   "outputs": [
    {
     "name": "stdout",
     "output_type": "stream",
     "text": [
      "+---------------------+-----+\n",
      "|arrival_date_month_oh|count|\n",
      "+---------------------+-----+\n",
      "|       (12,[0],[1.0])|13877|\n",
      "|       (12,[9],[1.0])| 6794|\n",
      "|       (12,[8],[1.0])| 8068|\n",
      "|      (12,[10],[1.0])| 6780|\n",
      "|       (12,[1],[1.0])|12661|\n",
      "|       (12,[4],[1.0])|11089|\n",
      "|       (12,[3],[1.0])|11160|\n",
      "|       (12,[6],[1.0])|10508|\n",
      "|       (12,[5],[1.0])|10939|\n",
      "|       (12,[2],[1.0])|11791|\n",
      "|       (12,[7],[1.0])| 9794|\n",
      "|      (12,[11],[1.0])| 5929|\n",
      "+---------------------+-----+\n",
      "\n"
     ]
    }
   ],
   "source": [
    "df_encoded.groupBy('arrival_date_month_oh').count().show()"
   ]
  },
  {
   "cell_type": "code",
   "execution_count": 24,
   "metadata": {},
   "outputs": [
    {
     "name": "stdout",
     "output_type": "stream",
     "text": [
      "+-----------+---------+-----------------------+--------------------+------+--------+------+-----------------+----------------------+------------------------------+---------------+--------------------+---+---------------------------+-------------------------+-----------------------+----------------+--------------------------+----------------------------+---------------------+-----------------+---------------------+---------------------+-------------+-------------+---------------+--------------------+---------------------+\n",
      "|is_canceled|lead_time|stays_in_weekend_nights|stays_in_week_nights|adults|children|babies|is_repeated_guest|previous_cancellations|previous_bookings_not_canceled|booking_changes|days_in_waiting_list|adr|required_car_parking_spaces|total_of_special_requests|distribution_channel_oh|customer_type_oh|reservation_status_date_oh|arrival_date_day_of_month_oh|reservation_status_oh|market_segment_oh|reserved_room_type_oh|assigned_room_type_oh|      meal_oh|     hotel_oh|deposit_type_oh|arrival_date_year_oh|arrival_date_month_oh|\n",
      "+-----------+---------+-----------------------+--------------------+------+--------+------+-----------------+----------------------+------------------------------+---------------+--------------------+---+---------------------------+-------------------------+-----------------------+----------------+--------------------------+----------------------------+---------------------+-----------------+---------------------+---------------------+-------------+-------------+---------------+--------------------+---------------------+\n",
      "|          0|      342|                      0|                   0|     2|       0|     0|                0|                     0|                             0|              3|                   0|0.0|                          0|                        0|          (5,[1],[1.0])|   (4,[0],[1.0])|         (926,[825],[1.0])|              (32,[1],[1.0])|        (3,[0],[1.0])|    (8,[3],[1.0])|       (10,[6],[1.0])|       (12,[5],[1.0])|(5,[0],[1.0])|(2,[1],[1.0])|  (3,[0],[1.0])| (2018,[2015],[1.0])|       (12,[1],[1.0])|\n",
      "|          0|      737|                      0|                   0|     2|       0|     0|                0|                     0|                             0|              4|                   0|0.0|                          0|                        0|          (5,[1],[1.0])|   (4,[0],[1.0])|         (926,[825],[1.0])|              (32,[1],[1.0])|        (3,[0],[1.0])|    (8,[3],[1.0])|       (10,[6],[1.0])|       (12,[5],[1.0])|(5,[0],[1.0])|(2,[1],[1.0])|  (3,[0],[1.0])| (2018,[2015],[1.0])|       (12,[1],[1.0])|\n",
      "+-----------+---------+-----------------------+--------------------+------+--------+------+-----------------+----------------------+------------------------------+---------------+--------------------+---+---------------------------+-------------------------+-----------------------+----------------+--------------------------+----------------------------+---------------------+-----------------+---------------------+---------------------+-------------+-------------+---------------+--------------------+---------------------+\n",
      "only showing top 2 rows\n",
      "\n"
     ]
    }
   ],
   "source": [
    "df_encoded.show(2)"
   ]
  },
  {
   "cell_type": "code",
   "execution_count": 25,
   "metadata": {},
   "outputs": [
    {
     "data": {
      "text/plain": [
       "['is_canceled',\n",
       " 'lead_time',\n",
       " 'stays_in_weekend_nights',\n",
       " 'stays_in_week_nights',\n",
       " 'adults',\n",
       " 'children',\n",
       " 'babies',\n",
       " 'is_repeated_guest',\n",
       " 'previous_cancellations',\n",
       " 'previous_bookings_not_canceled',\n",
       " 'booking_changes',\n",
       " 'days_in_waiting_list',\n",
       " 'adr',\n",
       " 'required_car_parking_spaces',\n",
       " 'total_of_special_requests',\n",
       " 'distribution_channel_oh',\n",
       " 'customer_type_oh',\n",
       " 'reservation_status_date_oh',\n",
       " 'arrival_date_day_of_month_oh',\n",
       " 'reservation_status_oh',\n",
       " 'market_segment_oh',\n",
       " 'reserved_room_type_oh',\n",
       " 'assigned_room_type_oh',\n",
       " 'meal_oh',\n",
       " 'hotel_oh',\n",
       " 'deposit_type_oh',\n",
       " 'arrival_date_year_oh',\n",
       " 'arrival_date_month_oh']"
      ]
     },
     "execution_count": 25,
     "metadata": {},
     "output_type": "execute_result"
    }
   ],
   "source": [
    "columns_ = df_encoded.columns\n",
    "columns_"
   ]
  },
  {
   "cell_type": "code",
   "execution_count": 26,
   "metadata": {},
   "outputs": [
    {
     "name": "stdout",
     "output_type": "stream",
     "text": [
      "Normalized using L^1 norm\n"
     ]
    }
   ],
   "source": [
    "from pyspark.ml.feature import Normalizer\n",
    "from pyspark.ml.linalg import Vectors\n",
    "\n",
    "df_encoded=df_casted.drop(*col_string)\n",
    "df_encoded=df_encoded.drop(*col_num)\n",
    "\n",
    "#columns of all vector type data that are going to be normalied \n",
    "columns_ = ['distribution_channel_oh',\n",
    " 'customer_type_oh',\n",
    " 'reservation_status_date_oh',\n",
    " 'arrival_date_day_of_month_oh',\n",
    " 'reservation_status_oh',\n",
    " 'market_segment_oh',\n",
    " 'reserved_room_type_oh',\n",
    " 'assigned_room_type_oh',\n",
    " 'meal_oh',\n",
    " 'hotel_oh',\n",
    " 'deposit_type_oh',\n",
    " 'arrival_date_year_oh',\n",
    " 'arrival_date_month_oh']\n",
    "\n",
    "\n",
    "#normalizing all vector type data with l^1 norm\n",
    "for column in columns_:\n",
    "    normalizer = Normalizer(inputCol=column, outputCol=column+\"_NORM\", p=1.0) \n",
    "    l1NormData = normalizer.transform(df_encoded)\n",
    "    df_encoded = l1NormData\n",
    "l1NormData = df_encoded\n",
    "print(\"Normalized using L^1 norm\")\n",
    "\n",
    "l1NormData = l1NormData.drop(*columns_)\n",
    "#l1NormData.show()"
   ]
  },
  {
   "cell_type": "code",
   "execution_count": 27,
   "metadata": {},
   "outputs": [
    {
     "data": {
      "text/plain": [
       "[('is_canceled', 'int'),\n",
       " ('lead_time', 'int'),\n",
       " ('stays_in_weekend_nights', 'int'),\n",
       " ('stays_in_week_nights', 'int'),\n",
       " ('adults', 'int'),\n",
       " ('children', 'int'),\n",
       " ('babies', 'int'),\n",
       " ('is_repeated_guest', 'int'),\n",
       " ('previous_cancellations', 'int'),\n",
       " ('previous_bookings_not_canceled', 'int'),\n",
       " ('booking_changes', 'int'),\n",
       " ('days_in_waiting_list', 'int'),\n",
       " ('adr', 'double'),\n",
       " ('required_car_parking_spaces', 'int'),\n",
       " ('total_of_special_requests', 'int'),\n",
       " ('distribution_channel_oh_NORM', 'vector'),\n",
       " ('customer_type_oh_NORM', 'vector'),\n",
       " ('reservation_status_date_oh_NORM', 'vector'),\n",
       " ('arrival_date_day_of_month_oh_NORM', 'vector'),\n",
       " ('reservation_status_oh_NORM', 'vector'),\n",
       " ('market_segment_oh_NORM', 'vector'),\n",
       " ('reserved_room_type_oh_NORM', 'vector'),\n",
       " ('assigned_room_type_oh_NORM', 'vector'),\n",
       " ('meal_oh_NORM', 'vector'),\n",
       " ('hotel_oh_NORM', 'vector'),\n",
       " ('deposit_type_oh_NORM', 'vector'),\n",
       " ('arrival_date_year_oh_NORM', 'vector'),\n",
       " ('arrival_date_month_oh_NORM', 'vector')]"
      ]
     },
     "execution_count": 27,
     "metadata": {},
     "output_type": "execute_result"
    }
   ],
   "source": [
    "l1NormData.dtypes"
   ]
  },
  {
   "cell_type": "code",
   "execution_count": 28,
   "metadata": {},
   "outputs": [],
   "source": [
    "# convert to RDD\n",
    "# data_rdd = df2.rdd\n",
    "\n",
    "data_rdd = df_encoded.rdd\n",
    "\n",
    "seed = 42\n",
    "\n",
    "# 70/30 test train split\n",
    "train, test = data_rdd.randomSplit([0.7, 0.3], seed)"
   ]
  },
  {
   "cell_type": "markdown",
   "metadata": {},
   "source": [
    "### Exploratory Data Analysis"
   ]
  },
  {
   "cell_type": "code",
   "execution_count": 29,
   "metadata": {},
   "outputs": [],
   "source": [
    "import matplotlib.pyplot as plt \n",
    "from pyspark.sql.functions import *\n",
    "import pyspark.sql.functions as f\n",
    "import numpy as np"
   ]
  },
  {
   "cell_type": "code",
   "execution_count": 167,
   "metadata": {},
   "outputs": [
    {
     "name": "stdout",
     "output_type": "stream",
     "text": [
      "+-------+------------------+-----------------------+--------------------+------------------+\n",
      "|summary|               adr|stays_in_weekend_nights|stays_in_week_nights|         lead_time|\n",
      "+-------+------------------+-----------------------+--------------------+------------------+\n",
      "|  count|            119390|                 119390|              119390|            119390|\n",
      "|   mean|101.83112153446453|     0.9275986263506156|   2.500301532791691|104.01141636652986|\n",
      "| stddev| 50.53579028554864|     0.9986134945978816|  1.9082856150479093|106.86309704798747|\n",
      "|    min|             -6.38|                      0|                   0|                 0|\n",
      "|    max|            5400.0|                     19|                  50|               737|\n",
      "+-------+------------------+-----------------------+--------------------+------------------+\n",
      "\n"
     ]
    }
   ],
   "source": [
    "#average daily rate: defined by dividing the sum of all lodging transactions by the total number of staying nights\n",
    "#Number of stays in the weekday/weekend\n",
    "#lead_time: Number of days that elapsed between the entering date of the booking into the PMS and the arrival date\n",
    "df2.select(['adr','stays_in_weekend_nights', 'stays_in_week_nights', 'lead_time']).describe().show()"
   ]
  },
  {
   "cell_type": "code",
   "execution_count": 169,
   "metadata": {},
   "outputs": [
    {
     "name": "stdout",
     "output_type": "stream",
     "text": [
      "+-------+------------------+-------------------+--------------------+\n",
      "|summary|            adults|           children|              babies|\n",
      "+-------+------------------+-------------------+--------------------+\n",
      "|  count|            119390|             119390|              119390|\n",
      "|   mean|1.8564033838679956|0.10388642264846303|0.007948739425412514|\n",
      "| stddev|0.5792609988327523| 0.3985552216824472| 0.09743619130126377|\n",
      "|    min|                 0|                  0|                   0|\n",
      "|    max|                55|                 10|                  10|\n",
      "+-------+------------------+-------------------+--------------------+\n",
      "\n"
     ]
    }
   ],
   "source": [
    "#Whether patrons/customers were adults with children\n",
    "df2.select(['adults', 'children', 'babies']).describe().show()"
   ]
  },
  {
   "cell_type": "code",
   "execution_count": 31,
   "metadata": {},
   "outputs": [
    {
     "name": "stdout",
     "output_type": "stream",
     "text": [
      "+------------+------------+-----------+------------------+\n",
      "|deposit_type|       hotel|is_canceled|          avg(adr)|\n",
      "+------------+------------+-----------+------------------+\n",
      "|  No Deposit|  City Hotel|          0|105.75264665136447|\n",
      "|  No Deposit|  City Hotel|          1|112.00739824145559|\n",
      "|  No Deposit|Resort Hotel|          0| 90.93364290932067|\n",
      "|  No Deposit|Resort Hotel|          1|112.77001693121677|\n",
      "|  Non Refund|  City Hotel|          0| 99.77833333333335|\n",
      "|  Non Refund|  City Hotel|          1| 93.12289551541632|\n",
      "|  Non Refund|Resort Hotel|          0|  69.8572463768116|\n",
      "|  Non Refund|Resort Hotel|          1| 66.07261818181843|\n",
      "|  Refundable|  City Hotel|          0| 78.04166666666667|\n",
      "|  Refundable|  City Hotel|          1|130.80714285714285|\n",
      "|  Refundable|Resort Hotel|          0| 68.16483333333333|\n",
      "|  Refundable|Resort Hotel|          1| 84.84772727272728|\n",
      "+------------+------------+-----------+------------------+\n",
      "\n"
     ]
    }
   ],
   "source": [
    "#Indication on if the customer made a deposit to guarantee the booking.\n",
    "#No Deposit – no deposit was made\n",
    "#Non Refund – a deposit was made in the value of the total stay cost\n",
    "#Refundable – a deposit was made with a value under the total cost of stay.\n",
    "\n",
    "df2.groupBy(\"deposit_type\", 'hotel', 'is_canceled').avg('adr').sort(\"deposit_type\", 'hotel', 'is_canceled').show()"
   ]
  },
  {
   "cell_type": "code",
   "execution_count": 32,
   "metadata": {},
   "outputs": [
    {
     "name": "stdout",
     "output_type": "stream",
     "text": [
      "+------------+-----------+-----+\n",
      "|deposit_type|is_canceled|count|\n",
      "+------------+-----------+-----+\n",
      "|  No Deposit|          1|29694|\n",
      "|  No Deposit|          0|74947|\n",
      "|  Non Refund|          1|14494|\n",
      "|  Non Refund|          0|   93|\n",
      "|  Refundable|          1|   36|\n",
      "|  Refundable|          0|  126|\n",
      "+------------+-----------+-----+\n",
      "\n"
     ]
    }
   ],
   "source": [
    "df2.groupBy(\"deposit_type\", 'is_canceled').count().sort(\"deposit_type\").show()"
   ]
  },
  {
   "cell_type": "code",
   "execution_count": 33,
   "metadata": {},
   "outputs": [
    {
     "name": "stdout",
     "output_type": "stream",
     "text": [
      "+------------+------------+-----------+-----+\n",
      "|deposit_type|       hotel|is_canceled|count|\n",
      "+------------+------------+-----------+-----+\n",
      "|  No Deposit|  City Hotel|          0|46198|\n",
      "|  No Deposit|  City Hotel|          1|20244|\n",
      "|  No Deposit|Resort Hotel|          0|28749|\n",
      "|  No Deposit|Resort Hotel|          1| 9450|\n",
      "|  Non Refund|  City Hotel|          0|   24|\n",
      "|  Non Refund|  City Hotel|          1|12844|\n",
      "|  Non Refund|Resort Hotel|          0|   69|\n",
      "|  Non Refund|Resort Hotel|          1| 1650|\n",
      "|  Refundable|  City Hotel|          0|    6|\n",
      "|  Refundable|  City Hotel|          1|   14|\n",
      "|  Refundable|Resort Hotel|          0|  120|\n",
      "|  Refundable|Resort Hotel|          1|   22|\n",
      "+------------+------------+-----------+-----+\n",
      "\n"
     ]
    }
   ],
   "source": [
    "#check count of cancellations for deposit type\n",
    "df2.groupBy(\"deposit_type\", 'hotel', 'is_canceled').count().sort(\"deposit_type\", 'hotel', 'is_canceled').show()"
   ]
  },
  {
   "cell_type": "markdown",
   "metadata": {},
   "source": [
    "It appears that bookings that were made with no deposit, it is more likely for patrons to cancel their bookings. This makes sense as there is no punitive action or monetary loss if they choose to cancel their reservation. This is more likely to also occur for city hotels.\n",
    "\n",
    "For those that required non-refundable deposits, one would think that it makes sense for customers to be making their reservations more conservatively and wisely. Surprisingly, we find that cancellations for these types of bookings occurred more frequently than bookings that provided refundable deposits. When broken down by hotel type, again we see that majority (~10k more) of cancellations were for city hotels. Perhaps there is also influence from whether the trip was business or leisure related (customer type)\n",
    "\n",
    "Lastly, we notice that for deposits that were refundable, the number of cancellations were fairly low. \n",
    "\n",
    "However, the original dataset revealed that about 88% of hotels did not require a deposit"
   ]
  },
  {
   "cell_type": "code",
   "execution_count": 102,
   "metadata": {},
   "outputs": [
    {
     "name": "stdout",
     "output_type": "stream",
     "text": [
      "+---------------+-----------+-----+\n",
      "|  customer_type|is_canceled|count|\n",
      "+---------------+-----------+-----+\n",
      "|       Contract|          0| 2814|\n",
      "|       Contract|          1| 1262|\n",
      "|          Group|          0|  518|\n",
      "|          Group|          1|   59|\n",
      "|      Transient|          0|53099|\n",
      "|      Transient|          1|36514|\n",
      "|Transient-Party|          0|18735|\n",
      "|Transient-Party|          1| 6389|\n",
      "+---------------+-----------+-----+\n",
      "\n"
     ]
    }
   ],
   "source": [
    "#Type of booking, assuming one of four categories\n",
    "#Contract - when the booking has an allotment or other type of contract associated to it\n",
    "#Group – when the booking is associated to a group\n",
    "#Transient – when the booking is not part of a group or contract, and is not associated to other transient booking\n",
    "#Transient-party – when the booking is transient, but is associated to at least other transient booking\n",
    "\n",
    "df2.groupBy(\"customer_type\", 'is_canceled').count().sort('customer_type', 'is_canceled').show()"
   ]
  },
  {
   "cell_type": "code",
   "execution_count": 103,
   "metadata": {},
   "outputs": [
    {
     "name": "stdout",
     "output_type": "stream",
     "text": [
      "['Contract', 'Group', 'Transient', 'Transient-Party']\n"
     ]
    }
   ],
   "source": [
    "x_customer = [val.customer_type for val in df2.select('customer_type').groupBy('customer_type').count().collect()]\n",
    "x_customer.sort()\n",
    "print(x_customer)"
   ]
  },
  {
   "cell_type": "code",
   "execution_count": 112,
   "metadata": {},
   "outputs": [],
   "source": [
    "df2_cancel0 = df2.filter(col('is_canceled') == 0)\n",
    "df2_cancel1 = df2.filter(col('is_canceled') == 1)"
   ]
  },
  {
   "cell_type": "code",
   "execution_count": 144,
   "metadata": {},
   "outputs": [
    {
     "name": "stdout",
     "output_type": "stream",
     "text": [
      "+---------------+-----+\n",
      "|  customer_type|count|\n",
      "+---------------+-----+\n",
      "|       Contract| 2814|\n",
      "|          Group|  518|\n",
      "|      Transient|53099|\n",
      "|Transient-Party|18735|\n",
      "+---------------+-----+\n",
      "\n"
     ]
    }
   ],
   "source": [
    "customer0 = df2_cancel0.groupBy('customer_type').count().sort('customer_type')\n",
    "customer0.show()"
   ]
  },
  {
   "cell_type": "code",
   "execution_count": 145,
   "metadata": {},
   "outputs": [
    {
     "name": "stdout",
     "output_type": "stream",
     "text": [
      "+---------------+-----+\n",
      "|  customer_type|count|\n",
      "+---------------+-----+\n",
      "|       Contract| 1262|\n",
      "|          Group|   59|\n",
      "|      Transient|36514|\n",
      "|Transient-Party| 6389|\n",
      "+---------------+-----+\n",
      "\n"
     ]
    }
   ],
   "source": [
    "customer1 = df2_cancel1.groupBy('customer_type').count().sort('customer_type')\n",
    "customer1.show()"
   ]
  },
  {
   "cell_type": "code",
   "execution_count": 153,
   "metadata": {},
   "outputs": [
    {
     "data": {
      "text/plain": [
       "[2814, 518, 53099, 18735]"
      ]
     },
     "execution_count": 153,
     "metadata": {},
     "output_type": "execute_result"
    }
   ],
   "source": [
    "customer0_list = customer0.select(\"count\").rdd.flatMap(lambda x: x).collect()\n",
    "customer0_list"
   ]
  },
  {
   "cell_type": "code",
   "execution_count": 154,
   "metadata": {},
   "outputs": [
    {
     "data": {
      "text/plain": [
       "[1262, 59, 36514, 6389]"
      ]
     },
     "execution_count": 154,
     "metadata": {},
     "output_type": "execute_result"
    }
   ],
   "source": [
    "customer1_list = customer1.select(\"count\").rdd.flatMap(lambda x: x).collect()\n",
    "customer1_list"
   ]
  },
  {
   "cell_type": "code",
   "execution_count": 155,
   "metadata": {},
   "outputs": [
    {
     "data": {
      "image/png": "[encoded data removed]",
      "text/plain": [
       "<Figure size 432x288 with 1 Axes>"
      ]
     },
     "metadata": {
      "needs_background": "light"
     },
     "output_type": "display_data"
    }
   ],
   "source": [
    "#visualize customer_type cancellation\n",
    "\n",
    "#Sorted in this order: 'Contract', 'Group', 'Transient', 'Transient-Party'\n",
    "labels = x_customer\n",
    "cancel0_count = customer0_list\n",
    "cancel1_count = customer1_list\n",
    "\n",
    "x = np.arange(len(x_customer))  # the label locations\n",
    "width = 0.35  # the width of the bars\n",
    "\n",
    "fig, ax = plt.subplots()\n",
    "rects1 = ax.bar(x - width/2, cancel0_count, width, label='0 = Not Canceled')\n",
    "rects2 = ax.bar(x + width/2, cancel1_count, width, label='1 = Canceled')\n",
    "\n",
    "# Add some text for labels, title and custom x-axis tick labels, etc.\n",
    "ax.set_ylabel('Count')\n",
    "ax.set_title('Count of hotel cancellations by cutomer type')\n",
    "ax.set_xticks(x)\n",
    "ax.set_xticklabels(labels)\n",
    "ax.legend()\n",
    "\n",
    "plt.show()"
   ]
  },
  {
   "cell_type": "markdown",
   "metadata": {},
   "source": [
    "From the original dataset, 75% of the data were transient while 25% were transient-party"
   ]
  },
  {
   "cell_type": "code",
   "execution_count": 35,
   "metadata": {},
   "outputs": [
    {
     "name": "stdout",
     "output_type": "stream",
     "text": [
      "+------------------+------------+------------------+\n",
      "|arrival_date_month|       hotel|          avg(adr)|\n",
      "+------------------+------------+------------------+\n",
      "|             April|  City Hotel|111.25183823529417|\n",
      "|             April|Resort Hotel| 77.84949570518152|\n",
      "|            August|  City Hotel|114.68045530446382|\n",
      "|            August|Resort Hotel|186.79057417245596|\n",
      "|          December|  City Hotel| 88.82630687318492|\n",
      "|          December|Resort Hotel| 68.98422960725051|\n",
      "|          February|  City Hotel|   85.088277945619|\n",
      "|          February|Resort Hotel| 55.17193038994517|\n",
      "|           January|  City Hotel| 82.62898554603844|\n",
      "|           January|Resort Hotel|49.461883264933924|\n",
      "|              July|  City Hotel|110.73429154302588|\n",
      "|              July|Resort Hotel|155.18129892849268|\n",
      "|              June|  City Hotel|119.07434127185242|\n",
      "|              June|Resort Hotel|110.44474876847313|\n",
      "|             March|  City Hotel| 92.64311551563952|\n",
      "|             March|Resort Hotel|57.520146882493776|\n",
      "|               May|  City Hotel|121.63856049562627|\n",
      "|               May|Resort Hotel| 78.75813430739032|\n",
      "|          November|  City Hotel| 88.06960064264429|\n",
      "|          November|Resort Hotel|48.273992613869645|\n",
      "+------------------+------------+------------------+\n",
      "only showing top 20 rows\n",
      "\n"
     ]
    }
   ],
   "source": [
    "#Average hotel daily average rates per month by hotel\n",
    "df2.groupBy('arrival_date_month','hotel').avg('adr').sort('arrival_date_month','hotel').show()"
   ]
  },
  {
   "cell_type": "code",
   "execution_count": 42,
   "metadata": {},
   "outputs": [
    {
     "name": "stdout",
     "output_type": "stream",
     "text": [
      "+------------------+------------+-----------+-----+\n",
      "|arrival_date_month|       hotel|is_canceled|count|\n",
      "+------------------+------------+-----------+-----+\n",
      "|             April|  City Hotel|          0| 4015|\n",
      "|             April|  City Hotel|          1| 3465|\n",
      "|             April|Resort Hotel|          0| 2550|\n",
      "|             April|Resort Hotel|          1| 1059|\n",
      "|            August|  City Hotel|          0| 5381|\n",
      "|            August|  City Hotel|          1| 3602|\n",
      "|            August|Resort Hotel|          0| 3257|\n",
      "|            August|Resort Hotel|          1| 1637|\n",
      "|          December|  City Hotel|          0| 2392|\n",
      "|          December|  City Hotel|          1| 1740|\n",
      "|          December|Resort Hotel|          0| 2017|\n",
      "|          December|Resort Hotel|          1|  631|\n",
      "|          February|  City Hotel|          0| 3064|\n",
      "|          February|  City Hotel|          1| 1901|\n",
      "|          February|Resort Hotel|          0| 2308|\n",
      "|          February|Resort Hotel|          1|  795|\n",
      "|           January|  City Hotel|          0| 2254|\n",
      "|           January|  City Hotel|          1| 1482|\n",
      "|           January|Resort Hotel|          0| 1868|\n",
      "|           January|Resort Hotel|          1|  325|\n",
      "+------------------+------------+-----------+-----+\n",
      "only showing top 20 rows\n",
      "\n"
     ]
    }
   ],
   "source": [
    "#Hotel cancellation counts by hotel atype and month\n",
    "df2.groupBy('arrival_date_month','hotel', 'is_canceled').count().sort('arrival_date_month','hotel', 'is_canceled').show()"
   ]
  },
  {
   "cell_type": "code",
   "execution_count": 161,
   "metadata": {},
   "outputs": [
    {
     "data": {
      "text/plain": [
       "['April',\n",
       " 'August',\n",
       " 'December',\n",
       " 'February',\n",
       " 'January',\n",
       " 'July',\n",
       " 'June',\n",
       " 'March',\n",
       " 'May',\n",
       " 'November',\n",
       " 'October',\n",
       " 'September']"
      ]
     },
     "execution_count": 161,
     "metadata": {},
     "output_type": "execute_result"
    }
   ],
   "source": [
    "months_label = [val.arrival_date_month for val in df2.select('arrival_date_month').distinct().collect()] \n",
    "months_label.sort()\n",
    "months_label\n",
    "#unordered original appeared months"
   ]
  },
  {
   "cell_type": "code",
   "execution_count": 69,
   "metadata": {},
   "outputs": [
    {
     "data": {
      "text/plain": [
       "['04', '08', '12', '02', '01', '07', '06', '03', '05', '11', '10', '09']"
      ]
     },
     "execution_count": 69,
     "metadata": {},
     "output_type": "execute_result"
    }
   ],
   "source": [
    "#reorder\n",
    "months_label[0] = '04'\n",
    "months_label[1] = '08'\n",
    "months_label[2] = '12'\n",
    "months_label[3] = '02'\n",
    "months_label[4] = '01'\n",
    "months_label[5] = '07'\n",
    "months_label[6] = '06'\n",
    "months_label[7] = '03'\n",
    "months_label[8] = '05'\n",
    "months_label[9] = '11'\n",
    "months_label[10] = '10'\n",
    "months_label[11] = '09'\n",
    "months_label"
   ]
  },
  {
   "cell_type": "code",
   "execution_count": 74,
   "metadata": {},
   "outputs": [
    {
     "name": "stdout",
     "output_type": "stream",
     "text": [
      "['01', '02', '03', '04', '05', '06', '07', '08', '09', '10', '11', '12']\n"
     ]
    }
   ],
   "source": [
    "months_label.sort()\n",
    "print(months_label)"
   ]
  },
  {
   "cell_type": "code",
   "execution_count": 75,
   "metadata": {},
   "outputs": [
    {
     "data": {
      "text/plain": [
       "['January',\n",
       " 'February',\n",
       " 'March',\n",
       " 'April',\n",
       " 'May',\n",
       " 'June',\n",
       " 'July',\n",
       " 'August',\n",
       " 'September',\n",
       " 'October',\n",
       " 'November',\n",
       " 'December']"
      ]
     },
     "execution_count": 75,
     "metadata": {},
     "output_type": "execute_result"
    }
   ],
   "source": [
    "#reorder2\n",
    "months_label[0] = 'January'\n",
    "months_label[1] = 'February'\n",
    "months_label[2] = 'March'\n",
    "months_label[3] = 'April'\n",
    "months_label[4] = 'May'\n",
    "months_label[5] = 'June'\n",
    "months_label[6] = 'July'\n",
    "months_label[7] = 'August'\n",
    "months_label[8] = 'September'\n",
    "months_label[9] = 'October'\n",
    "months_label[10] = 'November'\n",
    "months_label[11] = 'December'\n",
    "months_label"
   ]
  },
  {
   "cell_type": "code",
   "execution_count": 157,
   "metadata": {},
   "outputs": [
    {
     "name": "stdout",
     "output_type": "stream",
     "text": [
      "+------------------+-----+\n",
      "|arrival_date_month|count|\n",
      "+------------------+-----+\n",
      "|             April| 6565|\n",
      "|            August| 8638|\n",
      "|          December| 4409|\n",
      "|          February| 5372|\n",
      "|           January| 4122|\n",
      "|              July| 7919|\n",
      "|              June| 6404|\n",
      "|             March| 6645|\n",
      "|               May| 7114|\n",
      "|          November| 4672|\n",
      "|           October| 6914|\n",
      "|         September| 6392|\n",
      "+------------------+-----+\n",
      "\n"
     ]
    }
   ],
   "source": [
    "months_cancel0 = df2_cancel0.groupBy('arrival_date_month').count().sort('arrival_date_month')\n",
    "months_cancel0.show()"
   ]
  },
  {
   "cell_type": "code",
   "execution_count": 159,
   "metadata": {},
   "outputs": [
    {
     "name": "stdout",
     "output_type": "stream",
     "text": [
      "+------------------+-----+\n",
      "|arrival_date_month|count|\n",
      "+------------------+-----+\n",
      "|             April| 4524|\n",
      "|            August| 5239|\n",
      "|          December| 2371|\n",
      "|          February| 2696|\n",
      "|           January| 1807|\n",
      "|              July| 4742|\n",
      "|              June| 4535|\n",
      "|             March| 3149|\n",
      "|               May| 4677|\n",
      "|          November| 2122|\n",
      "|           October| 4246|\n",
      "|         September| 4116|\n",
      "+------------------+-----+\n",
      "\n"
     ]
    }
   ],
   "source": [
    "months_cancel1 = df2_cancel1.groupBy('arrival_date_month').count().sort('arrival_date_month')\n",
    "months_cancel1.show()"
   ]
  },
  {
   "cell_type": "code",
   "execution_count": 158,
   "metadata": {},
   "outputs": [
    {
     "data": {
      "text/plain": [
       "[6565, 8638, 4409, 5372, 4122, 7919, 6404, 6645, 7114, 4672, 6914, 6392]"
      ]
     },
     "execution_count": 158,
     "metadata": {},
     "output_type": "execute_result"
    }
   ],
   "source": [
    "month0_list = months_cancel0.select(\"count\").rdd.flatMap(lambda x: x).collect()\n",
    "month0_list"
   ]
  },
  {
   "cell_type": "code",
   "execution_count": 160,
   "metadata": {},
   "outputs": [
    {
     "data": {
      "text/plain": [
       "[4524, 5239, 2371, 2696, 1807, 4742, 4535, 3149, 4677, 2122, 4246, 4116]"
      ]
     },
     "execution_count": 160,
     "metadata": {},
     "output_type": "execute_result"
    }
   ],
   "source": [
    "month1_list = months_cancel1.select(\"count\").rdd.flatMap(lambda x: x).collect()\n",
    "month1_list"
   ]
  },
  {
   "cell_type": "code",
   "execution_count": 163,
   "metadata": {},
   "outputs": [
    {
     "data": {
      "image/png": "[encoded data removed]",
      "text/plain": [
       "<Figure size 432x288 with 1 Axes>"
      ]
     },
     "metadata": {
      "needs_background": "light"
     },
     "output_type": "display_data"
    }
   ],
   "source": [
    "#visualize non cancellations by month\n",
    "\n",
    "#These are unordered: April, August, December\n",
    "#Only ordered alphabetically\n",
    "labels = months_label\n",
    "cancel0_count = month0_list\n",
    "cancel1_count = month1_list\n",
    "\n",
    "x = np.arange(len(months_label))  # the label locations\n",
    "width = 0.35  # the width of the bars\n",
    "\n",
    "fig, ax = plt.subplots()\n",
    "rects1 = ax.bar(x - width/2, cancel0_count, width, label='0 = Not Canceled')\n",
    "rects2 = ax.bar(x + width/2, cancel1_count, width, label='1 = Canceled')\n",
    "\n",
    "# Add some text for labels, title and custom x-axis tick labels, etc.\n",
    "ax.set_ylabel('Count')\n",
    "ax.set_title('Count of hotel cancellations by month')\n",
    "ax.set_xticks(x)\n",
    "ax.set_xticklabels(labels, rotation = 45, ha=\"right\")\n",
    "ax.legend()\n",
    "\n",
    "plt.show()"
   ]
  },
  {
   "cell_type": "code",
   "execution_count": 164,
   "metadata": {},
   "outputs": [
    {
     "name": "stdout",
     "output_type": "stream",
     "text": [
      "+-----------------+------------+-----------+-----+\n",
      "|arrival_date_year|       hotel|is_canceled|count|\n",
      "+-----------------+------------+-----------+-----+\n",
      "|             2015|  City Hotel|          0| 7678|\n",
      "|             2015|  City Hotel|          1| 6004|\n",
      "|             2015|Resort Hotel|          0| 6176|\n",
      "|             2015|Resort Hotel|          1| 2138|\n",
      "|             2016|  City Hotel|          0|22733|\n",
      "|             2016|  City Hotel|          1|15407|\n",
      "|             2016|Resort Hotel|          0|13637|\n",
      "|             2016|Resort Hotel|          1| 4930|\n",
      "|             2017|  City Hotel|          0|15817|\n",
      "|             2017|  City Hotel|          1|11691|\n",
      "|             2017|Resort Hotel|          0| 9125|\n",
      "|             2017|Resort Hotel|          1| 4054|\n",
      "+-----------------+------------+-----------+-----+\n",
      "\n"
     ]
    }
   ],
   "source": [
    "#Count of cancellations by hotel type and year\n",
    "#2015-2017\n",
    "df2.groupBy('arrival_date_year','hotel', 'is_canceled').count().sort('arrival_date_year','hotel', 'is_canceled').show()"
   ]
  },
  {
   "cell_type": "code",
   "execution_count": 37,
   "metadata": {},
   "outputs": [
    {
     "name": "stdout",
     "output_type": "stream",
     "text": [
      "+------------+-----+\n",
      "|       hotel|count|\n",
      "+------------+-----+\n",
      "|  City Hotel|79330|\n",
      "|Resort Hotel|40060|\n",
      "+------------+-----+\n",
      "\n"
     ]
    }
   ],
   "source": [
    "#count of cancellation by hotel\n",
    "df2.groupBy('hotel').count().select('hotel', f.col('count')).show()"
   ]
  },
  {
   "cell_type": "code",
   "execution_count": 38,
   "metadata": {},
   "outputs": [],
   "source": [
    "#Get counts of cancel or not cancel by hotel type\n",
    "resort_0 = df2.filter((col('hotel') == 'Resort Hotel') & (col('is_canceled') == 0)).count()\n",
    "resort_1 = df2.filter((col('hotel') == 'Resort Hotel') & (col('is_canceled') == 1)).count()\n",
    "city_0 = df2.filter((col('hotel') == 'City Hotel') & (col('is_canceled') == 0)).count()\n",
    "city_1 = df2.filter((col('hotel') == 'City Hotel') & (col('is_canceled') == 1)).count()"
   ]
  },
  {
   "cell_type": "code",
   "execution_count": 39,
   "metadata": {},
   "outputs": [
    {
     "name": "stdout",
     "output_type": "stream",
     "text": [
      "+------------+-----------+-----+\n",
      "|       hotel|is_canceled|count|\n",
      "+------------+-----------+-----+\n",
      "|Resort Hotel|          0|28938|\n",
      "|  City Hotel|          0|46228|\n",
      "|Resort Hotel|          1|11122|\n",
      "|  City Hotel|          1|33102|\n",
      "+------------+-----------+-----+\n",
      "\n"
     ]
    }
   ],
   "source": [
    "#cancellations by hotel type in dataframe\n",
    "df2.groupBy('hotel', 'is_canceled').count().show()"
   ]
  },
  {
   "cell_type": "code",
   "execution_count": 139,
   "metadata": {},
   "outputs": [
    {
     "data": {
      "image/png": "[encoded data removed]",
      "text/plain": [
       "<Figure size 432x288 with 1 Axes>"
      ]
     },
     "metadata": {
      "needs_background": "light"
     },
     "output_type": "display_data"
    }
   ],
   "source": [
    "#to visualize, we use matplotlib\n",
    "#Hotel cancellations by hotel type\n",
    "\n",
    "\n",
    "#y_iscancel = [val.is_canceled for val in df2.select('is_canceled').distinct().collect()]   #gets [0,1]\n",
    "x_hoteltype = [val.hotel for val in df2.select('hotel').groupBy('hotel').count().collect()]\n",
    "\n",
    "labels = ['City Hotel', 'Resort Hotel']\n",
    "cancel0_count = [city_0, resort_0]\n",
    "cancel1_count = [city_1, resort_1]\n",
    "\n",
    "x = np.arange(len(x_hoteltype))  # the label locations\n",
    "width = 0.35  # the width of the bars\n",
    "\n",
    "fig, ax = plt.subplots()\n",
    "rects1 = ax.bar(x - width/2, cancel0_count, width, label='0 = Not Canceled')\n",
    "rects2 = ax.bar(x + width/2, cancel1_count, width, label='1 = Canceled')\n",
    "\n",
    "# Add some text for labels, title and custom x-axis tick labels, etc.\n",
    "ax.set_ylabel('Count')\n",
    "ax.set_title('Count of hotel cancellations by hotel type')\n",
    "ax.set_xticks(x)\n",
    "ax.set_xticklabels(labels)\n",
    "ax.legend()\n",
    "\n",
    "plt.show()"
   ]
  },
  {
   "cell_type": "code",
   "execution_count": 40,
   "metadata": {},
   "outputs": [
    {
     "name": "stdout",
     "output_type": "stream",
     "text": [
      "+------------+----+-----+\n",
      "|       hotel|meal|count|\n",
      "+------------+----+-----+\n",
      "|  City Hotel|  BB|62305|\n",
      "|  City Hotel|  FB|   44|\n",
      "|  City Hotel|  HB| 6417|\n",
      "|  City Hotel|  SC|10564|\n",
      "|Resort Hotel|  BB|30005|\n",
      "|Resort Hotel|  FB|  754|\n",
      "|Resort Hotel|  HB| 8046|\n",
      "|Resort Hotel|  SC| 1255|\n",
      "+------------+----+-----+\n",
      "\n"
     ]
    }
   ],
   "source": [
    "# for 'meal': \n",
    "#undefined/SC are same, they mean no meal package. \n",
    "#BB: is bed&breakfast\n",
    "#HB: half board, is breakfast and dinner\n",
    "#FB: full board, is full breakfast lunch and dinner\n",
    "\n",
    "# replace Undefined with SC in meal package\n",
    "df2 = df2.replace('Undefined', 'SC')\n",
    "\n",
    "# see value counts for 'meal'\n",
    "df2.groupBy('hotel','meal').count().sort('hotel', 'meal').show()"
   ]
  },
  {
   "cell_type": "code",
   "execution_count": null,
   "metadata": {},
   "outputs": [],
   "source": []
  },
  {
   "cell_type": "code",
   "execution_count": null,
   "metadata": {},
   "outputs": [],
   "source": []
  },
  {
   "cell_type": "markdown",
   "metadata": {},
   "source": [
    "helpful links:\n",
    "- https://spark.apache.org/docs/latest/ml-guide.html \n",
    "- https://runawayhorse001.github.io/LearningApacheSpark/exploration.html\n",
    "- https://github.com/Bergvca/pyspark_dist_explore\n"
   ]
  },
  {
   "cell_type": "markdown",
   "metadata": {},
   "source": [
    "### Modeling"
   ]
  },
  {
   "cell_type": "markdown",
   "metadata": {},
   "source": [
    "We will need to include\n",
    "\n",
    "a) Evaluate metrics\n",
    "- For classificaiton,\n",
    "        - accuracy\n",
    "        - precision, recall, F1 score\n",
    "        - confusion matrix\n",
    "        - area under the ROC curve (AUROC)\n",
    "        \n",
    "b) Sensitivity analysis\n",
    "\n",
    "Sensitivity analysis measures the effect of changing the model inputs or parameters. For example, if\n",
    "the model uses a hyperparameter C, how does AUROC change when feature X is increased/decreased\n",
    "by one standard deviation. The hope is that sensitivity is low."
   ]
  },
  {
   "cell_type": "markdown",
   "metadata": {},
   "source": [
    "#### Benchmark or Simple Model"
   ]
  },
  {
   "cell_type": "markdown",
   "metadata": {},
   "source": [
    "We will use logistic regression to predict whether patrons will  cancel their hotel bookings\n",
    "\n",
    "First, we test using logistic regression on just one feature"
   ]
  },
  {
   "cell_type": "code",
   "execution_count": null,
   "metadata": {},
   "outputs": [],
   "source": [
    "# load modules\n",
    "import pandas as pd\n",
    "import pyspark.sql.functions as F\n",
    "import pyspark.mllib.regression as reg\n",
    "from pyspark.mllib.classification import LogisticRegressionWithLBFGS\n",
    "from pyspark.mllib.evaluation import BinaryClassificationMetrics"
   ]
  },
  {
   "cell_type": "code",
   "execution_count": null,
   "metadata": {},
   "outputs": [],
   "source": [
    "# narrow the list of features for modeling\n",
    "vars_to_keep = ['hotel',\n",
    "                ...]\n",
    "data_rdd2 = data_rdd.select([is_canceled]+vars_to_keep)"
   ]
  },
  {
   "cell_type": "code",
   "execution_count": null,
   "metadata": {},
   "outputs": [],
   "source": [
    "iterations = 10\n",
    "#target = is_canceled"
   ]
  },
  {
   "cell_type": "code",
   "execution_count": 29,
   "metadata": {},
   "outputs": [
    {
     "ename": "NameError",
     "evalue": "name 'data_rdd' is not defined",
     "output_type": "error",
     "traceback": [
      "\u001b[0;31m---------------------------------------------------------------------------\u001b[0m",
      "\u001b[0;31mNameError\u001b[0m                                 Traceback (most recent call last)",
      "\u001b[0;32m<ipython-input-29-3baaef521655>\u001b[0m in \u001b[0;36m<module>\u001b[0;34m\u001b[0m\n\u001b[1;32m      1\u001b[0m \u001b[0;31m# Show some rows to be sure things look ok.\u001b[0m\u001b[0;34m\u001b[0m\u001b[0;34m\u001b[0m\u001b[0;34m\u001b[0m\u001b[0m\n\u001b[0;32m----> 2\u001b[0;31m \u001b[0mdata_rdd\u001b[0m\u001b[0;34m.\u001b[0m\u001b[0mshow\u001b[0m\u001b[0;34m(\u001b[0m\u001b[0;36m5\u001b[0m\u001b[0;34m)\u001b[0m\u001b[0;34m\u001b[0m\u001b[0;34m\u001b[0m\u001b[0m\n\u001b[0m",
      "\u001b[0;31mNameError\u001b[0m: name 'data_rdd' is not defined"
     ]
    }
   ],
   "source": [
    "# Show some rows to be sure things look ok.\n",
    "data_rdd.show(5)"
   ]
  },
  {
   "cell_type": "code",
   "execution_count": 93,
   "metadata": {},
   "outputs": [],
   "source": [
    "#code for defining AUC for classfication (taken from last breast cancer assignment)\n",
    "\n",
    "def compute_univariate_aucs(df, target, training_fraction, iters, seed):\n",
    "\n",
    "    # split the data into train/test using seed\n",
    "    data_train, data_test = df.randomSplit(training_fraction, seed)\n",
    "    \n",
    "    # list of predictor variables\n",
    "    vars = vars_to_keep\n",
    "    \n",
    "    # results storage\n",
    "    df_auc = pd.DataFrame(index=vars, columns=['weight','auroc'])    \n",
    "\n",
    "    for v in vars:    \n",
    "        print('=== analysis of variable: {}'.format(v))\n",
    "\n",
    "        # create train and test dataframes with columns: target, v\n",
    "        datai_tr = data_train.select([target]+[v])\n",
    "        datai_te = data_test.select([target]+[v])\n",
    "\n",
    "        # cast to LabeledPoint\n",
    "        # train\n",
    "        datai_tr_lp = datai_tr \\\n",
    "                     .rdd \\\n",
    "                     .map(lambda row: reg.LabeledPoint(row[0], row[1:]))\n",
    "        \n",
    "        # test\n",
    "        datai_te_lp = datai_te\\\n",
    "                      .rdd\\\n",
    "                      .map(lambda row: reg.LabeledPoint(row[0], row[1:]))\n",
    "\n",
    "        # train logistic regression, setting iterations, including intercept\n",
    "        LR_Model = LogisticRegressionWithLBFGS.train(datai_tr_lp, iterations=iters, intercept=True)\n",
    "\n",
    "        # from test set, zip labels with predicted labels and cast to float\n",
    "        #p.label    # gives label\n",
    "        #p.features # gives features\n",
    "        #comment out because following results say 'p is not defined'\n",
    "        \n",
    "        act_pred_test_set = datai_te_lp.map(lambda p: (p.label, LR_Model.predict(p.features))) \\\n",
    "                                            .map(lambda row: (row[0], row[1] * 1.0))\n",
    "        \n",
    "        metrics = BinaryClassificationMetrics(act_pred_test_set)\n",
    "        # metrics.areaUnderROC\n",
    "        \n",
    "        df_auc['weight'].loc[v] = LR_Model.weights  # store the weights\n",
    "        df_auc['auroc'].loc[v] = metrics.areaUnderROC # extract AUROC\n",
    "        print('=== completed analysis of variable: {}'.format(v))\n",
    "        \n",
    "    df_auc.sort_values(by='auroc', ascending=False, inplace=True)\n",
    "    \n",
    "    return df_auc"
   ]
  },
  {
   "cell_type": "code",
   "execution_count": null,
   "metadata": {},
   "outputs": [],
   "source": [
    "#not downsample dataframe using ITERS and SEED that was defined\n",
    "compute_univariate_aucs(data_rdd2, is_canceled, training_fraction, ITERS, SEED)"
   ]
  },
  {
   "cell_type": "markdown",
   "metadata": {},
   "source": [
    "#### Champion or Sophisticated Model"
   ]
  },
  {
   "cell_type": "code",
   "execution_count": null,
   "metadata": {},
   "outputs": [],
   "source": []
  },
  {
   "cell_type": "code",
   "execution_count": null,
   "metadata": {},
   "outputs": [],
   "source": []
  },
  {
   "cell_type": "code",
   "execution_count": null,
   "metadata": {},
   "outputs": [],
   "source": []
  },
  {
   "cell_type": "code",
   "execution_count": null,
   "metadata": {},
   "outputs": [],
   "source": []
  }
 ],
 "metadata": {
  "kernelspec": {
   "display_name": "Python 3",
   "language": "python",
   "name": "python3"
  },
  "language_info": {
   "codemirror_mode": {
    "name": "ipython",
    "version": 3
   },
   "file_extension": ".py",
   "mimetype": "text/x-python",
   "name": "python",
   "nbconvert_exporter": "python",
   "pygments_lexer": "ipython3",
   "version": "3.7.3"
  }
 },
 "nbformat": 4,
 "nbformat_minor": 4
}

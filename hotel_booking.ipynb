{
 "cells": [
  {
   "cell_type": "markdown",
   "metadata": {},
   "source": [
    "# Big Data Analytics of Hotel Bookings"
   ]
  },
  {
   "cell_type": "markdown",
   "metadata": {},
   "source": [
    "### Data Import"
   ]
  },
  {
   "cell_type": "code",
   "execution_count": 1,
   "metadata": {},
   "outputs": [],
   "source": [
    "# import modules\n",
    "import pandas as pd\n",
    "from pyspark.sql import SparkSession"
   ]
  },
  {
   "cell_type": "code",
   "execution_count": 2,
   "metadata": {},
   "outputs": [],
   "source": [
    "# build spark session and spark context\n",
    "spark = SparkSession.builder \\\n",
    "        .appName(\"hotel\") \\\n",
    "        .getOrCreate()\n",
    "sc = spark.sparkContext"
   ]
  },
  {
   "cell_type": "code",
   "execution_count": 3,
   "metadata": {},
   "outputs": [
    {
     "data": {
      "text/plain": [
       "[Row(hotel='Resort Hotel', is_canceled=0, lead_time=342, arrival_date_year=2015, arrival_date_month='July', arrival_date_week_number=27, arrival_date_day_of_month=1, stays_in_weekend_nights=0, stays_in_week_nights=0, adults=2, children='0', babies=0, meal='BB', country='PRT', market_segment='Direct', distribution_channel='Direct', is_repeated_guest=0, previous_cancellations=0, previous_bookings_not_canceled=0, reserved_room_type='C', assigned_room_type='C', booking_changes=3, deposit_type='No Deposit', agent='NULL', company='NULL', days_in_waiting_list=0, customer_type='Transient', adr=0.0, required_car_parking_spaces=0, total_of_special_requests=0, reservation_status='Check-Out', reservation_status_date='2015-07-01'),\n",
       " Row(hotel='Resort Hotel', is_canceled=0, lead_time=737, arrival_date_year=2015, arrival_date_month='July', arrival_date_week_number=27, arrival_date_day_of_month=1, stays_in_weekend_nights=0, stays_in_week_nights=0, adults=2, children='0', babies=0, meal='BB', country='PRT', market_segment='Direct', distribution_channel='Direct', is_repeated_guest=0, previous_cancellations=0, previous_bookings_not_canceled=0, reserved_room_type='C', assigned_room_type='C', booking_changes=4, deposit_type='No Deposit', agent='NULL', company='NULL', days_in_waiting_list=0, customer_type='Transient', adr=0.0, required_car_parking_spaces=0, total_of_special_requests=0, reservation_status='Check-Out', reservation_status_date='2015-07-01')]"
      ]
     },
     "execution_count": 3,
     "metadata": {},
     "output_type": "execute_result"
    }
   ],
   "source": [
    "df = spark.read.csv('hotel_bookings.csv',  inferSchema=True, header = True)\n",
    "df.take(2)"
   ]
  },
  {
   "cell_type": "code",
   "execution_count": 4,
   "metadata": {},
   "outputs": [
    {
     "name": "stdout",
     "output_type": "stream",
     "text": [
      "root\n",
      " |-- hotel: string (nullable = true)\n",
      " |-- is_canceled: integer (nullable = true)\n",
      " |-- lead_time: integer (nullable = true)\n",
      " |-- arrival_date_year: integer (nullable = true)\n",
      " |-- arrival_date_month: string (nullable = true)\n",
      " |-- arrival_date_week_number: integer (nullable = true)\n",
      " |-- arrival_date_day_of_month: integer (nullable = true)\n",
      " |-- stays_in_weekend_nights: integer (nullable = true)\n",
      " |-- stays_in_week_nights: integer (nullable = true)\n",
      " |-- adults: integer (nullable = true)\n",
      " |-- children: string (nullable = true)\n",
      " |-- babies: integer (nullable = true)\n",
      " |-- meal: string (nullable = true)\n",
      " |-- country: string (nullable = true)\n",
      " |-- market_segment: string (nullable = true)\n",
      " |-- distribution_channel: string (nullable = true)\n",
      " |-- is_repeated_guest: integer (nullable = true)\n",
      " |-- previous_cancellations: integer (nullable = true)\n",
      " |-- previous_bookings_not_canceled: integer (nullable = true)\n",
      " |-- reserved_room_type: string (nullable = true)\n",
      " |-- assigned_room_type: string (nullable = true)\n",
      " |-- booking_changes: integer (nullable = true)\n",
      " |-- deposit_type: string (nullable = true)\n",
      " |-- agent: string (nullable = true)\n",
      " |-- company: string (nullable = true)\n",
      " |-- days_in_waiting_list: integer (nullable = true)\n",
      " |-- customer_type: string (nullable = true)\n",
      " |-- adr: double (nullable = true)\n",
      " |-- required_car_parking_spaces: integer (nullable = true)\n",
      " |-- total_of_special_requests: integer (nullable = true)\n",
      " |-- reservation_status: string (nullable = true)\n",
      " |-- reservation_status_date: string (nullable = true)\n",
      "\n"
     ]
    }
   ],
   "source": [
    "# view columns and schema\n",
    "df.printSchema()"
   ]
  },
  {
   "cell_type": "markdown",
   "metadata": {},
   "source": [
    "### Data Preprocessing"
   ]
  },
  {
   "cell_type": "code",
   "execution_count": 5,
   "metadata": {},
   "outputs": [
    {
     "name": "stdout",
     "output_type": "stream",
     "text": [
      "+-----+-----------+---------+-----------------+------------------+------------------------+-------------------------+-----------------------+--------------------+------+--------+------+----+-------+--------------+--------------------+-----------------+----------------------+------------------------------+------------------+------------------+---------------+------------+-----+-------+--------------------+-------------+---+---------------------------+-------------------------+------------------+-----------------------+\n",
      "|hotel|is_canceled|lead_time|arrival_date_year|arrival_date_month|arrival_date_week_number|arrival_date_day_of_month|stays_in_weekend_nights|stays_in_week_nights|adults|children|babies|meal|country|market_segment|distribution_channel|is_repeated_guest|previous_cancellations|previous_bookings_not_canceled|reserved_room_type|assigned_room_type|booking_changes|deposit_type|agent|company|days_in_waiting_list|customer_type|adr|required_car_parking_spaces|total_of_special_requests|reservation_status|reservation_status_date|\n",
      "+-----+-----------+---------+-----------------+------------------+------------------------+-------------------------+-----------------------+--------------------+------+--------+------+----+-------+--------------+--------------------+-----------------+----------------------+------------------------------+------------------+------------------+---------------+------------+-----+-------+--------------------+-------------+---+---------------------------+-------------------------+------------------+-----------------------+\n",
      "|    0|          0|        0|                0|                 0|                       0|                        0|                      0|                   0|     0|       4|     0|   0|    488|             0|                   0|                0|                     0|                             0|                 0|                 0|              0|           0|16340| 112593|                   0|            0|  0|                          0|                        0|                 0|                      0|\n",
      "+-----+-----------+---------+-----------------+------------------+------------------------+-------------------------+-----------------------+--------------------+------+--------+------+----+-------+--------------+--------------------+-----------------+----------------------+------------------------------+------------------+------------------+---------------+------------+-----+-------+--------------------+-------------+---+---------------------------+-------------------------+------------------+-----------------------+\n",
      "\n"
     ]
    }
   ],
   "source": [
    "# replace the strings \"NULL\" and \"NA\" with null value\n",
    "df_withNull = df.replace('NULL', None).replace('NA', None)\n",
    "\n",
    "# view number of null values per column\n",
    "from pyspark.sql.functions import isnan, when, count, col\n",
    "df_withNull.select([count(when(col(c).isNull(), c)).alias(c) for c in df_withNull.columns]).show()"
   ]
  },
  {
   "cell_type": "code",
   "execution_count": 6,
   "metadata": {},
   "outputs": [],
   "source": [
    "# replace null values in 'children' to 0 since there are only 4\n",
    "df2 = df_withNull.fillna({'children':0})\n",
    "\n",
    "# replace 'children' datatype to int\n",
    "df2 = df2.withColumn('children', col('children').cast(\"Int\"))"
   ]
  },
  {
   "cell_type": "code",
   "execution_count": 7,
   "metadata": {},
   "outputs": [],
   "source": [
    "# drop 'company' and 'agent' due to high null count\n",
    "df2 = df2.drop('agent', 'company','country', 'arrival_date_week_number')\n",
    "\n"
   ]
  },
  {
   "cell_type": "code",
   "execution_count": null,
   "metadata": {},
   "outputs": [],
   "source": []
  },
  {
   "cell_type": "code",
   "execution_count": 8,
   "metadata": {},
   "outputs": [
    {
     "data": {
      "text/plain": [
       "[('hotel', 'string'),\n",
       " ('is_canceled', 'int'),\n",
       " ('lead_time', 'int'),\n",
       " ('arrival_date_year', 'int'),\n",
       " ('arrival_date_month', 'string'),\n",
       " ('arrival_date_day_of_month', 'int'),\n",
       " ('stays_in_weekend_nights', 'int'),\n",
       " ('stays_in_week_nights', 'int'),\n",
       " ('adults', 'int'),\n",
       " ('children', 'int'),\n",
       " ('babies', 'int'),\n",
       " ('meal', 'string'),\n",
       " ('market_segment', 'string'),\n",
       " ('distribution_channel', 'string'),\n",
       " ('is_repeated_guest', 'int'),\n",
       " ('previous_cancellations', 'int'),\n",
       " ('previous_bookings_not_canceled', 'int'),\n",
       " ('reserved_room_type', 'string'),\n",
       " ('assigned_room_type', 'string'),\n",
       " ('booking_changes', 'int'),\n",
       " ('deposit_type', 'string'),\n",
       " ('days_in_waiting_list', 'int'),\n",
       " ('customer_type', 'string'),\n",
       " ('adr', 'double'),\n",
       " ('required_car_parking_spaces', 'int'),\n",
       " ('total_of_special_requests', 'int'),\n",
       " ('reservation_status', 'string'),\n",
       " ('reservation_status_date', 'string')]"
      ]
     },
     "execution_count": 8,
     "metadata": {},
     "output_type": "execute_result"
    }
   ],
   "source": [
    "df2.dtypes"
   ]
  },
  {
   "cell_type": "code",
   "execution_count": 9,
   "metadata": {},
   "outputs": [
    {
     "name": "stdout",
     "output_type": "stream",
     "text": [
      "+------------------+-----+\n",
      "|arrival_date_month|count|\n",
      "+------------------+-----+\n",
      "|              July|12661|\n",
      "|          November| 6794|\n",
      "|          February| 8068|\n",
      "|           January| 5929|\n",
      "|             March| 9794|\n",
      "|           October|11160|\n",
      "|               May|11791|\n",
      "|            August|13877|\n",
      "|             April|11089|\n",
      "|              June|10939|\n",
      "|          December| 6780|\n",
      "|         September|10508|\n",
      "+------------------+-----+\n",
      "\n"
     ]
    }
   ],
   "source": [
    "df2.groupBy('arrival_date_month').count().show()"
   ]
  },
  {
   "cell_type": "code",
   "execution_count": 10,
   "metadata": {},
   "outputs": [],
   "source": [
    "#month_num = df2.replace('January', '1')\\\n",
    "#                .replace('February', '2')\\\n",
    "#                .replace('March', '3')\\\n",
    "#                .replace('April', '4')\\\n",
    "#                .replace('May', '5')\\\n",
    "#                .replace('June', '6')\n",
    "\n"
   ]
  },
  {
   "cell_type": "code",
   "execution_count": 11,
   "metadata": {},
   "outputs": [],
   "source": [
    "#month_num = month_num.replace('July', '7')\\\n",
    "#                      .replace('August', '8')\\\n",
    "#                .replace('September', '9')\\\n",
    "#                .replace('October', '10')\\\n",
    "#                .replace('November', '11')\\\n",
    "#                .replace('December', '12')\n",
    "\n"
   ]
  },
  {
   "cell_type": "code",
   "execution_count": null,
   "metadata": {},
   "outputs": [],
   "source": []
  },
  {
   "cell_type": "code",
   "execution_count": null,
   "metadata": {},
   "outputs": [],
   "source": []
  },
  {
   "cell_type": "markdown",
   "metadata": {},
   "source": [
    "**Data Preprocessing Todo's**\n",
    "- map arrival_date_month from strings to numbers: so \"January\" = 1, etc.\n",
    "- numerically encode all the other string variables, otherwise remove them  "
   ]
  },
  {
   "cell_type": "code",
   "execution_count": 12,
   "metadata": {},
   "outputs": [
    {
     "data": {
      "text/plain": [
       "Ellipsis"
      ]
     },
     "execution_count": 12,
     "metadata": {},
     "output_type": "execute_result"
    }
   ],
   "source": [
    "# numerically encode arrival_date_month\n",
    "\n",
    "\n",
    "..."
   ]
  },
  {
   "cell_type": "code",
   "execution_count": 13,
   "metadata": {},
   "outputs": [
    {
     "name": "stdout",
     "output_type": "stream",
     "text": [
      "+----+-----+\n",
      "|meal|count|\n",
      "+----+-----+\n",
      "|  SC|11819|\n",
      "|  FB|  798|\n",
      "|  BB|92310|\n",
      "|  HB|14463|\n",
      "+----+-----+\n",
      "\n"
     ]
    }
   ],
   "source": [
    "# for 'meal': undefined/SC are same, they mean no meal package. BB is bed&breakfast, HB is breakfast and dinner, and FB is full breakfast lunch and dinner\n",
    "\n",
    "# replace Undefined with SC in meal package\n",
    "df2 = df2.replace('Undefined', 'SC')\n",
    "\n",
    "# see value counts for 'meal'\n",
    "df2.groupBy('meal').count().show()"
   ]
  },
  {
   "cell_type": "code",
   "execution_count": 14,
   "metadata": {},
   "outputs": [],
   "source": [
    "#numerically encode all columns of type string\n",
    "\n",
    "from pyspark.ml import Pipeline\n",
    "from pyspark.ml.feature import OneHotEncoder, OneHotEncoderModel, StringIndexer\n",
    "\n",
    "\n",
    "col_string=['hotel', 'arrival_date_month','meal','market_segment','distribution_channel','reserved_room_type','assigned_room_type','deposit_type','customer_type','reservation_status','reservation_status_date']\n",
    "col_num=[x+\"_NUMERIC\" for x in col_string]\n",
    "\n",
    "#add other columns for encoding\n",
    "col_num=col_num+['arrival_date_year','arrival_date_day_of_month']\n",
    "\n",
    "col_oh=[x+\"_oh\" for x in col_string]\n",
    "\n",
    "col_oh=col_oh+['arrival_date_year_oh','arrival_date_day_of_month_oh']\n",
    "\n"
   ]
  },
  {
   "cell_type": "code",
   "execution_count": 15,
   "metadata": {},
   "outputs": [],
   "source": [
    "indexers = [StringIndexer(inputCol=column, outputCol=column+\"_NUMERIC\").fit(df2) for column in col_string]\n",
    "pipeline = Pipeline(stages=indexers)\n",
    "df_indexed = pipeline.fit(df2).transform(df2)\n",
    "\n"
   ]
  },
  {
   "cell_type": "code",
   "execution_count": 16,
   "metadata": {},
   "outputs": [
    {
     "data": {
      "text/plain": [
       "[('hotel', 'string'),\n",
       " ('is_canceled', 'int'),\n",
       " ('lead_time', 'int'),\n",
       " ('arrival_date_year', 'int'),\n",
       " ('arrival_date_month', 'string'),\n",
       " ('arrival_date_day_of_month', 'int'),\n",
       " ('stays_in_weekend_nights', 'int'),\n",
       " ('stays_in_week_nights', 'int'),\n",
       " ('adults', 'int'),\n",
       " ('children', 'int'),\n",
       " ('babies', 'int'),\n",
       " ('meal', 'string'),\n",
       " ('market_segment', 'string'),\n",
       " ('distribution_channel', 'string'),\n",
       " ('is_repeated_guest', 'int'),\n",
       " ('previous_cancellations', 'int'),\n",
       " ('previous_bookings_not_canceled', 'int'),\n",
       " ('reserved_room_type', 'string'),\n",
       " ('assigned_room_type', 'string'),\n",
       " ('booking_changes', 'int'),\n",
       " ('deposit_type', 'string'),\n",
       " ('days_in_waiting_list', 'int'),\n",
       " ('customer_type', 'string'),\n",
       " ('adr', 'double'),\n",
       " ('required_car_parking_spaces', 'int'),\n",
       " ('total_of_special_requests', 'int'),\n",
       " ('reservation_status', 'string'),\n",
       " ('reservation_status_date', 'string'),\n",
       " ('hotel_NUMERIC', 'double'),\n",
       " ('arrival_date_month_NUMERIC', 'double'),\n",
       " ('meal_NUMERIC', 'double'),\n",
       " ('market_segment_NUMERIC', 'double'),\n",
       " ('distribution_channel_NUMERIC', 'double'),\n",
       " ('reserved_room_type_NUMERIC', 'double'),\n",
       " ('assigned_room_type_NUMERIC', 'double'),\n",
       " ('deposit_type_NUMERIC', 'double'),\n",
       " ('customer_type_NUMERIC', 'double'),\n",
       " ('reservation_status_NUMERIC', 'double'),\n",
       " ('reservation_status_date_NUMERIC', 'double')]"
      ]
     },
     "execution_count": 16,
     "metadata": {},
     "output_type": "execute_result"
    }
   ],
   "source": [
    "\n",
    "df_indexed.dtypes"
   ]
  },
  {
   "cell_type": "code",
   "execution_count": null,
   "metadata": {},
   "outputs": [],
   "source": []
  },
  {
   "cell_type": "code",
   "execution_count": 17,
   "metadata": {},
   "outputs": [],
   "source": [
    "#one-hot encode all columns in col_num\n",
    "\n",
    "ohe = OneHotEncoder(dropLast=False)\n",
    "ohe.setInputCols(col_num)\n",
    "ohe.setOutputCols(col_oh)\n",
    "model = ohe.fit(df_indexed)\n",
    "\n",
    "df_casted=model.transform(df_indexed)\n"
   ]
  },
  {
   "cell_type": "code",
   "execution_count": 18,
   "metadata": {},
   "outputs": [
    {
     "data": {
      "text/plain": [
       "[('hotel', 'string'),\n",
       " ('is_canceled', 'int'),\n",
       " ('lead_time', 'int'),\n",
       " ('arrival_date_year', 'int'),\n",
       " ('arrival_date_month', 'string'),\n",
       " ('arrival_date_day_of_month', 'int'),\n",
       " ('stays_in_weekend_nights', 'int'),\n",
       " ('stays_in_week_nights', 'int'),\n",
       " ('adults', 'int'),\n",
       " ('children', 'int'),\n",
       " ('babies', 'int'),\n",
       " ('meal', 'string'),\n",
       " ('market_segment', 'string'),\n",
       " ('distribution_channel', 'string'),\n",
       " ('is_repeated_guest', 'int'),\n",
       " ('previous_cancellations', 'int'),\n",
       " ('previous_bookings_not_canceled', 'int'),\n",
       " ('reserved_room_type', 'string'),\n",
       " ('assigned_room_type', 'string'),\n",
       " ('booking_changes', 'int'),\n",
       " ('deposit_type', 'string'),\n",
       " ('days_in_waiting_list', 'int'),\n",
       " ('customer_type', 'string'),\n",
       " ('adr', 'double'),\n",
       " ('required_car_parking_spaces', 'int'),\n",
       " ('total_of_special_requests', 'int'),\n",
       " ('reservation_status', 'string'),\n",
       " ('reservation_status_date', 'string'),\n",
       " ('hotel_NUMERIC', 'double'),\n",
       " ('arrival_date_month_NUMERIC', 'double'),\n",
       " ('meal_NUMERIC', 'double'),\n",
       " ('market_segment_NUMERIC', 'double'),\n",
       " ('distribution_channel_NUMERIC', 'double'),\n",
       " ('reserved_room_type_NUMERIC', 'double'),\n",
       " ('assigned_room_type_NUMERIC', 'double'),\n",
       " ('deposit_type_NUMERIC', 'double'),\n",
       " ('customer_type_NUMERIC', 'double'),\n",
       " ('reservation_status_NUMERIC', 'double'),\n",
       " ('reservation_status_date_NUMERIC', 'double'),\n",
       " ('distribution_channel_oh', 'vector'),\n",
       " ('customer_type_oh', 'vector'),\n",
       " ('reservation_status_date_oh', 'vector'),\n",
       " ('arrival_date_day_of_month_oh', 'vector'),\n",
       " ('reservation_status_oh', 'vector'),\n",
       " ('market_segment_oh', 'vector'),\n",
       " ('reserved_room_type_oh', 'vector'),\n",
       " ('assigned_room_type_oh', 'vector'),\n",
       " ('meal_oh', 'vector'),\n",
       " ('hotel_oh', 'vector'),\n",
       " ('deposit_type_oh', 'vector'),\n",
       " ('arrival_date_year_oh', 'vector'),\n",
       " ('arrival_date_month_oh', 'vector')]"
      ]
     },
     "execution_count": 18,
     "metadata": {},
     "output_type": "execute_result"
    }
   ],
   "source": [
    "df_casted.dtypes"
   ]
  },
  {
   "cell_type": "code",
   "execution_count": 19,
   "metadata": {},
   "outputs": [
    {
     "name": "stdout",
     "output_type": "stream",
     "text": [
      "+---------------+------+\n",
      "|booking_changes| count|\n",
      "+---------------+------+\n",
      "|             12|     2|\n",
      "|              1| 12701|\n",
      "|             13|     5|\n",
      "|              6|    63|\n",
      "|             16|     2|\n",
      "|              3|   927|\n",
      "|             20|     1|\n",
      "|              5|   118|\n",
      "|             15|     3|\n",
      "|             17|     2|\n",
      "|              9|     8|\n",
      "|              4|   376|\n",
      "|              8|    17|\n",
      "|              7|    31|\n",
      "|             10|     6|\n",
      "|             21|     1|\n",
      "|             11|     2|\n",
      "|             14|     5|\n",
      "|              2|  3805|\n",
      "|              0|101314|\n",
      "+---------------+------+\n",
      "only showing top 20 rows\n",
      "\n"
     ]
    }
   ],
   "source": [
    "#check oh encoded df_casted\n",
    "\n",
    "\n",
    "df_casted.groupBy('booking_changes').count().show()\n",
    "\n",
    "\n"
   ]
  },
  {
   "cell_type": "code",
   "execution_count": 20,
   "metadata": {},
   "outputs": [
    {
     "name": "stdout",
     "output_type": "stream",
     "text": [
      "+--------------------+-----+\n",
      "|arrival_date_year_oh|count|\n",
      "+--------------------+-----+\n",
      "| (2018,[2017],[1.0])|40687|\n",
      "| (2018,[2015],[1.0])|21996|\n",
      "| (2018,[2016],[1.0])|56707|\n",
      "+--------------------+-----+\n",
      "\n"
     ]
    }
   ],
   "source": [
    "df_casted.groupBy('arrival_date_year_oh').count().show()"
   ]
  },
  {
   "cell_type": "code",
   "execution_count": 30,
   "metadata": {},
   "outputs": [],
   "source": [
    "df_encoded=df_casted.drop(*col_string)\n",
    "df_encoded=df_encoded.drop(*col_num)"
   ]
  },
  {
   "cell_type": "code",
   "execution_count": 22,
   "metadata": {},
   "outputs": [
    {
     "data": {
      "text/plain": [
       "[('is_canceled', 'int'),\n",
       " ('lead_time', 'int'),\n",
       " ('stays_in_weekend_nights', 'int'),\n",
       " ('stays_in_week_nights', 'int'),\n",
       " ('adults', 'int'),\n",
       " ('children', 'int'),\n",
       " ('babies', 'int'),\n",
       " ('is_repeated_guest', 'int'),\n",
       " ('previous_cancellations', 'int'),\n",
       " ('previous_bookings_not_canceled', 'int'),\n",
       " ('booking_changes', 'int'),\n",
       " ('days_in_waiting_list', 'int'),\n",
       " ('adr', 'double'),\n",
       " ('required_car_parking_spaces', 'int'),\n",
       " ('total_of_special_requests', 'int'),\n",
       " ('distribution_channel_oh', 'vector'),\n",
       " ('customer_type_oh', 'vector'),\n",
       " ('reservation_status_date_oh', 'vector'),\n",
       " ('arrival_date_day_of_month_oh', 'vector'),\n",
       " ('reservation_status_oh', 'vector'),\n",
       " ('market_segment_oh', 'vector'),\n",
       " ('reserved_room_type_oh', 'vector'),\n",
       " ('assigned_room_type_oh', 'vector'),\n",
       " ('meal_oh', 'vector'),\n",
       " ('hotel_oh', 'vector'),\n",
       " ('deposit_type_oh', 'vector'),\n",
       " ('arrival_date_year_oh', 'vector'),\n",
       " ('arrival_date_month_oh', 'vector')]"
      ]
     },
     "execution_count": 22,
     "metadata": {},
     "output_type": "execute_result"
    }
   ],
   "source": [
    "df_encoded.dtypes"
   ]
  },
  {
   "cell_type": "code",
   "execution_count": 23,
   "metadata": {},
   "outputs": [
    {
     "name": "stdout",
     "output_type": "stream",
     "text": [
      "+---------------------+-----+\n",
      "|arrival_date_month_oh|count|\n",
      "+---------------------+-----+\n",
      "|       (12,[0],[1.0])|13877|\n",
      "|       (12,[9],[1.0])| 6794|\n",
      "|       (12,[8],[1.0])| 8068|\n",
      "|      (12,[10],[1.0])| 6780|\n",
      "|       (12,[1],[1.0])|12661|\n",
      "|       (12,[4],[1.0])|11089|\n",
      "|       (12,[3],[1.0])|11160|\n",
      "|       (12,[6],[1.0])|10508|\n",
      "|       (12,[5],[1.0])|10939|\n",
      "|       (12,[2],[1.0])|11791|\n",
      "|       (12,[7],[1.0])| 9794|\n",
      "|      (12,[11],[1.0])| 5929|\n",
      "+---------------------+-----+\n",
      "\n"
     ]
    }
   ],
   "source": [
    "df_encoded.groupBy('arrival_date_month_oh').count().show()"
   ]
  },
  {
   "cell_type": "code",
   "execution_count": 24,
   "metadata": {},
   "outputs": [
    {
     "name": "stdout",
     "output_type": "stream",
     "text": [
      "+-----------+---------+-----------------------+--------------------+------+--------+------+-----------------+----------------------+------------------------------+---------------+--------------------+---+---------------------------+-------------------------+-----------------------+----------------+--------------------------+----------------------------+---------------------+-----------------+---------------------+---------------------+-------------+-------------+---------------+--------------------+---------------------+\n",
      "|is_canceled|lead_time|stays_in_weekend_nights|stays_in_week_nights|adults|children|babies|is_repeated_guest|previous_cancellations|previous_bookings_not_canceled|booking_changes|days_in_waiting_list|adr|required_car_parking_spaces|total_of_special_requests|distribution_channel_oh|customer_type_oh|reservation_status_date_oh|arrival_date_day_of_month_oh|reservation_status_oh|market_segment_oh|reserved_room_type_oh|assigned_room_type_oh|      meal_oh|     hotel_oh|deposit_type_oh|arrival_date_year_oh|arrival_date_month_oh|\n",
      "+-----------+---------+-----------------------+--------------------+------+--------+------+-----------------+----------------------+------------------------------+---------------+--------------------+---+---------------------------+-------------------------+-----------------------+----------------+--------------------------+----------------------------+---------------------+-----------------+---------------------+---------------------+-------------+-------------+---------------+--------------------+---------------------+\n",
      "|          0|      342|                      0|                   0|     2|       0|     0|                0|                     0|                             0|              3|                   0|0.0|                          0|                        0|          (5,[1],[1.0])|   (4,[0],[1.0])|         (926,[825],[1.0])|              (32,[1],[1.0])|        (3,[0],[1.0])|    (8,[3],[1.0])|       (10,[6],[1.0])|       (12,[5],[1.0])|(4,[0],[1.0])|(2,[1],[1.0])|  (3,[0],[1.0])| (2018,[2015],[1.0])|       (12,[1],[1.0])|\n",
      "|          0|      737|                      0|                   0|     2|       0|     0|                0|                     0|                             0|              4|                   0|0.0|                          0|                        0|          (5,[1],[1.0])|   (4,[0],[1.0])|         (926,[825],[1.0])|              (32,[1],[1.0])|        (3,[0],[1.0])|    (8,[3],[1.0])|       (10,[6],[1.0])|       (12,[5],[1.0])|(4,[0],[1.0])|(2,[1],[1.0])|  (3,[0],[1.0])| (2018,[2015],[1.0])|       (12,[1],[1.0])|\n",
      "+-----------+---------+-----------------------+--------------------+------+--------+------+-----------------+----------------------+------------------------------+---------------+--------------------+---+---------------------------+-------------------------+-----------------------+----------------+--------------------------+----------------------------+---------------------+-----------------+---------------------+---------------------+-------------+-------------+---------------+--------------------+---------------------+\n",
      "only showing top 2 rows\n",
      "\n"
     ]
    }
   ],
   "source": [
    "df_encoded.show(2)"
   ]
  },
  {
   "cell_type": "code",
   "execution_count": 25,
   "metadata": {},
   "outputs": [
    {
     "data": {
      "text/plain": [
       "['is_canceled',\n",
       " 'lead_time',\n",
       " 'stays_in_weekend_nights',\n",
       " 'stays_in_week_nights',\n",
       " 'adults',\n",
       " 'children',\n",
       " 'babies',\n",
       " 'is_repeated_guest',\n",
       " 'previous_cancellations',\n",
       " 'previous_bookings_not_canceled',\n",
       " 'booking_changes',\n",
       " 'days_in_waiting_list',\n",
       " 'adr',\n",
       " 'required_car_parking_spaces',\n",
       " 'total_of_special_requests',\n",
       " 'distribution_channel_oh',\n",
       " 'customer_type_oh',\n",
       " 'reservation_status_date_oh',\n",
       " 'arrival_date_day_of_month_oh',\n",
       " 'reservation_status_oh',\n",
       " 'market_segment_oh',\n",
       " 'reserved_room_type_oh',\n",
       " 'assigned_room_type_oh',\n",
       " 'meal_oh',\n",
       " 'hotel_oh',\n",
       " 'deposit_type_oh',\n",
       " 'arrival_date_year_oh',\n",
       " 'arrival_date_month_oh']"
      ]
     },
     "execution_count": 25,
     "metadata": {},
     "output_type": "execute_result"
    }
   ],
   "source": [
    "columns_ = df_encoded.columns\n",
    "columns_"
   ]
  },
  {
   "cell_type": "code",
   "execution_count": null,
   "metadata": {},
   "outputs": [],
   "source": []
  },
  {
   "cell_type": "code",
   "execution_count": 44,
   "metadata": {},
   "outputs": [
    {
     "name": "stdout",
     "output_type": "stream",
     "text": [
      "Normalized using L^1 norm\n"
     ]
    }
   ],
   "source": [
    "from pyspark.ml.feature import Normalizer\n",
    "from pyspark.ml.linalg import Vectors\n",
    "\n",
    "df_encoded=df_casted.drop(*col_string)\n",
    "df_encoded=df_encoded.drop(*col_num)\n",
    "\n",
    "#columns of all vector type data that are going to be normalied \n",
    "columns_ = ['distribution_channel_oh',\n",
    " 'customer_type_oh',\n",
    " 'reservation_status_date_oh',\n",
    " 'arrival_date_day_of_month_oh',\n",
    " 'reservation_status_oh',\n",
    " 'market_segment_oh',\n",
    " 'reserved_room_type_oh',\n",
    " 'assigned_room_type_oh',\n",
    " 'meal_oh',\n",
    " 'hotel_oh',\n",
    " 'deposit_type_oh',\n",
    " 'arrival_date_year_oh',\n",
    " 'arrival_date_month_oh']\n",
    "\n",
    "\n",
    "#normalizing all vector type data with l^1 norm\n",
    "for column in columns_:\n",
    "    normalizer = Normalizer(inputCol=column, outputCol=column+\"_NORM\", p=1.0) \n",
    "    l1NormData = normalizer.transform(df_encoded)\n",
    "    df_encoded = l1NormData\n",
    "l1NormData = df_encoded\n",
    "print(\"Normalized using L^1 norm\")\n",
    "\n",
    "l1NormData = l1NormData.drop(*columns_)\n",
    "#l1NormData.show()\n",
    "    \n",
    "\n"
   ]
  },
  {
   "cell_type": "code",
   "execution_count": 45,
   "metadata": {},
   "outputs": [
    {
     "data": {
      "text/plain": [
       "[('is_canceled', 'int'),\n",
       " ('lead_time', 'int'),\n",
       " ('stays_in_weekend_nights', 'int'),\n",
       " ('stays_in_week_nights', 'int'),\n",
       " ('adults', 'int'),\n",
       " ('children', 'int'),\n",
       " ('babies', 'int'),\n",
       " ('is_repeated_guest', 'int'),\n",
       " ('previous_cancellations', 'int'),\n",
       " ('previous_bookings_not_canceled', 'int'),\n",
       " ('booking_changes', 'int'),\n",
       " ('days_in_waiting_list', 'int'),\n",
       " ('adr', 'double'),\n",
       " ('required_car_parking_spaces', 'int'),\n",
       " ('total_of_special_requests', 'int'),\n",
       " ('distribution_channel_oh_NORM', 'vector'),\n",
       " ('customer_type_oh_NORM', 'vector'),\n",
       " ('reservation_status_date_oh_NORM', 'vector'),\n",
       " ('arrival_date_day_of_month_oh_NORM', 'vector'),\n",
       " ('reservation_status_oh_NORM', 'vector'),\n",
       " ('market_segment_oh_NORM', 'vector'),\n",
       " ('reserved_room_type_oh_NORM', 'vector'),\n",
       " ('assigned_room_type_oh_NORM', 'vector'),\n",
       " ('meal_oh_NORM', 'vector'),\n",
       " ('hotel_oh_NORM', 'vector'),\n",
       " ('deposit_type_oh_NORM', 'vector'),\n",
       " ('arrival_date_year_oh_NORM', 'vector'),\n",
       " ('arrival_date_month_oh_NORM', 'vector')]"
      ]
     },
     "execution_count": 45,
     "metadata": {},
     "output_type": "execute_result"
    }
   ],
   "source": [
    "l1NormData.dtypes"
   ]
  },
  {
   "cell_type": "code",
   "execution_count": 46,
   "metadata": {},
   "outputs": [],
   "source": [
    "# convert to RDD\n",
    "# data_rdd = df2.rdd\n",
    "\n",
    "data_rdd = df_encoded.rdd\n",
    "\n",
    "# 70/30 test train split\n",
    "train, test = data_rdd.randomSplit([0.7, 0.3], seed=42)\n",
    "\n"
   ]
  },
  {
   "cell_type": "markdown",
   "metadata": {},
   "source": [
    "### Exploratory Data Analysis"
   ]
  },
  {
   "cell_type": "code",
   "execution_count": null,
   "metadata": {},
   "outputs": [],
   "source": []
  },
  {
   "cell_type": "markdown",
   "metadata": {},
   "source": [
    "helpful links:\n",
    "- https://spark.apache.org/docs/latest/ml-guide.html \n"
   ]
  }
 ],
 "metadata": {
  "kernelspec": {
   "display_name": "Python 3",
   "language": "python",
   "name": "python3"
  },
  "language_info": {
   "codemirror_mode": {
    "name": "ipython",
    "version": 3
   },
   "file_extension": ".py",
   "mimetype": "text/x-python",
   "name": "python",
   "nbconvert_exporter": "python",
   "pygments_lexer": "ipython3",
   "version": "3.7.3"
  }
 },
 "nbformat": 4,
 "nbformat_minor": 4
}
